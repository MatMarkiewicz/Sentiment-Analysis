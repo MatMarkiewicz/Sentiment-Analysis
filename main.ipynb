{
 "cells": [
  {
   "cell_type": "code",
   "execution_count": 27,
   "metadata": {},
   "outputs": [],
   "source": [
    "# set up\n",
    "import numpy as np\n",
    "import pandas as pd\n",
    "import glob\n",
    "import re\n",
    "import string \n",
    "\n",
    "from tqdm import tqdm"
   ]
  },
  {
   "cell_type": "markdown",
   "metadata": {},
   "source": [
    "# 1. Preparing data (IMDb movies' reviews)"
   ]
  },
  {
   "cell_type": "code",
   "execution_count": 2,
   "metadata": {},
   "outputs": [],
   "source": [
    "train_pos_path = 'data_sets/movies/train/pos/*'\n",
    "train_neg_path = 'data_sets/movies/train/neg/*'\n",
    "\n",
    "train_pos = glob.glob(train_pos_path)\n",
    "train_neg = glob.glob(train_neg_path)\n",
    "\n",
    "\n",
    "test_pos_path = 'data_sets/movies/test/pos/*'\n",
    "test_neg_path = 'data_sets/movies/test/neg/*'\n",
    "\n",
    "test_pos = glob.glob(test_pos_path)\n",
    "test_neg = glob.glob(test_neg_path)"
   ]
  },
  {
   "cell_type": "code",
   "execution_count": 3,
   "metadata": {},
   "outputs": [
    {
     "data": {
      "text/plain": [
       "['data_sets/movies/train/pos\\\\0_9.txt',\n",
       " 'data_sets/movies/train/pos\\\\10000_8.txt',\n",
       " 'data_sets/movies/train/pos\\\\10001_10.txt']"
      ]
     },
     "execution_count": 3,
     "metadata": {},
     "output_type": "execute_result"
    }
   ],
   "source": [
    "train_pos[:3]"
   ]
  },
  {
   "cell_type": "code",
   "execution_count": 4,
   "metadata": {},
   "outputs": [],
   "source": [
    "train_df = []\n",
    "test_df = []"
   ]
  },
  {
   "cell_type": "code",
   "execution_count": 5,
   "metadata": {},
   "outputs": [
    {
     "name": "stderr",
     "output_type": "stream",
     "text": [
      "Getting positive train data: 100%|██████████████████████████████████████████████| 12500/12500 [00:41<00:00, 301.96it/s]\n",
      "Getting negative train data: 100%|██████████████████████████████████████████████| 12500/12500 [00:41<00:00, 298.66it/s]\n",
      "Getting positive test data: 100%|███████████████████████████████████████████████| 12500/12500 [00:40<00:00, 305.23it/s]\n",
      "Getting negative test data: 100%|███████████████████████████████████████████████| 12500/12500 [00:37<00:00, 336.68it/s]\n"
     ]
    }
   ],
   "source": [
    "for path in tqdm(train_pos, desc='Getting positive train data', position=0):\n",
    "    with open(path, encoding=\"utf8\") as f:\n",
    "        text = f.read()\n",
    "        beg, end = path.find('\\\\'), path.find('.')\n",
    "        idx, rating = path[beg+1:end].split('_')\n",
    "        train_df.append([text, rating])\n",
    "        \n",
    "        \n",
    "\n",
    "for path in tqdm(train_neg, desc='Getting negative train data', position=0):\n",
    "    with open(path, encoding=\"utf8\") as f:\n",
    "        text = f.read()\n",
    "        beg, end = path.find('\\\\'), path.find('.')\n",
    "        idx, rating = path[beg+1:end].split('_')\n",
    "        train_df.append([text, rating])\n",
    "        \n",
    "        \n",
    "        \n",
    "for path in tqdm(test_pos, desc='Getting positive test data', position=0):\n",
    "    with open(path, encoding=\"utf8\") as f:\n",
    "        text = f.read()\n",
    "        beg, end = path.find('\\\\'), path.find('.')\n",
    "        idx, rating = path[beg+1:end].split('_')\n",
    "        test_df.append([text, rating])\n",
    "        \n",
    "        \n",
    "        \n",
    "for path in tqdm(test_neg, desc='Getting negative test data', position=0):\n",
    "    with open(path, encoding=\"utf8\") as f:\n",
    "        text = f.read()\n",
    "        beg, end = path.find('\\\\'), path.find('.')\n",
    "        idx, rating = path[beg+1:end].split('_')\n",
    "        test_df.append([text, rating])"
   ]
  },
  {
   "cell_type": "code",
   "execution_count": 6,
   "metadata": {},
   "outputs": [],
   "source": [
    "train_df = pd.DataFrame(train_df, columns=['text', 'rating'])\n",
    "test_df = pd.DataFrame(test_df, columns=['text', 'rating'])"
   ]
  },
  {
   "cell_type": "code",
   "execution_count": 74,
   "metadata": {},
   "outputs": [
    {
     "name": "stdout",
     "output_type": "stream",
     "text": [
      "Records:  50000\n"
     ]
    },
    {
     "data": {
      "text/html": [
       "<div>\n",
       "<style scoped>\n",
       "    .dataframe tbody tr th:only-of-type {\n",
       "        vertical-align: middle;\n",
       "    }\n",
       "\n",
       "    .dataframe tbody tr th {\n",
       "        vertical-align: top;\n",
       "    }\n",
       "\n",
       "    .dataframe thead th {\n",
       "        text-align: right;\n",
       "    }\n",
       "</style>\n",
       "<table border=\"1\" class=\"dataframe\">\n",
       "  <thead>\n",
       "    <tr style=\"text-align: right;\">\n",
       "      <th></th>\n",
       "      <th>text</th>\n",
       "      <th>rating</th>\n",
       "    </tr>\n",
       "  </thead>\n",
       "  <tbody>\n",
       "    <tr>\n",
       "      <th>0</th>\n",
       "      <td>bromwell high is a cartoon comedy it ran at th...</td>\n",
       "      <td>9</td>\n",
       "    </tr>\n",
       "    <tr>\n",
       "      <th>1</th>\n",
       "      <td>homelessness or houselessness as george carlin...</td>\n",
       "      <td>8</td>\n",
       "    </tr>\n",
       "    <tr>\n",
       "      <th>2</th>\n",
       "      <td>brilliant overacting by lesley ann warren best...</td>\n",
       "      <td>10</td>\n",
       "    </tr>\n",
       "    <tr>\n",
       "      <th>3</th>\n",
       "      <td>this is easily the most underrated film inn th...</td>\n",
       "      <td>7</td>\n",
       "    </tr>\n",
       "    <tr>\n",
       "      <th>4</th>\n",
       "      <td>this is not the typical mel brooks film it was...</td>\n",
       "      <td>8</td>\n",
       "    </tr>\n",
       "  </tbody>\n",
       "</table>\n",
       "</div>"
      ],
      "text/plain": [
       "                                                text rating\n",
       "0  bromwell high is a cartoon comedy it ran at th...      9\n",
       "1  homelessness or houselessness as george carlin...      8\n",
       "2  brilliant overacting by lesley ann warren best...     10\n",
       "3  this is easily the most underrated film inn th...      7\n",
       "4  this is not the typical mel brooks film it was...      8"
      ]
     },
     "execution_count": 74,
     "metadata": {},
     "output_type": "execute_result"
    }
   ],
   "source": [
    "print('Records: ', train_df.size)\n",
    "train_df.head()"
   ]
  },
  {
   "cell_type": "code",
   "execution_count": 76,
   "metadata": {},
   "outputs": [
    {
     "name": "stdout",
     "output_type": "stream",
     "text": [
      "Number of reviews with rating 1: 10200\n",
      "Number of reviews with rating 2: 4568\n",
      "Number of reviews with rating 3: 4840\n",
      "Number of reviews with rating 4: 5392\n",
      "Number of reviews with rating 5: 0\n",
      "Number of reviews with rating 6: 0\n",
      "Number of reviews with rating 7: 4992\n",
      "Number of reviews with rating 8: 6018\n",
      "Number of reviews with rating 9: 4526\n",
      "Number of reviews with rating 10: 9464\n"
     ]
    }
   ],
   "source": [
    "for i in range(1, 11):\n",
    "    print(f'Number of reviews with rating {i}: {train_df[train_df.rating == str(i)].size}')"
   ]
  },
  {
   "cell_type": "markdown",
   "metadata": {},
   "source": [
    "### *We might consider (?or not?) only movies with reviews 1(terrible) and 10(perfect)"
   ]
  },
  {
   "cell_type": "markdown",
   "metadata": {},
   "source": [
    "# 1.1 Preparing data (Stanford Sentiment)\n",
    "### (or not because this DS doesn't make sense) \n",
    "**for eg. sentences:** <br/>\n",
    "' ( the cockettes ) provides a window into a subculture hell-bent on expressing itself in every way imaginable|5 <br/>\n",
    "' ( the cockettes ) provides a window into a subculture hell-bent on expressing itself in every way imaginable .|6 <br/>\n",
    "' ( the cockettes ) provides a window into a subculture hell-bent on expressing itself in every way imaginable . '|7 <br/>\n",
    "**Have sentiment:** <br/>\n",
    "5|0.375 <br/>\n",
    "6|0.41667 <br/> \n",
    "7|0.54167 <br/>"
   ]
  },
  {
   "cell_type": "code",
   "execution_count": 9,
   "metadata": {},
   "outputs": [],
   "source": [
    "with open('data_sets/stanfordSentiment/sentiment.txt') as f:\n",
    "    for line in f:\n",
    "        text, idx = line.split('|')"
   ]
  },
  {
   "cell_type": "markdown",
   "metadata": {},
   "source": [
    "# 2. Clean and Preprocess"
   ]
  },
  {
   "cell_type": "code",
   "execution_count": 41,
   "metadata": {},
   "outputs": [],
   "source": [
    "def regex(text):\n",
    "    text = re.sub(r'[^\\w\\s]', '', text.lower())\n",
    "    return text"
   ]
  },
  {
   "cell_type": "code",
   "execution_count": 46,
   "metadata": {},
   "outputs": [],
   "source": [
    "# Remove punctuaction and lower all texts\n",
    "train_df.text = train_df.text.apply(lambda row: regex(row))"
   ]
  },
  {
   "cell_type": "code",
   "execution_count": 58,
   "metadata": {},
   "outputs": [
    {
     "data": {
      "text/html": [
       "<div>\n",
       "<style scoped>\n",
       "    .dataframe tbody tr th:only-of-type {\n",
       "        vertical-align: middle;\n",
       "    }\n",
       "\n",
       "    .dataframe tbody tr th {\n",
       "        vertical-align: top;\n",
       "    }\n",
       "\n",
       "    .dataframe thead th {\n",
       "        text-align: right;\n",
       "    }\n",
       "</style>\n",
       "<table border=\"1\" class=\"dataframe\">\n",
       "  <thead>\n",
       "    <tr style=\"text-align: right;\">\n",
       "      <th></th>\n",
       "      <th>text</th>\n",
       "      <th>rating</th>\n",
       "    </tr>\n",
       "  </thead>\n",
       "  <tbody>\n",
       "    <tr>\n",
       "      <th>0</th>\n",
       "      <td>bromwell high is a cartoon comedy it ran at th...</td>\n",
       "      <td>9</td>\n",
       "    </tr>\n",
       "    <tr>\n",
       "      <th>1</th>\n",
       "      <td>homelessness or houselessness as george carlin...</td>\n",
       "      <td>8</td>\n",
       "    </tr>\n",
       "    <tr>\n",
       "      <th>2</th>\n",
       "      <td>brilliant overacting by lesley ann warren best...</td>\n",
       "      <td>10</td>\n",
       "    </tr>\n",
       "    <tr>\n",
       "      <th>3</th>\n",
       "      <td>this is easily the most underrated film inn th...</td>\n",
       "      <td>7</td>\n",
       "    </tr>\n",
       "    <tr>\n",
       "      <th>4</th>\n",
       "      <td>this is not the typical mel brooks film it was...</td>\n",
       "      <td>8</td>\n",
       "    </tr>\n",
       "  </tbody>\n",
       "</table>\n",
       "</div>"
      ],
      "text/plain": [
       "                                                text rating\n",
       "0  bromwell high is a cartoon comedy it ran at th...      9\n",
       "1  homelessness or houselessness as george carlin...      8\n",
       "2  brilliant overacting by lesley ann warren best...     10\n",
       "3  this is easily the most underrated film inn th...      7\n",
       "4  this is not the typical mel brooks film it was...      8"
      ]
     },
     "execution_count": 58,
     "metadata": {},
     "output_type": "execute_result"
    }
   ],
   "source": [
    "train_df.head()"
   ]
  },
  {
   "cell_type": "markdown",
   "metadata": {},
   "source": [
    "# 3. pure Naive Bayes"
   ]
  },
  {
   "cell_type": "code",
   "execution_count": 101,
   "metadata": {},
   "outputs": [],
   "source": [
    "# consider only rating 1 and 10\n",
    "bayes_df = train_df[(train_df.rating == '1') |  (train_df.rating == '10')]"
   ]
  },
  {
   "cell_type": "code",
   "execution_count": 102,
   "metadata": {},
   "outputs": [
    {
     "name": "stderr",
     "output_type": "stream",
     "text": [
      "Creating Bayes dictionaries: 5it [00:00, 5008.72it/s]\n"
     ]
    }
   ],
   "source": [
    "for index, row in tqdm(bayes_df.head().iterrows(), desc='Creating Bayes dictionaries', position=0):\n",
    "    text, rating = row['text'], row['rating']\n",
    "    \n",
    "    if rating == '10':\n",
    "        pass\n",
    "    else:\n",
    "        pass"
   ]
  },
  {
   "cell_type": "code",
   "execution_count": null,
   "metadata": {},
   "outputs": [],
   "source": []
  },
  {
   "cell_type": "code",
   "execution_count": null,
   "metadata": {},
   "outputs": [],
   "source": []
  }
 ],
 "metadata": {
  "kernelspec": {
   "display_name": "Python 3",
   "language": "python",
   "name": "python3"
  },
  "language_info": {
   "codemirror_mode": {
    "name": "ipython",
    "version": 3
   },
   "file_extension": ".py",
   "mimetype": "text/x-python",
   "name": "python",
   "nbconvert_exporter": "python",
   "pygments_lexer": "ipython3",
   "version": "3.7.3"
  }
 },
 "nbformat": 4,
 "nbformat_minor": 4
}
