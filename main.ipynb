{
 "cells": [
  {
   "cell_type": "markdown",
   "metadata": {},
   "source": [
    "# Imports"
   ]
  },
  {
   "cell_type": "code",
   "execution_count": 46,
   "metadata": {},
   "outputs": [],
   "source": [
    "# set up\n",
    "import numpy as np\n",
    "import pandas as pd\n",
    "import seaborn as sns\n",
    "import matplotlib.pyplot as plt\n",
    "import glob\n",
    "import re\n",
    "import string \n",
    "from collections import defaultdict\n",
    "from sklearn import metrics\n",
    "from tqdm import tqdm\n",
    "from sklearn.feature_extraction.text import CountVectorizer\n",
    "from sklearn.naive_bayes import MultinomialNB\n",
    "from sklearn.linear_model import LogisticRegression\n",
    "from sklearn.metrics import accuracy_score\n",
    "from sklearn.model_selection import train_test_split\n",
    "\n",
    "from nltk.stem.snowball import SnowballStemmer\n",
    "from nltk.corpus import stopwords\n",
    "import scipy.optimize as sopt"
   ]
  },
  {
   "cell_type": "markdown",
   "metadata": {},
   "source": [
    "# Macro for windows / mac users"
   ]
  },
  {
   "cell_type": "code",
   "execution_count": 47,
   "metadata": {},
   "outputs": [],
   "source": [
    "system = 'Mac'\n",
    "# system = 'Win'"
   ]
  },
  {
   "cell_type": "markdown",
   "metadata": {},
   "source": [
    "# Preparing data (IMDb movies' reviews)"
   ]
  },
  {
   "cell_type": "code",
   "execution_count": 48,
   "metadata": {},
   "outputs": [],
   "source": [
    "train_pos_path = 'data_sets/aclImdb/train/pos/*'\n",
    "train_neg_path = 'data_sets/aclImdb/train/neg/*'\n",
    "\n",
    "train_pos = glob.glob(train_pos_path)\n",
    "train_neg = glob.glob(train_neg_path)\n",
    "\n",
    "\n",
    "test_pos_path = 'data_sets/aclImdb/test/pos/*'\n",
    "test_neg_path = 'data_sets/aclImdb/test/neg/*'\n",
    "\n",
    "test_pos = glob.glob(test_pos_path)\n",
    "test_neg = glob.glob(test_neg_path)"
   ]
  },
  {
   "cell_type": "code",
   "execution_count": 49,
   "metadata": {},
   "outputs": [
    {
     "name": "stderr",
     "output_type": "stream",
     "text": [
      "                                                                                    \r"
     ]
    }
   ],
   "source": [
    "train_df = []\n",
    "test_df = []\n",
    "\n",
    "for path in tqdm(train_pos, desc='Getting positive train data', position=0, leave=False):\n",
    "    with open(path, encoding=\"utf8\") as f:\n",
    "        text = f.read()\n",
    "        \n",
    "#         For win users\n",
    "        if system == 'Win':\n",
    "            beg, end = path.find('\\\\'), path.find('.')\n",
    "        \n",
    "#         For mac users\n",
    "        if system == 'Mac':\n",
    "            beg = re.search(r\"\\d\",path).start()-1\n",
    "            end = path.find('.')\n",
    "            \n",
    "        idx, rating = path[beg+1:-4].split('_')\n",
    "        train_df.append([text, rating])\n",
    "        \n",
    "for path in tqdm(train_neg, desc='Getting negative train data', position=0, leave=False):\n",
    "    with open(path, encoding=\"utf8\") as f:\n",
    "        text = f.read()\n",
    "        \n",
    "#         For win users\n",
    "        if system == 'Win':\n",
    "            beg, end = path.find('\\\\'), path.find('.')\n",
    "        \n",
    "#         For mac users\n",
    "        if system == 'Mac':\n",
    "            beg = re.search(r\"\\d\",path).start()-1\n",
    "            end = path.find('.')\n",
    "\n",
    "        idx, rating = path[beg+1:-4].split('_')\n",
    "        train_df.append([text, rating])\n",
    "         \n",
    "for path in tqdm(test_pos, desc='Getting positive test data', position=0, leave=False):\n",
    "    with open(path, encoding=\"utf8\") as f:\n",
    "        text = f.read()\n",
    "        \n",
    "#         For win users\n",
    "        if system == 'Win':\n",
    "            beg, end = path.find('\\\\'), path.find('.')\n",
    "        \n",
    "#         For mac users\n",
    "        if system == 'Mac':\n",
    "            beg = re.search(r\"\\d\",path).start()-1\n",
    "            end = path.find('.')\n",
    "            \n",
    "        idx, rating = path[beg+1:-4].split('_')\n",
    "        test_df.append([text, rating])\n",
    "   \n",
    "for path in tqdm(test_neg, desc='Getting negative test data', position=0, leave=False):\n",
    "    with open(path, encoding=\"utf8\") as f:\n",
    "        text = f.read()\n",
    "\n",
    "#         For win users\n",
    "        if system == 'Win':\n",
    "            beg, end = path.find('\\\\'), path.find('.')\n",
    "        \n",
    "#         For mac users\n",
    "        if system == 'Mac':\n",
    "            beg = re.search(r\"\\d\",path).start()-1\n",
    "            end = path.find('.')\n",
    "            \n",
    "        idx, rating = path[beg+1:-4].split('_')\n",
    "        test_df.append([text, rating])"
   ]
  },
  {
   "cell_type": "code",
   "execution_count": 50,
   "metadata": {},
   "outputs": [],
   "source": [
    "train_df = pd.DataFrame(train_df, columns=['text', 'rating'])\n",
    "test_df = pd.DataFrame(test_df, columns=['text', 'rating'])"
   ]
  },
  {
   "cell_type": "code",
   "execution_count": 51,
   "metadata": {},
   "outputs": [
    {
     "name": "stdout",
     "output_type": "stream",
     "text": [
      "Records:  50000\n"
     ]
    },
    {
     "data": {
      "text/html": [
       "<div>\n",
       "<style scoped>\n",
       "    .dataframe tbody tr th:only-of-type {\n",
       "        vertical-align: middle;\n",
       "    }\n",
       "\n",
       "    .dataframe tbody tr th {\n",
       "        vertical-align: top;\n",
       "    }\n",
       "\n",
       "    .dataframe thead th {\n",
       "        text-align: right;\n",
       "    }\n",
       "</style>\n",
       "<table border=\"1\" class=\"dataframe\">\n",
       "  <thead>\n",
       "    <tr style=\"text-align: right;\">\n",
       "      <th></th>\n",
       "      <th>text</th>\n",
       "      <th>rating</th>\n",
       "    </tr>\n",
       "  </thead>\n",
       "  <tbody>\n",
       "    <tr>\n",
       "      <th>0</th>\n",
       "      <td>For a movie that gets no respect there sure ar...</td>\n",
       "      <td>9</td>\n",
       "    </tr>\n",
       "    <tr>\n",
       "      <th>1</th>\n",
       "      <td>Bizarre horror movie filled with famous faces ...</td>\n",
       "      <td>8</td>\n",
       "    </tr>\n",
       "    <tr>\n",
       "      <th>2</th>\n",
       "      <td>A solid, if unremarkable film. Matthau, as Ein...</td>\n",
       "      <td>7</td>\n",
       "    </tr>\n",
       "    <tr>\n",
       "      <th>3</th>\n",
       "      <td>It's a strange feeling to sit alone in a theat...</td>\n",
       "      <td>8</td>\n",
       "    </tr>\n",
       "    <tr>\n",
       "      <th>4</th>\n",
       "      <td>You probably all already know this by now, but...</td>\n",
       "      <td>10</td>\n",
       "    </tr>\n",
       "  </tbody>\n",
       "</table>\n",
       "</div>"
      ],
      "text/plain": [
       "                                                text rating\n",
       "0  For a movie that gets no respect there sure ar...      9\n",
       "1  Bizarre horror movie filled with famous faces ...      8\n",
       "2  A solid, if unremarkable film. Matthau, as Ein...      7\n",
       "3  It's a strange feeling to sit alone in a theat...      8\n",
       "4  You probably all already know this by now, but...     10"
      ]
     },
     "execution_count": 51,
     "metadata": {},
     "output_type": "execute_result"
    }
   ],
   "source": [
    "print('Records: ', train_df.size)\n",
    "train_df.head()"
   ]
  },
  {
   "cell_type": "code",
   "execution_count": 52,
   "metadata": {},
   "outputs": [
    {
     "name": "stdout",
     "output_type": "stream",
     "text": [
      "Number of reviews with rating 1: 5100\n",
      "Number of reviews with rating 2: 2284\n",
      "Number of reviews with rating 3: 2420\n",
      "Number of reviews with rating 4: 2696\n",
      "Number of reviews with rating 5: 0\n",
      "Number of reviews with rating 6: 0\n",
      "Number of reviews with rating 7: 2496\n",
      "Number of reviews with rating 8: 3009\n",
      "Number of reviews with rating 9: 2263\n",
      "Number of reviews with rating 10: 4732\n"
     ]
    }
   ],
   "source": [
    "for i in range(1, 11):\n",
    "    print(f'Number of reviews with rating {i}: {train_df[train_df.rating == str(i)].shape[0]}')"
   ]
  },
  {
   "cell_type": "markdown",
   "metadata": {},
   "source": [
    "# Clean and Preprocess"
   ]
  },
  {
   "cell_type": "code",
   "execution_count": 53,
   "metadata": {},
   "outputs": [],
   "source": [
    "def regex(text):\n",
    "    text = re.sub(r'[^\\w\\s]', '', text.lower())\n",
    "    return text"
   ]
  },
  {
   "cell_type": "markdown",
   "metadata": {},
   "source": [
    "## Remove punctuation"
   ]
  },
  {
   "cell_type": "code",
   "execution_count": 54,
   "metadata": {},
   "outputs": [
    {
     "name": "stdout",
     "output_type": "stream",
     "text": [
      "CPU times: user 2.4 s, sys: 61.8 ms, total: 2.46 s\n",
      "Wall time: 2.58 s\n"
     ]
    }
   ],
   "source": [
    "%%time\n",
    "# Remove punctuaction and lower all texts\n",
    "train_df.text = train_df.text.apply(lambda row: regex(row))\n",
    "test_df.text = test_df.text.apply(lambda row: regex(row))"
   ]
  },
  {
   "cell_type": "code",
   "execution_count": 55,
   "metadata": {},
   "outputs": [
    {
     "data": {
      "text/html": [
       "<div>\n",
       "<style scoped>\n",
       "    .dataframe tbody tr th:only-of-type {\n",
       "        vertical-align: middle;\n",
       "    }\n",
       "\n",
       "    .dataframe tbody tr th {\n",
       "        vertical-align: top;\n",
       "    }\n",
       "\n",
       "    .dataframe thead th {\n",
       "        text-align: right;\n",
       "    }\n",
       "</style>\n",
       "<table border=\"1\" class=\"dataframe\">\n",
       "  <thead>\n",
       "    <tr style=\"text-align: right;\">\n",
       "      <th></th>\n",
       "      <th>text</th>\n",
       "      <th>rating</th>\n",
       "    </tr>\n",
       "  </thead>\n",
       "  <tbody>\n",
       "    <tr>\n",
       "      <th>0</th>\n",
       "      <td>for a movie that gets no respect there sure ar...</td>\n",
       "      <td>9</td>\n",
       "    </tr>\n",
       "    <tr>\n",
       "      <th>1</th>\n",
       "      <td>bizarre horror movie filled with famous faces ...</td>\n",
       "      <td>8</td>\n",
       "    </tr>\n",
       "    <tr>\n",
       "      <th>2</th>\n",
       "      <td>a solid if unremarkable film matthau as einste...</td>\n",
       "      <td>7</td>\n",
       "    </tr>\n",
       "    <tr>\n",
       "      <th>3</th>\n",
       "      <td>its a strange feeling to sit alone in a theate...</td>\n",
       "      <td>8</td>\n",
       "    </tr>\n",
       "    <tr>\n",
       "      <th>4</th>\n",
       "      <td>you probably all already know this by now but ...</td>\n",
       "      <td>10</td>\n",
       "    </tr>\n",
       "  </tbody>\n",
       "</table>\n",
       "</div>"
      ],
      "text/plain": [
       "                                                text rating\n",
       "0  for a movie that gets no respect there sure ar...      9\n",
       "1  bizarre horror movie filled with famous faces ...      8\n",
       "2  a solid if unremarkable film matthau as einste...      7\n",
       "3  its a strange feeling to sit alone in a theate...      8\n",
       "4  you probably all already know this by now but ...     10"
      ]
     },
     "execution_count": 55,
     "metadata": {},
     "output_type": "execute_result"
    }
   ],
   "source": [
    "train_df.head()"
   ]
  },
  {
   "cell_type": "code",
   "execution_count": 11,
   "metadata": {},
   "outputs": [],
   "source": [
    "# consider only rating 1 and 10\n",
    "bayes_df_train = train_df[(train_df.rating == '1') | (train_df.rating == '10')]\n",
    "bayes_df_test = test_df[(test_df.rating == '1') | (test_df.rating == '10')]"
   ]
  },
  {
   "cell_type": "markdown",
   "metadata": {},
   "source": [
    "## Stem"
   ]
  },
  {
   "cell_type": "code",
   "execution_count": 12,
   "metadata": {},
   "outputs": [],
   "source": [
    "stemmer = SnowballStemmer(\"english\")\n",
    "stop_words = set(stopwords.words('english'))"
   ]
  },
  {
   "cell_type": "code",
   "execution_count": 13,
   "metadata": {},
   "outputs": [],
   "source": [
    "def stem_(text):\n",
    "    return ' '.join([stemmer.stem(word) for word in text.split()])"
   ]
  },
  {
   "cell_type": "code",
   "execution_count": 16,
   "metadata": {},
   "outputs": [],
   "source": [
    "stemmed_train_df = bayes_df_train.copy()\n",
    "stemmed_test_df = bayes_df_test.copy()\n",
    "stemmed_train_df.text = stemmed_train_df.text.apply(lambda row: stem_(row))\n",
    "stemmed_test_df.text = stemmed_test_df.text.apply(lambda row: stem_(row))"
   ]
  },
  {
   "cell_type": "markdown",
   "metadata": {},
   "source": [
    "## Remove stop words"
   ]
  },
  {
   "cell_type": "code",
   "execution_count": 14,
   "metadata": {},
   "outputs": [],
   "source": [
    "def remove_stop_words(text):\n",
    "    return ' '.join([word for word in text.split() if word not in stop_words])"
   ]
  },
  {
   "cell_type": "code",
   "execution_count": 17,
   "metadata": {},
   "outputs": [],
   "source": [
    "swr_train_df = bayes_df_train.copy()\n",
    "swr_test_df = bayes_df_test.copy()\n",
    "swr_train_df.text = swr_train_df.text.apply(lambda row: remove_stop_words(row))\n",
    "swr_test_df.text = swr_test_df.text.apply(lambda row: remove_stop_words(row))"
   ]
  },
  {
   "cell_type": "code",
   "execution_count": 15,
   "metadata": {},
   "outputs": [],
   "source": [
    "def stem_and_remove_stop_words(text):\n",
    "    return ' '.join([stemmer.stem(word) for word in text.split() if word not in stop_words])"
   ]
  },
  {
   "cell_type": "code",
   "execution_count": 18,
   "metadata": {},
   "outputs": [],
   "source": [
    "stemmed_swr_train_df = bayes_df_train.copy()\n",
    "stemmed_swr_test_df = bayes_df_test.copy()\n",
    "stemmed_swr_train_df.text = stemmed_swr_train_df.text.apply(lambda row: stem_(row))\n",
    "stemmed_swr_test_df.text = stemmed_swr_test_df.text.apply(lambda row: stem_(row))"
   ]
  },
  {
   "cell_type": "markdown",
   "metadata": {},
   "source": [
    "## Score visualization"
   ]
  },
  {
   "cell_type": "code",
   "execution_count": 150,
   "metadata": {},
   "outputs": [],
   "source": [
    "def print_score(preds,Y,name):\n",
    "    print(name)\n",
    "    acc = np.mean(preds == Y)\n",
    "    print(f\"Acc: {acc}\")\n",
    "    M = metrics.confusion_matrix(preds,Y)\n",
    "    N = np.sum(M)\n",
    "    print('\\nConfusion matrix:')\n",
    "    print(M)\n",
    "    print(f'\\nTrue negative (rating = 1): {M[0][0]}')\n",
    "    print(f'True positive (rating = 10): {M[1][1]}')\n",
    "    print(f'False negative: {M[0][1]}')\n",
    "    print(f'False positive: {M[1][0]}')\n",
    "    return M,N,acc"
   ]
  },
  {
   "cell_type": "markdown",
   "metadata": {},
   "source": [
    "# CountVectorizer"
   ]
  },
  {
   "cell_type": "code",
   "execution_count": 222,
   "metadata": {},
   "outputs": [],
   "source": [
    "class MyCountVectorizer:\n",
    "    def __init__(self, min_df=-1, max_df=1e18, binary=False):\n",
    "        self.min_df = min_df\n",
    "        self.max_df = max_df\n",
    "        self.binary = binary\n",
    "    \n",
    "    def fit(self, df):\n",
    "        words_cnt = defaultdict(int)\n",
    "        col = df.columns[0]\n",
    "        \n",
    "        for i in range(len(df)):\n",
    "            text = df.iloc[i][col]\n",
    "            for word in text.split():\n",
    "                words_cnt[word] += 1\n",
    "                \n",
    "        all_words = []\n",
    "        for word, cnt in words_cnt.items():\n",
    "            if self.min_df <= cnt <= self.max_df:\n",
    "                all_words.append(word)\n",
    "                \n",
    "        self.all_words_ids = {w:i for i,w in enumerate(all_words)}\n",
    "        self.width = len(all_words)\n",
    "        \n",
    "    \n",
    "    def transform(self, df):\n",
    "        col = df.columns[0]\n",
    "        count_matrix = np.zeros([len(df), self.width], \\\n",
    "                                dtype=np.int32)\n",
    "        \n",
    "        for i in range(len(df)):\n",
    "            text = df.iloc[i][col]\n",
    "            words_cnt = defaultdict(int)\n",
    "            \n",
    "            for word in text.split():\n",
    "                words_cnt[word] += 1\n",
    "            \n",
    "            for word, cnt in words_cnt.items():\n",
    "                if word in self.all_words_ids:\n",
    "                    pos = self.all_words_ids[word]\n",
    "                    if self.binary:\n",
    "                        count_matrix[i][pos] = 1\n",
    "                    else:\n",
    "                        count_matrix[i][pos] = cnt\n",
    "                    \n",
    "        return count_matrix"
   ]
  },
  {
   "cell_type": "markdown",
   "metadata": {},
   "source": [
    "# Naive Bayes"
   ]
  },
  {
   "cell_type": "markdown",
   "metadata": {},
   "source": [
    "## Naive Bayes class"
   ]
  },
  {
   "cell_type": "code",
   "execution_count": 19,
   "metadata": {},
   "outputs": [],
   "source": [
    "class Naive_Bayes:\n",
    "    def __init__(self,alpha=0,fit_prior=True,class_prior=None):\n",
    "        self.alpha = alpha\n",
    "        self.fit_prior = fit_prior\n",
    "        self.class_prior_array = class_prior\n",
    "        if class_prior:\n",
    "            self.fit_prior = False\n",
    "    \n",
    "    \n",
    "    def fit(self,X,y):\n",
    "        self.classes,prior = np.unique(y,return_counts=True)\n",
    "        self.N = len(y)\n",
    "        \n",
    "        # Setting class prior\n",
    "        if self.fit_prior:\n",
    "            self.class_prior = {class_ : np.log(prior[i]/self.N + 1e-100)\n",
    "                                for i,class_ in enumerate(self.classes)}\n",
    "        elif self.class_prior_array:\n",
    "            self.class_prior = {class_ : np.log(self.class_prior_array[i] + 1e-100) \n",
    "                                for i,class_ in enumerate(self.classes)}\n",
    "        else:\n",
    "            self.class_prior = {class_ : np.log(1/len(self.classes) + 1e-100) \n",
    "                                for class_ in self.classes}\n",
    "            \n",
    "        # Creating words dictionaries\n",
    "        self.class_words_counts = {class_ : defaultdict(lambda: 0) \n",
    "                                   for class_ in self.classes}\n",
    "        for i,text in enumerate(X):\n",
    "            target = y[i]\n",
    "            for word in text.split():\n",
    "                self.class_words_counts[target][word] += 1\n",
    "        \n",
    "        # Creating probabilities dictionaries\n",
    "        self.class_words_probs = {class_ : defaultdict(lambda: np.log(self.alpha + 1e-100)) \n",
    "                                  for class_ in self.classes}\n",
    "        for class_,dict_ in self.class_words_counts.items():\n",
    "            for word,count in dict_.items():\n",
    "                self.class_words_probs[class_][word] = np.log(count + 1e-100)\n",
    "    \n",
    "        self.class_words_amount = {class_ : np.log(sum(self.class_words_counts[class_].values())) \n",
    "                                   for class_ in self.classes}\n",
    "    \n",
    "\n",
    "    def get_class_log_probabilities(self,text):\n",
    "        probs = {class_ : 0 for class_ in self.classes}\n",
    "        for class_ in self.classes:\n",
    "            for word in text.split():\n",
    "                probs[class_] += self.class_words_probs[class_][word]\n",
    "                probs[class_] -= self.class_words_amount[class_]\n",
    "            probs[class_] += self.class_prior[class_]\n",
    "        return probs\n",
    "    \n",
    "    \n",
    "    def predict(self,X,return_probabilities = False):\n",
    "        preds = []\n",
    "        preds_probs = []\n",
    "        for text in X:\n",
    "            prob = self.get_class_log_probabilities(text)\n",
    "            #prob = {class_ : np.exp(pbb) for class_,pbb in prob.items()}\n",
    "            preds_probs.append(prob)\n",
    "            pred = max(prob,key = prob.get)\n",
    "            preds.append(pred)\n",
    "        \n",
    "        if return_probabilities:\n",
    "            return preds,preds_probs\n",
    "        return preds\n"
   ]
  },
  {
   "cell_type": "markdown",
   "metadata": {},
   "source": [
    "## Train and test accuracy"
   ]
  },
  {
   "cell_type": "code",
   "execution_count": 177,
   "metadata": {},
   "outputs": [],
   "source": [
    "X_train,y_train = np.array(bayes_df_train['text']),np.array(bayes_df_train['rating'])\n",
    "X_test,y_test = np.array(bayes_df_test['text']),np.array(bayes_df_test['rating'])"
   ]
  },
  {
   "cell_type": "code",
   "execution_count": 178,
   "metadata": {},
   "outputs": [],
   "source": [
    "NBc_res = []"
   ]
  },
  {
   "cell_type": "code",
   "execution_count": 179,
   "metadata": {},
   "outputs": [],
   "source": [
    "alpha = 1.5\n",
    "NB = Naive_Bayes(fit_prior = False,alpha=alpha)"
   ]
  },
  {
   "cell_type": "code",
   "execution_count": 180,
   "metadata": {},
   "outputs": [],
   "source": [
    "NB.fit(X_train,y_train)"
   ]
  },
  {
   "cell_type": "code",
   "execution_count": 181,
   "metadata": {},
   "outputs": [],
   "source": [
    "predictions,ppb = NB.predict(X_train,return_probabilities=True)"
   ]
  },
  {
   "cell_type": "code",
   "execution_count": 182,
   "metadata": {},
   "outputs": [
    {
     "name": "stdout",
     "output_type": "stream",
     "text": [
      "TRAIN, alpha : 1.5\n",
      "Acc: 0.9363303498779495\n",
      "\n",
      "Confusion matrix:\n",
      "[[4904  430]\n",
      " [ 196 4302]]\n",
      "\n",
      "True negative (rating = 1): 4904\n",
      "True positive (rating = 10): 4302\n",
      "False negative: 430\n",
      "False positive: 196\n"
     ]
    }
   ],
   "source": [
    "M,N,acc = print_score(predictions,y_train,f\"TRAIN, alpha : {alpha}\")\n",
    "NBc_res.append(['Org train data\\na=1.5','Acc',acc])\n",
    "NBc_res.append(['Org train data\\na=1.5','FN',M[0][1]/N])\n",
    "NBc_res.append(['Org train data\\na=1.5','FP',M[1][0]/N])"
   ]
  },
  {
   "cell_type": "code",
   "execution_count": 183,
   "metadata": {},
   "outputs": [],
   "source": [
    "predictions,ppb = NB.predict(X_test,return_probabilities=True)"
   ]
  },
  {
   "cell_type": "code",
   "execution_count": 184,
   "metadata": {},
   "outputs": [
    {
     "name": "stdout",
     "output_type": "stream",
     "text": [
      "TEST, alpha : 1.5\n",
      "Acc: 0.8893324019558926\n",
      "\n",
      "Confusion matrix:\n",
      "[[4651  738]\n",
      " [ 371 4261]]\n",
      "\n",
      "True negative (rating = 1): 4651\n",
      "True positive (rating = 10): 4261\n",
      "False negative: 738\n",
      "False positive: 371\n"
     ]
    }
   ],
   "source": [
    "M,N,acc = print_score(predictions,y_test,f\"TEST, alpha : {alpha}\")\n",
    "NBc_res.append(['Org test data\\na=1.5','Acc',acc])\n",
    "NBc_res.append(['Org test data\\na=1.5','FN',M[0][1]/N])\n",
    "NBc_res.append(['Org test data\\na=1.5','FP',M[1][0]/N])"
   ]
  },
  {
   "cell_type": "markdown",
   "metadata": {},
   "source": [
    "Now we can try use alpha = 0"
   ]
  },
  {
   "cell_type": "code",
   "execution_count": 185,
   "metadata": {},
   "outputs": [],
   "source": [
    "alpha = 0.0\n",
    "NB = Naive_Bayes(fit_prior = False,alpha=alpha)"
   ]
  },
  {
   "cell_type": "code",
   "execution_count": 186,
   "metadata": {},
   "outputs": [],
   "source": [
    "NB.fit(X_train,y_train)"
   ]
  },
  {
   "cell_type": "code",
   "execution_count": 187,
   "metadata": {},
   "outputs": [],
   "source": [
    "predictions,ppb = NB.predict(X_train,return_probabilities=True)"
   ]
  },
  {
   "cell_type": "code",
   "execution_count": 188,
   "metadata": {},
   "outputs": [
    {
     "name": "stdout",
     "output_type": "stream",
     "text": [
      "TRAIN, alpha : 0.0\n",
      "Acc: 0.9899308380797396\n",
      "\n",
      "Confusion matrix:\n",
      "[[5092   91]\n",
      " [   8 4641]]\n",
      "\n",
      "True negative (rating = 1): 5092\n",
      "True positive (rating = 10): 4641\n",
      "False negative: 91\n",
      "False positive: 8\n"
     ]
    }
   ],
   "source": [
    "M,N,acc = print_score(predictions,y_train,f\"TRAIN, alpha : {alpha}\")"
   ]
  },
  {
   "cell_type": "code",
   "execution_count": 189,
   "metadata": {},
   "outputs": [],
   "source": [
    "predictions,ppb = NB.predict(X_test,return_probabilities=True)"
   ]
  },
  {
   "cell_type": "code",
   "execution_count": 190,
   "metadata": {},
   "outputs": [
    {
     "name": "stdout",
     "output_type": "stream",
     "text": [
      "TEST, alpha : 0.0\n",
      "Acc: 0.7240794331903003\n",
      "\n",
      "Confusion matrix:\n",
      "[[3932 1675]\n",
      " [1090 3324]]\n",
      "\n",
      "True negative (rating = 1): 3932\n",
      "True positive (rating = 10): 3324\n",
      "False negative: 1675\n",
      "False positive: 1090\n"
     ]
    }
   ],
   "source": [
    "M,N,acc = print_score(predictions,y_test,f\"TEST, alpha : {alpha}\")"
   ]
  },
  {
   "cell_type": "markdown",
   "metadata": {},
   "source": [
    "Setting alpha to 0 improve our train accuracy, but decrease train accuracy, so it`s overfitting. \n",
    "We can try to find best alpha for our data."
   ]
  },
  {
   "cell_type": "markdown",
   "metadata": {},
   "source": [
    "## Testing different alphas"
   ]
  },
  {
   "cell_type": "code",
   "execution_count": 191,
   "metadata": {},
   "outputs": [
    {
     "name": "stdout",
     "output_type": "stream",
     "text": [
      "Alpha : 0.0, test acc: 0.7240794331903003\n",
      "Alpha : 0.25, test acc: 0.8820476998303562\n",
      "Alpha : 0.5, test acc: 0.8868376409539966\n",
      "Alpha : 0.75, test acc: 0.8882347071150584\n",
      "Alpha : 1.0, test acc: 0.8884342879952101\n",
      "Alpha : 1.25, test acc: 0.8881349166749826\n",
      "Alpha : 1.5, test acc: 0.8893324019558926\n",
      "Alpha : 1.75, test acc: 0.8884342879952101\n",
      "Alpha : 2.0, test acc: 0.8882347071150584\n",
      "Alpha : 3.0, test acc: 0.8872368027142999\n",
      "Alpha : 4.0, test acc: 0.8862388983135415\n",
      "Alpha : 5.0, test acc: 0.8830456042311147\n",
      "Alpha : 10.0, test acc: 0.8759604829857299\n"
     ]
    }
   ],
   "source": [
    "for alpha in [0.0,0.25,0.5,0.75,1.0,1.25,1.5,1.75,2.0,3.0,4.0,5.0,10.0]:\n",
    "    NB = Naive_Bayes(fit_prior = False,alpha=alpha)\n",
    "    NB.fit(X_train,y_train)\n",
    "    predictions,ppb = NB.predict(X_test,return_probabilities=True)\n",
    "    acc = np.mean(predictions == y_test)\n",
    "    print(f'Alpha : {alpha}, test acc: {acc}')"
   ]
  },
  {
   "cell_type": "markdown",
   "metadata": {},
   "source": [
    "## Stemming and stop words removing"
   ]
  },
  {
   "cell_type": "code",
   "execution_count": 192,
   "metadata": {},
   "outputs": [],
   "source": [
    "alpha = 1.5"
   ]
  },
  {
   "cell_type": "code",
   "execution_count": 193,
   "metadata": {},
   "outputs": [
    {
     "name": "stdout",
     "output_type": "stream",
     "text": [
      "TEST, alpha : 1.5, stemmed\n",
      "Acc: 0.8827462329108872\n",
      "\n",
      "Confusion matrix:\n",
      "[[4623  776]\n",
      " [ 399 4223]]\n",
      "\n",
      "True negative (rating = 1): 4623\n",
      "True positive (rating = 10): 4223\n",
      "False negative: 776\n",
      "False positive: 399\n"
     ]
    }
   ],
   "source": [
    "NB = Naive_Bayes(fit_prior = False,alpha=alpha)\n",
    "NB.fit(np.array(stemmed_train_df['text']),np.array(stemmed_train_df['rating']))\n",
    "predictions = NB.predict(np.array(stemmed_test_df['text']))\n",
    "M,N,acc = print_score(predictions,np.array(stemmed_test_df['rating']),\n",
    "                      f\"TEST, alpha : {alpha}, stemmed\")\n",
    "NBc_res.append(['Stemmed test data\\na=1.5','Acc',acc])\n",
    "NBc_res.append(['Stemmed test data\\na=1.5','FN',M[0][1]/N])\n",
    "NBc_res.append(['Stemmed test data\\na=1.5','FP',M[1][0]/N])"
   ]
  },
  {
   "cell_type": "code",
   "execution_count": 194,
   "metadata": {},
   "outputs": [
    {
     "name": "stdout",
     "output_type": "stream",
     "text": [
      "TEST, alpha : 1.5, stop words removed\n",
      "Acc: 0.8995110268436284\n",
      "\n",
      "Confusion matrix:\n",
      "[[4656  641]\n",
      " [ 366 4358]]\n",
      "\n",
      "True negative (rating = 1): 4656\n",
      "True positive (rating = 10): 4358\n",
      "False negative: 641\n",
      "False positive: 366\n"
     ]
    }
   ],
   "source": [
    "NB = Naive_Bayes(fit_prior = False,alpha=alpha)\n",
    "NB.fit(np.array(swr_train_df['text']),np.array(swr_test_df['rating']))\n",
    "predictions = NB.predict(np.array(swr_test_df['text']))\n",
    "M,N,acc = print_score(predictions,np.array(stemmed_test_df['rating']),\n",
    "                      f\"TEST, alpha : {alpha}, stop words removed\")\n",
    "NBc_res.append(['Test data\\nwithout stopwords\\na=1.5','Acc',acc])\n",
    "NBc_res.append(['Test data\\nwithout stopwords\\na=1.5','FN',M[0][1]/N])\n",
    "NBc_res.append(['Test data\\nwithout stopwords\\na=1.5','FP',M[1][0]/N])"
   ]
  },
  {
   "cell_type": "code",
   "execution_count": 195,
   "metadata": {},
   "outputs": [
    {
     "name": "stdout",
     "output_type": "stream",
     "text": [
      "TEST, alpha : 1.5, stemmed and stop words removed\n",
      "Acc: 0.8827462329108872\n",
      "\n",
      "Confusion matrix:\n",
      "[[4623  776]\n",
      " [ 399 4223]]\n",
      "\n",
      "True negative (rating = 1): 4623\n",
      "True positive (rating = 10): 4223\n",
      "False negative: 776\n",
      "False positive: 399\n"
     ]
    }
   ],
   "source": [
    "NB = Naive_Bayes(fit_prior = False,alpha=alpha)\n",
    "NB.fit(np.array(stemmed_swr_train_df['text']),np.array(stemmed_swr_train_df['rating']))\n",
    "predictions = NB.predict(np.array(stemmed_swr_test_df['text']))\n",
    "M,N,acc = print_score(predictions,np.array(stemmed_test_df['rating']),\n",
    "                      f\"TEST, alpha : {alpha}, stemmed and stop words removed\")\n",
    "NBc_res.append(['Stemmed test data\\nwithout stop words\\na=1.5','Acc',acc])\n",
    "NBc_res.append(['Stemmed test data\\nwithout stop words\\na=1.5','FN',M[0][1]/N])\n",
    "NBc_res.append(['Stemmed test data\\nwithout stop words\\na=1.5','FP',M[1][0]/N])"
   ]
  },
  {
   "cell_type": "code",
   "execution_count": 196,
   "metadata": {},
   "outputs": [],
   "source": [
    "NBc_res_df = pd.DataFrame(NBc_res,columns = ['Data','Y','Value'])"
   ]
  },
  {
   "cell_type": "code",
   "execution_count": 244,
   "metadata": {},
   "outputs": [
    {
     "data": {
      "text/plain": [
       "Text(0.5, 1, 'Our Naive Bayes class')"
      ]
     },
     "execution_count": 244,
     "metadata": {},
     "output_type": "execute_result"
    },
    {
     "data": {
      "image/png": "[encoded data removed]",
      "text/plain": [
       "<Figure size 773.875x360 with 1 Axes>"
      ]
     },
     "metadata": {
      "needs_background": "light"
     },
     "output_type": "display_data"
    }
   ],
   "source": [
    "sns.catplot(x=\"Data\", y=\"Value\", hue=\"Y\", data=NBc_res_df,\n",
    "                height=5, aspect = 2, kind=\"bar\", palette=\"muted\")\n",
    "plt.title(\"Our Naive Bayes class\")"
   ]
  },
  {
   "cell_type": "markdown",
   "metadata": {},
   "source": [
    "## Compare with Sklearn Naive Bayes"
   ]
  },
  {
   "cell_type": "code",
   "execution_count": 228,
   "metadata": {},
   "outputs": [],
   "source": [
    "NBb_res = []"
   ]
  },
  {
   "cell_type": "code",
   "execution_count": 229,
   "metadata": {},
   "outputs": [],
   "source": [
    "CV_NB = CountVectorizer()\n",
    "X_train,y_train = np.array(bayes_df_train['text']),np.array(bayes_df_train['rating'])\n",
    "X_test,y_test = np.array(bayes_df_test['text']),np.array(bayes_df_test['rating'])\n",
    "X_train_cv = CV_NB.fit_transform(X_train)\n",
    "X_test_cv = CV_NB.transform(X_test)"
   ]
  },
  {
   "cell_type": "code",
   "execution_count": 230,
   "metadata": {},
   "outputs": [
    {
     "name": "stdout",
     "output_type": "stream",
     "text": [
      "TRAIN, alpha : 1.5\n",
      "Acc: 0.9509764035801465\n",
      "\n",
      "Confusion matrix:\n",
      "[[5009  391]\n",
      " [  91 4341]]\n",
      "\n",
      "True negative (rating = 1): 5009\n",
      "True positive (rating = 10): 4341\n",
      "False negative: 391\n",
      "False positive: 91\n"
     ]
    }
   ],
   "source": [
    "alpha = 1.5\n",
    "MNB = MultinomialNB(alpha = 1.5)\n",
    "MNB.fit(X_train_cv,y_train)\n",
    "predictions = MNB.predict(X_train_cv)\n",
    "M,N,acc = print_score(predictions,y_train,f\"TRAIN, alpha : {alpha}\")\n",
    "NBb_res.append(['Org train data\\na=1.5','Acc',acc])\n",
    "NBb_res.append(['Org train data\\na=1.5','FN',M[0][1]/N])\n",
    "NBb_res.append(['Org train data\\na=1.5','FP',M[1][0]/N])"
   ]
  },
  {
   "cell_type": "code",
   "execution_count": 231,
   "metadata": {},
   "outputs": [
    {
     "name": "stdout",
     "output_type": "stream",
     "text": [
      "TEST, alpha : 1.5\n",
      "Acc: 0.884742041712404\n",
      "\n",
      "Confusion matrix:\n",
      "[[4738  871]\n",
      " [ 284 4128]]\n",
      "\n",
      "True negative (rating = 1): 4738\n",
      "True positive (rating = 10): 4128\n",
      "False negative: 871\n",
      "False positive: 284\n"
     ]
    }
   ],
   "source": [
    "alpha = 1.5\n",
    "MNB = MultinomialNB(alpha = 1.5)\n",
    "MNB.fit(X_train_cv,y_train)\n",
    "predictions = MNB.predict(X_test_cv)\n",
    "M,N,acc = print_score(predictions,y_test,f\"TEST, alpha : {alpha}\")\n",
    "NBb_res.append(['Org test data\\na=1.5','Acc',acc])\n",
    "NBb_res.append(['Org test data\\na=1.5','FN',M[0][1]/N])\n",
    "NBb_res.append(['Org test data\\na=1.5','FP',M[1][0]/N])"
   ]
  },
  {
   "cell_type": "code",
   "execution_count": 232,
   "metadata": {},
   "outputs": [],
   "source": [
    "CV_NB = CountVectorizer()\n",
    "X_train,y_train = np.array(stemmed_train_df['text']),np.array(stemmed_train_df['rating'])\n",
    "X_test,y_test = np.array(stemmed_test_df['text']),np.array(stemmed_test_df['rating'])\n",
    "X_train_cv = CV_NB.fit_transform(X_train)\n",
    "X_test_cv = CV_NB.transform(X_test)"
   ]
  },
  {
   "cell_type": "code",
   "execution_count": 233,
   "metadata": {},
   "outputs": [
    {
     "name": "stdout",
     "output_type": "stream",
     "text": [
      "TEST, alpha : 1.5, stemmed\n",
      "Acc: 0.8805508432292186\n",
      "\n",
      "Confusion matrix:\n",
      "[[4710  885]\n",
      " [ 312 4114]]\n",
      "\n",
      "True negative (rating = 1): 4710\n",
      "True positive (rating = 10): 4114\n",
      "False negative: 885\n",
      "False positive: 312\n"
     ]
    }
   ],
   "source": [
    "alpha = 1.5\n",
    "MNB = MultinomialNB(alpha = 1.5)\n",
    "MNB.fit(X_train_cv,y_train)\n",
    "predictions = MNB.predict(X_test_cv)\n",
    "M,N,acc = print_score(predictions,y_test,\n",
    "                      f\"TEST, alpha : {alpha}, stemmed\")\n",
    "NBb_res.append(['Stemmed test data\\na=1.5','Acc',acc])\n",
    "NBb_res.append(['Stemmed test data\\na=1.5','FN',M[0][1]/N])\n",
    "NBb_res.append(['Stemmed test data\\na=1.5','FP',M[1][0]/N])"
   ]
  },
  {
   "cell_type": "code",
   "execution_count": 234,
   "metadata": {},
   "outputs": [],
   "source": [
    "CV_NB = CountVectorizer()\n",
    "X_train,y_train = np.array(swr_train_df['text']),np.array(swr_train_df['rating'])\n",
    "X_test,y_test = np.array(swr_test_df['text']),np.array(swr_test_df['rating'])\n",
    "X_train_cv = CV_NB.fit_transform(X_train)\n",
    "X_test_cv = CV_NB.transform(X_test)"
   ]
  },
  {
   "cell_type": "code",
   "execution_count": 235,
   "metadata": {},
   "outputs": [
    {
     "name": "stdout",
     "output_type": "stream",
     "text": [
      "TEST, alpha : 1.5, stemmed\n",
      "Acc: 0.8932242291188505\n",
      "\n",
      "Confusion matrix:\n",
      "[[4752  800]\n",
      " [ 270 4199]]\n",
      "\n",
      "True negative (rating = 1): 4752\n",
      "True positive (rating = 10): 4199\n",
      "False negative: 800\n",
      "False positive: 270\n"
     ]
    }
   ],
   "source": [
    "alpha = 1.5\n",
    "MNB = MultinomialNB(alpha = 1.5)\n",
    "MNB.fit(X_train_cv,y_train)\n",
    "predictions = MNB.predict(X_test_cv)\n",
    "M,N,acc = print_score(predictions,y_test,\n",
    "                      f\"TEST, alpha : {alpha}, stemmed\")\n",
    "NBb_res.append(['Test data\\nwithout stopwords\\na=1.5','Acc',acc])\n",
    "NBb_res.append(['Test data\\nwithout stopwords\\na=1.5','FN',M[0][1]/N])\n",
    "NBb_res.append(['Test data\\nwithout stopwords\\na=1.5','FP',M[1][0]/N])"
   ]
  },
  {
   "cell_type": "code",
   "execution_count": 236,
   "metadata": {},
   "outputs": [],
   "source": [
    "CV_NB = CountVectorizer()\n",
    "X_train,y_train = np.array(stemmed_swr_train_df['text']),np.array(stemmed_swr_train_df['rating'])\n",
    "X_test,y_test = np.array(stemmed_swr_test_df['text']),np.array(stemmed_swr_test_df['rating'])\n",
    "X_train_cv = CV_NB.fit_transform(X_train)\n",
    "X_test_cv = CV_NB.transform(X_test)"
   ]
  },
  {
   "cell_type": "code",
   "execution_count": 237,
   "metadata": {},
   "outputs": [
    {
     "name": "stdout",
     "output_type": "stream",
     "text": [
      "TEST, alpha : 1.5, stemmed\n",
      "Acc: 0.8805508432292186\n",
      "\n",
      "Confusion matrix:\n",
      "[[4710  885]\n",
      " [ 312 4114]]\n",
      "\n",
      "True negative (rating = 1): 4710\n",
      "True positive (rating = 10): 4114\n",
      "False negative: 885\n",
      "False positive: 312\n"
     ]
    }
   ],
   "source": [
    "alpha = 1.5\n",
    "MNB = MultinomialNB(alpha = 1.5)\n",
    "MNB.fit(X_train_cv,y_train)\n",
    "predictions = MNB.predict(X_test_cv)\n",
    "M,N,acc = print_score(predictions,y_test,\n",
    "                      f\"TEST, alpha : {alpha}, stemmed\")\n",
    "NBb_res.append(['Stemmed test data\\nwithout stop words\\na=1.5','Acc',acc])\n",
    "NBb_res.append(['Stemmed test data\\nwithout stop words\\na=1.5','FN',M[0][1]/N])\n",
    "NBb_res.append(['Stemmed test data\\nwithout stop words\\na=1.5','FP',M[1][0]/N])"
   ]
  },
  {
   "cell_type": "code",
   "execution_count": 238,
   "metadata": {},
   "outputs": [],
   "source": [
    "NBb_res_df = pd.DataFrame(NBb_res,columns = ['Data','Y','Value'])"
   ]
  },
  {
   "cell_type": "code",
   "execution_count": 242,
   "metadata": {},
   "outputs": [
    {
     "data": {
      "text/plain": [
       "Text(0.5, 1, 'Sklearn MultinomialNaiveBayes')"
      ]
     },
     "execution_count": 242,
     "metadata": {},
     "output_type": "execute_result"
    },
    {
     "data": {
      "image/png": "[encoded data removed]",
      "text/plain": [
       "<Figure size 773.875x360 with 1 Axes>"
      ]
     },
     "metadata": {
      "needs_background": "light"
     },
     "output_type": "display_data"
    }
   ],
   "source": [
    "sns.catplot(x=\"Data\", y=\"Value\", hue=\"Y\", data=NBb_res_df,\n",
    "                height=5, aspect = 2, kind=\"bar\", palette=\"muted\")\n",
    "plt.title(\"Sklearn MultinomialNaiveBayes\")"
   ]
  },
  {
   "cell_type": "code",
   "execution_count": 253,
   "metadata": {},
   "outputs": [],
   "source": [
    "NBc_res_df_copyed = NBc_res_df.copy()\n",
    "A_df = NBc_res_df[NBc_res_df.Y == 'Acc']\n",
    "A_df.Y = ['Our'] * 5"
   ]
  },
  {
   "cell_type": "code",
   "execution_count": 254,
   "metadata": {},
   "outputs": [],
   "source": [
    "NBb_res_df_copyed = NBb_res_df.copy()\n",
    "B_df = NBb_res_df[NBb_res_df.Y == 'Acc']\n",
    "B_df.Y = ['Sklearn'] * 5"
   ]
  },
  {
   "cell_type": "code",
   "execution_count": 255,
   "metadata": {},
   "outputs": [],
   "source": [
    "compare_df = pd.concat([A_df,B_df])"
   ]
  },
  {
   "cell_type": "code",
   "execution_count": 257,
   "metadata": {},
   "outputs": [
    {
     "data": {
      "text/plain": [
       "Text(0.5, 1, 'Sklearn MultinomialNaiveBayes')"
      ]
     },
     "execution_count": 257,
     "metadata": {},
     "output_type": "execute_result"
    },
    {
     "data": {
      "image/png": "[encoded data removed]",
      "text/plain": [
       "<Figure size 793.625x360 with 1 Axes>"
      ]
     },
     "metadata": {
      "needs_background": "light"
     },
     "output_type": "display_data"
    }
   ],
   "source": [
    "sns.catplot(x=\"Data\", y=\"Value\", hue=\"Y\", data=compare_df,\n",
    "                height=5, aspect = 2, kind=\"bar\", palette=\"muted\")\n",
    "plt.title(\"Our Naive Bayes class vs Sklearn MultinomialNaiveBayes\")"
   ]
  },
  {
   "cell_type": "markdown",
   "metadata": {},
   "source": [
    "# Logistic Regression"
   ]
  },
  {
   "cell_type": "markdown",
   "metadata": {},
   "source": [
    "## Logistic Regression class"
   ]
  },
  {
   "cell_type": "code",
   "execution_count": 287,
   "metadata": {},
   "outputs": [],
   "source": [
    "class Logistic_Regression:\n",
    "    def __init__(self, max_iter=500, solver_calls=5, Theta=None, solver=sopt.fmin_l_bfgs_b, debug=False):\n",
    "        self.Theta = Theta\n",
    "        self.solver_calls = solver_calls\n",
    "        self.max_iter = max_iter\n",
    "        self.solver = solver\n",
    "        self.debug = debug\n",
    "    \n",
    "    def __sigmoid(self,x):\n",
    "        return 1 / (1 + np.exp(-x))    \n",
    "    \n",
    "    def __logreg_loss(self, Theta, X, Y):\n",
    "        Theta = Theta.astype(np.float64)\n",
    "        X = X.astype(np.float64)\n",
    "        Y = Y.astype(np.float64)\n",
    "        \n",
    "        if self.debug:\n",
    "            print(f\"Loss calculating... \",end=\"\")\n",
    "        Z = np.dot(Theta,X.T)\n",
    "        if self.debug:\n",
    "            print(f\" Z done... \",end=\"\")\n",
    "        SZ = self.__sigmoid(Z)\n",
    "        nll = -np.sum([\n",
    "                        y * np.log2(SZ + 1e-7) \\\n",
    "                        + (1-y) * np.log2(1 - SZ + 1e-7) \\\n",
    "                        for y in Y\n",
    "                        ])\n",
    "        if self.debug:\n",
    "            print(f\" nll done... \",end=\"\")\n",
    "        grad = np.dot(X.T, (SZ - Y).T )\n",
    "        if self.debug:\n",
    "            print(f\" grad done... done \")\n",
    "        return nll, grad.reshape(Theta.shape)\n",
    "    \n",
    "    def fit(self,X,y):\n",
    "        Theta = self.Theta\n",
    "        if Theta is None:\n",
    "            Theta = np.ones(X.shape[1])\n",
    "      \n",
    "        for i in range(self.solver_calls):\n",
    "            Theta = self.solver(lambda th: self.__logreg_loss(th, X, y), Theta, maxiter=self.max_iter)[0]\n",
    "        self.Theta = Theta\n",
    "    \n",
    "    def __logreg_classify(self, x):\n",
    "        return (self.Theta.T.dot(x) >= 0)\n",
    "\n",
    "    def predict(self, Xs):\n",
    "        return [self.__logreg_classify(x) for x in Xs]"
   ]
  },
  {
   "cell_type": "markdown",
   "metadata": {},
   "source": [
    "## Train and test accuracy"
   ]
  },
  {
   "cell_type": "code",
   "execution_count": 169,
   "metadata": {},
   "outputs": [
    {
     "data": {
      "text/plain": [
       "'\\nZmiany:\\n- klasa Vectorizer\\n- klasa logic reg\\n'"
      ]
     },
     "execution_count": 169,
     "metadata": {},
     "output_type": "execute_result"
    }
   ],
   "source": [
    "'''\n",
    "Zmiany:\n",
    "- klasa Vectorizer\n",
    "- klasa logic reg\n",
    "'''"
   ]
  },
  {
   "cell_type": "code",
   "execution_count": 292,
   "metadata": {},
   "outputs": [],
   "source": [
    "# Theta = pd.read_csv('Theta.csv')['0']"
   ]
  },
  {
   "cell_type": "code",
   "execution_count": 332,
   "metadata": {},
   "outputs": [],
   "source": [
    "LGc_res = []\n",
    "\n",
    "y_train = np.array(list(map(int, bayes_df_train['rating']))) // 10\n",
    "y_test = np.array(list(map(int, bayes_df_test['rating']))) // 10"
   ]
  },
  {
   "cell_type": "code",
   "execution_count": 333,
   "metadata": {},
   "outputs": [
    {
     "name": "stdout",
     "output_type": "stream",
     "text": [
      "CPU times: user 9.41 s, sys: 447 ms, total: 9.86 s\n",
      "Wall time: 10 s\n"
     ]
    }
   ],
   "source": [
    "%%time\n",
    "cv = MyCountVectorizer(min_df=5)\n",
    "cv.fit(bayes_df_train)\n",
    "\n",
    "X_train = cv.transform(bayes_df_train) \n",
    "X_test = cv.transform(bayes_df_test)"
   ]
  },
  {
   "cell_type": "code",
   "execution_count": 334,
   "metadata": {},
   "outputs": [
    {
     "data": {
      "text/plain": [
       "(9832, 17232)"
      ]
     },
     "execution_count": 334,
     "metadata": {},
     "output_type": "execute_result"
    }
   ],
   "source": [
    "X_train.shape"
   ]
  },
  {
   "cell_type": "code",
   "execution_count": 335,
   "metadata": {},
   "outputs": [
    {
     "name": "stdout",
     "output_type": "stream",
     "text": [
      "Loss calculating...  Z done...  nll done...  grad done... done \n",
      "Loss calculating...  Z done...  nll done...  grad done... done \n",
      "Loss calculating...  Z done...  nll done...  grad done... done \n",
      "Loss calculating...  Z done... "
     ]
    },
    {
     "name": "stderr",
     "output_type": "stream",
     "text": [
      "/Library/Frameworks/Python.framework/Versions/3.7/lib/python3.7/site-packages/ipykernel_launcher.py:10: RuntimeWarning: overflow encountered in exp\n",
      "  # Remove the CWD from sys.path while we load stuff.\n"
     ]
    },
    {
     "name": "stdout",
     "output_type": "stream",
     "text": [
      " nll done...  grad done... done \n",
      "Loss calculating...  Z done...  nll done...  grad done... done \n",
      "CPU times: user 18.6 s, sys: 6.99 s, total: 25.6 s\n",
      "Wall time: 23.5 s\n"
     ]
    }
   ],
   "source": [
    "%%time\n",
    "LR = Logistic_Regression(max_iter=1, solver_calls=1, debug=True)\n",
    "LR.fit(X_train, y_train)"
   ]
  },
  {
   "cell_type": "code",
   "execution_count": 336,
   "metadata": {},
   "outputs": [
    {
     "data": {
      "text/plain": [
       "array([0.10636492, 0.92806863, 0.36798298, ..., 0.99932012, 0.99932012,\n",
       "       0.99932012])"
      ]
     },
     "execution_count": 336,
     "metadata": {},
     "output_type": "execute_result"
    }
   ],
   "source": [
    "LR.Theta"
   ]
  },
  {
   "cell_type": "code",
   "execution_count": 337,
   "metadata": {},
   "outputs": [
    {
     "data": {
      "text/plain": [
       "(17232,)"
      ]
     },
     "execution_count": 337,
     "metadata": {},
     "output_type": "execute_result"
    }
   ],
   "source": [
    "LR.Theta.shape"
   ]
  },
  {
   "cell_type": "code",
   "execution_count": 338,
   "metadata": {},
   "outputs": [
    {
     "data": {
      "text/plain": [
       "(9832, 17232)"
      ]
     },
     "execution_count": 338,
     "metadata": {},
     "output_type": "execute_result"
    }
   ],
   "source": [
    "X_train.shape"
   ]
  },
  {
   "cell_type": "code",
   "execution_count": 339,
   "metadata": {},
   "outputs": [],
   "source": [
    "predictions = LR.predict(X_train)"
   ]
  },
  {
   "cell_type": "code",
   "execution_count": 340,
   "metadata": {},
   "outputs": [
    {
     "name": "stdout",
     "output_type": "stream",
     "text": [
      "TRAIN\n",
      "Acc: 0.5117982099267697\n",
      "\n",
      "Confusion matrix:\n",
      "[[4706 4406]\n",
      " [ 394  326]]\n",
      "\n",
      "True negative (rating = 1): 4706\n",
      "True positive (rating = 10): 326\n",
      "False negative: 4406\n",
      "False positive: 394\n"
     ]
    }
   ],
   "source": [
    "M, N, acc = print_score(predictions, y_train, 'TRAIN')\n",
    "LGc_res.append(['Org train data\\n','Acc',acc])\n",
    "LGc_res.append(['Org train data\\n','FN',M[0][1]/N])\n",
    "LGc_res.append(['Org train data\\n','FP',M[1][0]/N])"
   ]
  },
  {
   "cell_type": "code",
   "execution_count": 341,
   "metadata": {},
   "outputs": [],
   "source": [
    "predictions = LR.predict(X_test)"
   ]
  },
  {
   "cell_type": "code",
   "execution_count": 342,
   "metadata": {},
   "outputs": [
    {
     "name": "stdout",
     "output_type": "stream",
     "text": [
      "TEST\n",
      "Acc: 0.4988524099391278\n",
      "\n",
      "Confusion matrix:\n",
      "[[4686 4686]\n",
      " [ 336  313]]\n",
      "\n",
      "True negative (rating = 1): 4686\n",
      "True positive (rating = 10): 313\n",
      "False negative: 4686\n",
      "False positive: 336\n"
     ]
    }
   ],
   "source": [
    "M, N, acc = print_score(predictions, y_test, 'TEST')\n",
    "LGc_res.append(['Org test data\\n','Acc',acc])\n",
    "LGc_res.append(['Org test data\\n','FN',M[0][1]/N])\n",
    "LGc_res.append(['Org test data\\n','FP',M[1][0]/N])"
   ]
  },
  {
   "cell_type": "markdown",
   "metadata": {},
   "source": [
    "## Stemming and stop words removal"
   ]
  },
  {
   "cell_type": "code",
   "execution_count": 343,
   "metadata": {},
   "outputs": [
    {
     "name": "stdout",
     "output_type": "stream",
     "text": [
      "CPU times: user 9.62 s, sys: 441 ms, total: 10.1 s\n",
      "Wall time: 10.3 s\n"
     ]
    }
   ],
   "source": [
    "%%time\n",
    "cv = MyCountVectorizer(min_df=5)\n",
    "cv.fit(stemmed_swr_train_df)\n",
    "\n",
    "X_train = cv.transform(stemmed_swr_train_df) \n",
    "X_test = cv.transform(stemmed_swr_test_df)"
   ]
  },
  {
   "cell_type": "code",
   "execution_count": 344,
   "metadata": {},
   "outputs": [
    {
     "data": {
      "text/plain": [
       "(9832, 12649)"
      ]
     },
     "execution_count": 344,
     "metadata": {},
     "output_type": "execute_result"
    }
   ],
   "source": [
    "X_train.shape"
   ]
  },
  {
   "cell_type": "code",
   "execution_count": 347,
   "metadata": {},
   "outputs": [
    {
     "name": "stdout",
     "output_type": "stream",
     "text": [
      "Loss calculating...  Z done...  nll done...  grad done... done \n",
      "Loss calculating...  Z done...  nll done...  grad done... done \n",
      "Loss calculating...  Z done...  nll done...  grad done... done \n",
      "Loss calculating...  Z done... "
     ]
    },
    {
     "name": "stderr",
     "output_type": "stream",
     "text": [
      "/Library/Frameworks/Python.framework/Versions/3.7/lib/python3.7/site-packages/ipykernel_launcher.py:10: RuntimeWarning: overflow encountered in exp\n",
      "  # Remove the CWD from sys.path while we load stuff.\n"
     ]
    },
    {
     "name": "stdout",
     "output_type": "stream",
     "text": [
      " nll done...  grad done... done \n",
      "Loss calculating...  Z done...  nll done...  grad done... done \n",
      "CPU times: user 17.1 s, sys: 5.62 s, total: 22.8 s\n",
      "Wall time: 20.8 s\n"
     ]
    }
   ],
   "source": [
    "%%time\n",
    "LR = Logistic_Regression(max_iter=1, solver_calls=1, debug=True)\n",
    "LR.fit(X_train, y_train)"
   ]
  },
  {
   "cell_type": "code",
   "execution_count": 355,
   "metadata": {},
   "outputs": [],
   "source": [
    "predictions = LR.predict(X_train)"
   ]
  },
  {
   "cell_type": "code",
   "execution_count": 356,
   "metadata": {},
   "outputs": [
    {
     "name": "stdout",
     "output_type": "stream",
     "text": [
      "TRAIN\n",
      "Acc: 0.5143409275834011\n",
      "\n",
      "Confusion matrix:\n",
      "[[4785 4460]\n",
      " [ 315  272]]\n",
      "\n",
      "True negative (rating = 1): 4785\n",
      "True positive (rating = 10): 272\n",
      "False negative: 4460\n",
      "False positive: 315\n"
     ]
    }
   ],
   "source": [
    "M, N, acc = print_score(predictions, y_train, 'TRAIN')\n",
    "LGc_res.append(['Stemmed train data\\nwithout stop words\\n','Acc',acc])\n",
    "LGc_res.append(['Stemmed train data\\nwithout stop words\\n','FN',M[0][1]/N])\n",
    "LGc_res.append(['Stemmed train data\\nwithout stop words\\n','FP',M[1][0]/N])"
   ]
  },
  {
   "cell_type": "code",
   "execution_count": 357,
   "metadata": {},
   "outputs": [],
   "source": [
    "predictions = LR.predict(X_test)"
   ]
  },
  {
   "cell_type": "code",
   "execution_count": 358,
   "metadata": {},
   "outputs": [
    {
     "name": "stdout",
     "output_type": "stream",
     "text": [
      "TEST\n",
      "Acc: 0.500648637860493\n",
      "\n",
      "Confusion matrix:\n",
      "[[4751 4733]\n",
      " [ 271  266]]\n",
      "\n",
      "True negative (rating = 1): 4751\n",
      "True positive (rating = 10): 266\n",
      "False negative: 4733\n",
      "False positive: 271\n"
     ]
    }
   ],
   "source": [
    "M, N, acc = print_score(predictions, y_test, 'TEST')\n",
    "LGc_res.append(['Stemmed test data\\nwithout stop words\\n','Acc',acc])\n",
    "LGc_res.append(['Stemmed test data\\nwithout stop words\\n','FN',M[0][1]/N])\n",
    "LGc_res.append(['Stemmed test data\\nwithout stop words\\n','FP',M[1][0]/N])"
   ]
  },
  {
   "cell_type": "code",
   "execution_count": 361,
   "metadata": {},
   "outputs": [],
   "source": [
    "LGc_res_df = pd.DataFrame(LGc_res,columns = ['Data','Y','Value'])"
   ]
  },
  {
   "cell_type": "code",
   "execution_count": 362,
   "metadata": {},
   "outputs": [
    {
     "data": {
      "text/plain": [
       "Text(0.5, 1, 'Our Naive Bayes class')"
      ]
     },
     "execution_count": 362,
     "metadata": {},
     "output_type": "execute_result"
    },
    {
     "data": {
      "image/png": "[encoded data removed]",
      "text/plain": [
       "<Figure size 773.875x360 with 1 Axes>"
      ]
     },
     "metadata": {
      "needs_background": "light"
     },
     "output_type": "display_data"
    }
   ],
   "source": [
    "sns.catplot(x=\"Data\", y=\"Value\", hue=\"Y\", data=LGc_res_df,\n",
    "                height=5, aspect = 2, kind=\"bar\", palette=\"muted\")\n",
    "plt.title(\"Our Naive Bayes class\")"
   ]
  },
  {
   "cell_type": "markdown",
   "metadata": {},
   "source": [
    "## Compare with sklearn Linear Regression"
   ]
  },
  {
   "cell_type": "code",
   "execution_count": null,
   "metadata": {},
   "outputs": [],
   "source": []
  },
  {
   "cell_type": "code",
   "execution_count": null,
   "metadata": {},
   "outputs": [],
   "source": []
  },
  {
   "cell_type": "code",
   "execution_count": null,
   "metadata": {},
   "outputs": [],
   "source": []
  },
  {
   "cell_type": "code",
   "execution_count": null,
   "metadata": {},
   "outputs": [],
   "source": []
  },
  {
   "cell_type": "markdown",
   "metadata": {},
   "source": [
    "### 5.1 Data vectorization (one-hot encoding)"
   ]
  },
  {
   "cell_type": "code",
   "execution_count": 22,
   "metadata": {},
   "outputs": [],
   "source": [
    "reviews_train_clean = np.array(train_df.text)\n",
    "reviews_test_clean = np.array(test_df.text)\n",
    "cv = CountVectorizer(binary=True)\n",
    "cv.fit(reviews_train_clean)\n",
    "X = cv.transform(reviews_train_clean)\n",
    "X_test = cv.transform(reviews_test_clean)"
   ]
  },
  {
   "cell_type": "code",
   "execution_count": 23,
   "metadata": {},
   "outputs": [
    {
     "name": "stderr",
     "output_type": "stream",
     "text": [
      "C:\\ProgramData\\Anaconda3\\lib\\site-packages\\sklearn\\linear_model\\logistic.py:432: FutureWarning: Default solver will be changed to 'lbfgs' in 0.22. Specify a solver to silence this warning.\n",
      "  FutureWarning)\n"
     ]
    },
    {
     "name": "stdout",
     "output_type": "stream",
     "text": [
      "Accuracy for C=0.01: 0.86576\n",
      "Accuracy for C=0.05: 0.87856\n",
      "Accuracy for C=0.25: 0.8784\n",
      "Accuracy for C=0.5: 0.87648\n",
      "Accuracy for C=1: 0.87504\n"
     ]
    }
   ],
   "source": [
    "target = [1 if i < 12500 else 0 for i in range(25000)]\n",
    "\n",
    "X_train, X_val, y_train, y_val = train_test_split(\n",
    "    X, target, train_size = 0.75\n",
    ")\n",
    "\n",
    "for c in [0.01, 0.05, 0.25, 0.5, 1]:    \n",
    "    lr = LogisticRegression(C=c,max_iter=300) # pobawic sie parametrami znalezc najlepsze\n",
    "    lr.fit(X_train, y_train)\n",
    "    print (\"Accuracy for C=%s: %s\" \n",
    "           % (c, accuracy_score(y_val, lr.predict(X_val))))"
   ]
  },
  {
   "cell_type": "markdown",
   "metadata": {},
   "source": [
    "# Text Preprocessing\n",
    "Removing stop words, stemming, encode review as a vector of words occurences"
   ]
  },
  {
   "cell_type": "code",
   "execution_count": 24,
   "metadata": {},
   "outputs": [],
   "source": [
    "from nltk.corpus import stopwords\n",
    "from nltk.stem import SnowballStemmer"
   ]
  },
  {
   "cell_type": "code",
   "execution_count": 25,
   "metadata": {},
   "outputs": [],
   "source": [
    "# We will be using reviews with rating equal 1 or 10 from training set. \n",
    "# Test samples rating will be also classified as 1 or 10\n",
    "LR_train_df = train_df[(train_df.rating == '1') | (train_df.rating == '10')]\n",
    "LR_test_df = test_df[(test_df.rating == '1') | (test_df.rating == '10')]"
   ]
  },
  {
   "cell_type": "code",
   "execution_count": 26,
   "metadata": {},
   "outputs": [],
   "source": [
    "LR_train_target = np.array([int(r) for r in LR_train_df['rating']]) // 10\n",
    "LR_test_target = np.array([int(r) for r in LR_test_df['rating']]) // 10"
   ]
  },
  {
   "cell_type": "code",
   "execution_count": 27,
   "metadata": {},
   "outputs": [
    {
     "data": {
      "text/plain": [
       "(9832, 2)"
      ]
     },
     "execution_count": 27,
     "metadata": {},
     "output_type": "execute_result"
    }
   ],
   "source": [
    "LR_train_df.shape"
   ]
  },
  {
   "cell_type": "code",
   "execution_count": 28,
   "metadata": {},
   "outputs": [],
   "source": [
    "stemmer = SnowballStemmer(\"english\")\n",
    "stopwords_set = set(stopwords.words('english'))"
   ]
  },
  {
   "cell_type": "code",
   "execution_count": 29,
   "metadata": {},
   "outputs": [],
   "source": [
    "def preprocess(sample):\n",
    "    words = sample.split()\n",
    "    words = [ stemmer.stem(word) for word in words if word not in stopwords_set ]\n",
    "    return words"
   ]
  },
  {
   "cell_type": "code",
   "execution_count": 30,
   "metadata": {},
   "outputs": [],
   "source": [
    "# sample from train set\n",
    "sample = '''brilliant overacting by lesley ann warren best dramatic hobo lady i \n",
    "have ever seen and love scenes in clothes warehouse are second to none the corn \n",
    "on face is a classic as good as anything in blazing saddles the take on lawyers \n",
    "is also superb after being accused of being a turncoat selling out his boss and \n",
    "being dishonest the lawyer of pepto bolt shrugs indifferently im a lawyer he says \n",
    "three funny words jeffrey tambor a favorite from the later larry sanders show is \n",
    "fantastic here too as a mad millionaire who wants to crush the ghetto his character \n",
    "is more malevolent than usual the hospital scene and the scene where the homeless \n",
    "invade a demolition site are alltime classics look for the legs scene and the two \n",
    "big diggers fighting one bleeds this movie gets better each time i see it which is \n",
    "quite often'''"
   ]
  },
  {
   "cell_type": "code",
   "execution_count": 31,
   "metadata": {},
   "outputs": [
    {
     "data": {
      "text/plain": [
       "'brilliant overact lesley ann warren best dramat hobo ladi ever seen love scene cloth warehous second none corn face classic good anyth blaze saddl take lawyer also superb accus turncoat sell boss dishonest lawyer pepto bolt shrug indiffer im lawyer say three funni word jeffrey tambor favorit later larri sander show fantast mad millionair want crush ghetto charact malevol usual hospit scene scene homeless invad demolit site alltim classic look leg scene two big digger fight one bleed movi get better time see quit often'"
      ]
     },
     "execution_count": 31,
     "metadata": {},
     "output_type": "execute_result"
    }
   ],
   "source": [
    "\" \".join(preprocess(sample))"
   ]
  },
  {
   "cell_type": "code",
   "execution_count": 32,
   "metadata": {},
   "outputs": [],
   "source": [
    "words = {}"
   ]
  },
  {
   "cell_type": "code",
   "execution_count": 33,
   "metadata": {},
   "outputs": [
    {
     "name": "stdout",
     "output_type": "stream",
     "text": [
      "Wall time: 32.1 s\n"
     ]
    }
   ],
   "source": [
    "%%time\n",
    "for i in LR_train_df.index:\n",
    "    sample = LR_train_df.loc[i]['text']\n",
    "    #words |= set(preprocess(sample)) <- for set of words\n",
    "    for word in preprocess(sample):\n",
    "        words[word] = words.get(word,0) + 1"
   ]
  },
  {
   "cell_type": "code",
   "execution_count": 34,
   "metadata": {},
   "outputs": [
    {
     "data": {
      "text/plain": [
       "17385"
      ]
     },
     "execution_count": 34,
     "metadata": {},
     "output_type": "execute_result"
    }
   ],
   "source": [
    "# from all stemmed words we consider only those, which occurs more than k times\n",
    "min_occur = 3\n",
    "all_train_words = list(filter(lambda w: words[w] >= min_occur,words))\n",
    "n_w = len(all_train_words)\n",
    "n_w"
   ]
  },
  {
   "cell_type": "code",
   "execution_count": 35,
   "metadata": {},
   "outputs": [],
   "source": [
    "all_train_words_indexes = {w:i for i,w in enumerate(all_train_words)}"
   ]
  },
  {
   "cell_type": "code",
   "execution_count": 36,
   "metadata": {},
   "outputs": [],
   "source": [
    "def vectorize(df):\n",
    "    data = []\n",
    "    for i in df.index:\n",
    "        v = np.zeros(n_w+1, dtype=np.int32)\n",
    "        v[0] = 1\n",
    "        sample = df.loc[i]['text']\n",
    "        words = preprocess(sample)\n",
    "        for word in words:\n",
    "            idx = all_train_words_indexes.get(word,-1)\n",
    "            if idx >= 0:\n",
    "                v[idx+1] += 1\n",
    "        data.append(v)\n",
    "    return np.array(data)"
   ]
  },
  {
   "cell_type": "code",
   "execution_count": 37,
   "metadata": {},
   "outputs": [],
   "source": [
    "vectorized_train = vectorize(LR_train_df)"
   ]
  },
  {
   "cell_type": "code",
   "execution_count": 38,
   "metadata": {},
   "outputs": [
    {
     "data": {
      "text/plain": [
       "(9832, 17386)"
      ]
     },
     "execution_count": 38,
     "metadata": {},
     "output_type": "execute_result"
    }
   ],
   "source": [
    "vectorized_train.shape"
   ]
  },
  {
   "cell_type": "markdown",
   "metadata": {},
   "source": [
    "# 6. Logistic Regression Class"
   ]
  },
  {
   "cell_type": "code",
   "execution_count": 1,
   "metadata": {},
   "outputs": [
    {
     "ename": "NameError",
     "evalue": "name 'sopt' is not defined",
     "output_type": "error",
     "traceback": [
      "\u001b[0;31m---------------------------------------------------------------------------\u001b[0m",
      "\u001b[0;31mNameError\u001b[0m                                 Traceback (most recent call last)",
      "\u001b[0;32m<ipython-input-1-fb458e2c1cf5>\u001b[0m in \u001b[0;36m<module>\u001b[0;34m\u001b[0m\n\u001b[0;32m----> 1\u001b[0;31m \u001b[0;32mclass\u001b[0m \u001b[0mLogistic_Regression\u001b[0m\u001b[0;34m:\u001b[0m\u001b[0;34m\u001b[0m\u001b[0m\n\u001b[0m\u001b[1;32m      2\u001b[0m     \u001b[0;32mdef\u001b[0m \u001b[0m__init__\u001b[0m\u001b[0;34m(\u001b[0m\u001b[0mself\u001b[0m\u001b[0;34m,\u001b[0m\u001b[0mmax_iter\u001b[0m \u001b[0;34m=\u001b[0m \u001b[0;36m500\u001b[0m\u001b[0;34m,\u001b[0m\u001b[0msolver_calls\u001b[0m \u001b[0;34m=\u001b[0m \u001b[0;36m5\u001b[0m\u001b[0;34m,\u001b[0m\u001b[0mTheta\u001b[0m \u001b[0;34m=\u001b[0m \u001b[0;32mNone\u001b[0m\u001b[0;34m,\u001b[0m\u001b[0msolver\u001b[0m \u001b[0;34m=\u001b[0m \u001b[0msopt\u001b[0m\u001b[0;34m.\u001b[0m\u001b[0mfmin_l_bfgs_b\u001b[0m\u001b[0;34m)\u001b[0m\u001b[0;34m:\u001b[0m\u001b[0;34m\u001b[0m\u001b[0m\n\u001b[1;32m      3\u001b[0m         \u001b[0mself\u001b[0m\u001b[0;34m.\u001b[0m\u001b[0mTheta\u001b[0m \u001b[0;34m=\u001b[0m \u001b[0mTheta\u001b[0m\u001b[0;34m\u001b[0m\u001b[0m\n\u001b[1;32m      4\u001b[0m         \u001b[0mself\u001b[0m\u001b[0;34m.\u001b[0m\u001b[0msolver_calls\u001b[0m \u001b[0;34m=\u001b[0m \u001b[0msolver_calls\u001b[0m\u001b[0;34m\u001b[0m\u001b[0m\n\u001b[1;32m      5\u001b[0m         \u001b[0mself\u001b[0m\u001b[0;34m.\u001b[0m\u001b[0mmax_iter\u001b[0m \u001b[0;34m=\u001b[0m \u001b[0mmax_iter\u001b[0m\u001b[0;34m\u001b[0m\u001b[0m\n",
      "\u001b[0;32m<ipython-input-1-fb458e2c1cf5>\u001b[0m in \u001b[0;36mLogistic_Regression\u001b[0;34m()\u001b[0m\n\u001b[1;32m      1\u001b[0m \u001b[0;32mclass\u001b[0m \u001b[0mLogistic_Regression\u001b[0m\u001b[0;34m:\u001b[0m\u001b[0;34m\u001b[0m\u001b[0m\n\u001b[0;32m----> 2\u001b[0;31m     \u001b[0;32mdef\u001b[0m \u001b[0m__init__\u001b[0m\u001b[0;34m(\u001b[0m\u001b[0mself\u001b[0m\u001b[0;34m,\u001b[0m\u001b[0mmax_iter\u001b[0m \u001b[0;34m=\u001b[0m \u001b[0;36m500\u001b[0m\u001b[0;34m,\u001b[0m\u001b[0msolver_calls\u001b[0m \u001b[0;34m=\u001b[0m \u001b[0;36m5\u001b[0m\u001b[0;34m,\u001b[0m\u001b[0mTheta\u001b[0m \u001b[0;34m=\u001b[0m \u001b[0;32mNone\u001b[0m\u001b[0;34m,\u001b[0m\u001b[0msolver\u001b[0m \u001b[0;34m=\u001b[0m \u001b[0msopt\u001b[0m\u001b[0;34m.\u001b[0m\u001b[0mfmin_l_bfgs_b\u001b[0m\u001b[0;34m)\u001b[0m\u001b[0;34m:\u001b[0m\u001b[0;34m\u001b[0m\u001b[0m\n\u001b[0m\u001b[1;32m      3\u001b[0m         \u001b[0mself\u001b[0m\u001b[0;34m.\u001b[0m\u001b[0mTheta\u001b[0m \u001b[0;34m=\u001b[0m \u001b[0mTheta\u001b[0m\u001b[0;34m\u001b[0m\u001b[0m\n\u001b[1;32m      4\u001b[0m         \u001b[0mself\u001b[0m\u001b[0;34m.\u001b[0m\u001b[0msolver_calls\u001b[0m \u001b[0;34m=\u001b[0m \u001b[0msolver_calls\u001b[0m\u001b[0;34m\u001b[0m\u001b[0m\n\u001b[1;32m      5\u001b[0m         \u001b[0mself\u001b[0m\u001b[0;34m.\u001b[0m\u001b[0mmax_iter\u001b[0m \u001b[0;34m=\u001b[0m \u001b[0mmax_iter\u001b[0m\u001b[0;34m\u001b[0m\u001b[0m\n",
      "\u001b[0;31mNameError\u001b[0m: name 'sopt' is not defined"
     ]
    }
   ],
   "source": [
    "class Logistic_Regression:\n",
    "    def __init__(self,max_iter = 500,solver_calls = 5,Theta = None,solver = sopt.fmin_l_bfgs_b):\n",
    "        self.Theta = Theta\n",
    "        self.solver_calls = solver_calls\n",
    "        self.max_iter = max_iter\n",
    "        self.solver = solver\n",
    "    \n",
    "    def __sigmoid(self,x):\n",
    "        return 1 / (1 + np.exp(-x))    \n",
    "    \n",
    "    def __logreg_loss(self,Theta, X, Y):\n",
    "        print(f\"Loss calculating... \",end=\"\")\n",
    "        Z = np.dot(Theta,X.T)\n",
    "        print(f\" Z done... \",end=\"\")\n",
    "        SZ = self.__sigmoid(Z)\n",
    "        nll = -np.sum([\n",
    "                        y * np.log2(SZ + 1e-7) \\\n",
    "                        + (1-y) * np.log2(1 - SZ + 1e-7) \\\n",
    "                        for y in Y\n",
    "                        ])\n",
    "        print(f\" nll done... \",end=\"\")\n",
    "        grad = np.dot(X.T, (SZ - Y).T )\n",
    "        print(f\" grad done... done \")\n",
    "        return nll, grad.reshape(Theta.shape)\n",
    "    \n",
    "    def fit(self,X,y):\n",
    "        Theta = self.Theta\n",
    "        if Theta is None:\n",
    "            Theta = np.ones(X.shape[1])\n",
    "        for i in range(self.solver_calls):\n",
    "            Theta = self.solver(lambda th: self.__logreg_loss(th, X, y), Theta, maxiter=self.max_iter)[0]\n",
    "        self.Theta = Theta\n",
    "    \n",
    "    def __logreg_classify(self,x):\n",
    "        return (self.Theta.T.dot(x) >= 0)\n",
    "\n",
    "    def predict(self,Xs):\n",
    "        return [logreg_classify(self.Theta,x) for x in Xs]"
   ]
  },
  {
   "cell_type": "code",
   "execution_count": 46,
   "metadata": {},
   "outputs": [],
   "source": [
    "#vectorized_test = vectorize(LR_test_df)"
   ]
  },
  {
   "cell_type": "code",
   "execution_count": 74,
   "metadata": {},
   "outputs": [
    {
     "name": "stdout",
     "output_type": "stream",
     "text": [
      "Accuracy: 0.8216744835844726\n"
     ]
    }
   ],
   "source": [
    "#print(\"Accuracy: %s\"  % accuracy_score(LR_test_target, logreg_predict(ThetaOpt,vectorized_test)))"
   ]
  },
  {
   "cell_type": "markdown",
   "metadata": {},
   "source": [
    "# Bin"
   ]
  },
  {
   "cell_type": "code",
   "execution_count": 14,
   "metadata": {},
   "outputs": [],
   "source": [
    "GOOD_WORDS = defaultdict(int)\n",
    "BAD_WORDS = defaultdict(int)"
   ]
  },
  {
   "cell_type": "code",
   "execution_count": 12,
   "metadata": {},
   "outputs": [
    {
     "name": "stderr",
     "output_type": "stream",
     "text": [
      "Creating Bayes dictionaries: 9832it [00:02, 4182.13it/s]\n"
     ]
    }
   ],
   "source": [
    "for index, row in tqdm(bayes_df_train.iterrows(), desc='Creating Bayes dictionaries', position=0):\n",
    "    text, rating = row['text'], row['rating']\n",
    "    \n",
    "    for word in text.split():\n",
    "        if rating == '10':\n",
    "            GOOD_WORDS[word] += 1\n",
    "        else:\n",
    "            BAD_WORDS[word] += 1"
   ]
  },
  {
   "cell_type": "code",
   "execution_count": 13,
   "metadata": {},
   "outputs": [
    {
     "data": {
      "text/plain": [
       "[('the', 56972),\n",
       " ('and', 30301),\n",
       " ('a', 26016),\n",
       " ('of', 25791),\n",
       " ('to', 22249),\n",
       " ('is', 19380),\n",
       " ('in', 16257),\n",
       " ('i', 14729),\n",
       " ('it', 14595),\n",
       " ('this', 13341)]"
      ]
     },
     "execution_count": 13,
     "metadata": {},
     "output_type": "execute_result"
    }
   ],
   "source": [
    "# most frequent GOOD words\n",
    "list(sorted(GOOD_WORDS.items(), key=lambda x: x[1], reverse=True))[:10]"
   ]
  },
  {
   "cell_type": "code",
   "execution_count": 14,
   "metadata": {},
   "outputs": [
    {
     "data": {
      "text/plain": [
       "[('the', 58427),\n",
       " ('a', 28386),\n",
       " ('and', 26617),\n",
       " ('to', 26292),\n",
       " ('of', 25218),\n",
       " ('is', 18370),\n",
       " ('this', 18239),\n",
       " ('i', 17985),\n",
       " ('it', 15645),\n",
       " ('in', 15538)]"
      ]
     },
     "execution_count": 14,
     "metadata": {},
     "output_type": "execute_result"
    }
   ],
   "source": [
    "# most frequent BAD words\n",
    "list(sorted(BAD_WORDS.items(), key=lambda x: x[1], reverse=True))[:10]"
   ]
  },
  {
   "cell_type": "code",
   "execution_count": 15,
   "metadata": {},
   "outputs": [],
   "source": [
    "def classify(text, target_dict):\n",
    "    text = regex(text)\n",
    "    \n",
    "    for word in text.split():\n",
    "        if not word in target_dict:\n",
    "            target_dict[word] = 1\n",
    "            \n",
    "    sum_of_all = sum(target_dict.values())\n",
    "    \n",
    "    ppd = 0\n",
    "    for word in text.split():\n",
    "        ppd += np.log2(float(target_dict[word]) / sum_of_all)\n",
    "        \n",
    "    return ppd\n",
    "    \n",
    "    \n",
    "def predict(text):\n",
    "    ppd_good = classify(text, GOOD_WORDS)\n",
    "    ppd_bad = classify(text, BAD_WORDS)\n",
    "    \n",
    "    all_ppd = np.array([ppd_good, ppd_bad])\n",
    "    target = ['10', '1'][np.argmax(all_ppd)]\n",
    "    \n",
    "    return target"
   ]
  },
  {
   "cell_type": "markdown",
   "metadata": {},
   "source": [
    "### 3.1 Checking train accuracy"
   ]
  },
  {
   "cell_type": "code",
   "execution_count": 16,
   "metadata": {
    "scrolled": true
   },
   "outputs": [
    {
     "name": "stderr",
     "output_type": "stream",
     "text": [
      "Checking train accuracy: 9832it [00:25, 378.44it/s]\n"
     ]
    }
   ],
   "source": [
    "correct, wrong = 0, 0\n",
    "real_targets, predictions = [], []\n",
    "\n",
    "for index, row in tqdm(bayes_df_train.iterrows(), desc='Checking train accuracy', position=0):\n",
    "    text, rating = row['text'], row['rating']\n",
    "    \n",
    "    pred = predict(text)\n",
    "    real_targets.append(rating)\n",
    "    predictions.append(pred)\n",
    "    if pred == rating:\n",
    "        correct += 1\n",
    "    else:\n",
    "        wrong += 1"
   ]
  },
  {
   "cell_type": "code",
   "execution_count": 17,
   "metadata": {},
   "outputs": [
    {
     "name": "stdout",
     "output_type": "stream",
     "text": [
      "Correct: 9346, Wrong: 486\n",
      "Accuracy: 95.05695687550855%\n",
      "\n",
      "Confusion matrix:\n",
      "[[4922  308]\n",
      " [ 178 4424]]\n",
      "\n",
      "True negative (rating = 1): 4922\n",
      "True positive (rating = 10): 4424\n",
      "False negative: 308\n",
      "False positive: 178\n"
     ]
    }
   ],
   "source": [
    "print(f'Correct: {correct}, Wrong: {wrong}')\n",
    "print(f'Accuracy: {correct / (wrong + correct) * 100}%')\n",
    "\n",
    "M = metrics.confusion_matrix(predictions, real_targets)\n",
    "print('\\nConfusion matrix:')\n",
    "print(M)\n",
    "print(f'\\nTrue negative (rating = 1): {M[0][0]}')\n",
    "print(f'True positive (rating = 10): {M[1][1]}')\n",
    "print(f'False negative: {M[0][1]}')\n",
    "print(f'False positive: {M[1][0]}')"
   ]
  },
  {
   "cell_type": "markdown",
   "metadata": {},
   "source": [
    "*So we are rather sceptic and most of our mistakes are movies which are good, but we classify them as bad."
   ]
  },
  {
   "cell_type": "markdown",
   "metadata": {},
   "source": [
    "### 3.2 Checking test accuracy"
   ]
  },
  {
   "cell_type": "code",
   "execution_count": 18,
   "metadata": {},
   "outputs": [
    {
     "name": "stderr",
     "output_type": "stream",
     "text": [
      "Checking test accuracy: 10021it [00:33, 297.44it/s]\n"
     ]
    }
   ],
   "source": [
    "correct, wrong = 0, 0\n",
    "real_targets, predictions = [], []\n",
    "\n",
    "for index, row in tqdm(bayes_df_test.iterrows(), desc='Checking test accuracy', position=0):\n",
    "    text, rating = row['text'], row['rating']\n",
    "    \n",
    "    pred = predict(text)\n",
    "    real_targets.append(rating)\n",
    "    predictions.append(pred)\n",
    "\n",
    "    if pred == rating:\n",
    "        correct += 1\n",
    "    else:\n",
    "        wrong += 1"
   ]
  },
  {
   "cell_type": "code",
   "execution_count": 19,
   "metadata": {},
   "outputs": [
    {
     "name": "stdout",
     "output_type": "stream",
     "text": [
      "Correct: 8901, Wrong: 1120\n",
      "Accuracy: 88.82347071150583%\n",
      "\n",
      "Confusion matrix:\n",
      "[[4689  787]\n",
      " [ 333 4212]]\n",
      "\n",
      "True negative (rating = 1): 4689\n",
      "True positive (rating = 10): 4212\n",
      "False negative: 787\n",
      "False positive: 333\n"
     ]
    }
   ],
   "source": [
    "print(f'Correct: {correct}, Wrong: {wrong}')\n",
    "print(f'Accuracy: {correct / (wrong + correct) * 100}%')\n",
    "\n",
    "M = metrics.confusion_matrix(predictions, real_targets)\n",
    "print('\\nConfusion matrix:')\n",
    "print(M)\n",
    "print(f'\\nTrue negative (rating = 1): {M[0][0]}')\n",
    "print(f'True positive (rating = 10): {M[1][1]}')\n",
    "print(f'False negative: {M[0][1]}')\n",
    "print(f'False positive: {M[1][0]}')"
   ]
  },
  {
   "cell_type": "markdown",
   "metadata": {},
   "source": [
    "*Again we are sceptic"
   ]
  }
 ],
 "metadata": {
  "file_extension": ".py",
  "kernelspec": {
   "display_name": "Python 3",
   "language": "python",
   "name": "python3"
  },
  "language_info": {
   "codemirror_mode": {
    "name": "ipython",
    "version": 3
   },
   "file_extension": ".py",
   "mimetype": "text/x-python",
   "name": "python",
   "nbconvert_exporter": "python",
   "pygments_lexer": "ipython3",
   "version": "3.7.4"
  },
  "mimetype": "text/x-python",
  "name": "python",
  "npconvert_exporter": "python",
  "pygments_lexer": "ipython3",
  "version": 3
 },
 "nbformat": 4,
 "nbformat_minor": 4
}
