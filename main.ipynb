{
 "cells": [
  {
   "cell_type": "markdown",
   "metadata": {},
   "source": [
    "# Imports"
   ]
  },
  {
   "cell_type": "code",
   "execution_count": 1,
   "metadata": {},
   "outputs": [],
   "source": [
    "# set up\n",
    "import numpy as np\n",
    "import pandas as pd\n",
    "import seaborn as sns\n",
    "import matplotlib.pyplot as plt\n",
    "import glob\n",
    "import re\n",
    "import string\n",
    "import cvxopt # <- installation via conda recommended\n",
    "from collections import defaultdict\n",
    "from sklearn import metrics\n",
    "from tqdm import tqdm\n",
    "from sklearn.feature_extraction.text import CountVectorizer\n",
    "from sklearn.feature_extraction.text import TfidfVectorizer\n",
    "from sklearn.naive_bayes import MultinomialNB\n",
    "from sklearn.linear_model import LogisticRegression\n",
    "from sklearn.metrics import accuracy_score\n",
    "from sklearn.model_selection import train_test_split\n",
    "from sklearn.svm import SVC\n",
    "from sklearn.metrics.pairwise import rbf_kernel\n",
    "import nltk\n",
    "from nltk.stem.snowball import SnowballStemmer\n",
    "from nltk.corpus import stopwords\n",
    "import scipy.optimize as sopt\n",
    "import scipy.stats as sstats"
   ]
  },
  {
   "cell_type": "markdown",
   "metadata": {},
   "source": [
    "# Motivation"
   ]
  },
  {
   "cell_type": "markdown",
   "metadata": {},
   "source": [
    "The main goal of this project is to predict the sentiments of sentences. <br>\n",
    "We work with IMDB movies reviews dataset. Movies are rated from 1 to 10. We consider only the reviews with rating 1 (the worst ones) and 10 (the best ones). <br>\n",
    "The assumption is that movies with rating 1 have negative sentiment and movies with rating 10 have a positive sentiment. <br>"
   ]
  },
  {
   "cell_type": "markdown",
   "metadata": {},
   "source": [
    "# Preparing data (IMDb movies' reviews)"
   ]
  },
  {
   "cell_type": "markdown",
   "metadata": {},
   "source": [
    "## Macro for windows / mac users"
   ]
  },
  {
   "cell_type": "code",
   "execution_count": 2,
   "metadata": {},
   "outputs": [],
   "source": [
    "#system = 'Mac'\n",
    "system = 'Win'"
   ]
  },
  {
   "cell_type": "code",
   "execution_count": 3,
   "metadata": {},
   "outputs": [],
   "source": [
    "train_pos_path = 'data_sets/aclImdb/train/pos/*'\n",
    "train_neg_path = 'data_sets/aclImdb/train/neg/*'\n",
    "\n",
    "train_pos = glob.glob(train_pos_path)\n",
    "train_neg = glob.glob(train_neg_path)\n",
    "\n",
    "\n",
    "test_pos_path = 'data_sets/aclImdb/test/pos/*'\n",
    "test_neg_path = 'data_sets/aclImdb/test/neg/*'\n",
    "\n",
    "test_pos = glob.glob(test_pos_path)\n",
    "test_neg = glob.glob(test_neg_path)"
   ]
  },
  {
   "cell_type": "code",
   "execution_count": 4,
   "metadata": {},
   "outputs": [],
   "source": [
    "train_df = []\n",
    "test_df = []"
   ]
  },
  {
   "cell_type": "code",
   "execution_count": 7,
   "metadata": {},
   "outputs": [],
   "source": [
    "def read_data(path, message):\n",
    "    res = []\n",
    "    for p in tqdm(path, desc=message, position=0):\n",
    "        with open(p, encoding=\"utf8\") as f:\n",
    "            text = f.read()\n",
    "\n",
    "    #         For win users\n",
    "            if system == 'Win':\n",
    "                beg = p.find('\\\\')\n",
    "\n",
    "    #         For mac users\n",
    "            if system == 'Mac':\n",
    "                beg = re.search(r\"\\d\",p).start()-1\n",
    "\n",
    "            idx, rating = p[beg+1:-4].split('_')\n",
    "            res.append([text, rating])\n",
    "            \n",
    "    return res"
   ]
  },
  {
   "cell_type": "code",
   "execution_count": 6,
   "metadata": {},
   "outputs": [
    {
     "name": "stderr",
     "output_type": "stream",
     "text": [
      "Getting positive train data: 100%|██████████████████████████████████████████████| 12500/12500 [00:14<00:00, 837.98it/s]\n",
      "Getting negative train data: 100%|██████████████████████████████████████████████| 12500/12500 [00:17<00:00, 719.49it/s]\n",
      "Getting positive test data: 100%|███████████████████████████████████████████████| 12500/12500 [00:21<00:00, 588.64it/s]\n",
      "Getting negative test data: 100%|███████████████████████████████████████████████| 12500/12500 [00:24<00:00, 518.42it/s]\n"
     ]
    }
   ],
   "source": [
    "train_df += read_data(path=train_pos, message='Getting positive train data')\n",
    "train_df += read_data(path=train_neg, message='Getting negative train data')\n",
    "\n",
    "test_df += read_data(path=test_pos, message='Getting positive test data')\n",
    "test_df += read_data(path=test_neg, message='Getting negative test data')"
   ]
  },
  {
   "cell_type": "code",
   "execution_count": 8,
   "metadata": {},
   "outputs": [],
   "source": [
    "train_df = pd.DataFrame(train_df, columns=['text', 'rating'])\n",
    "test_df = pd.DataFrame(test_df, columns=['text', 'rating'])"
   ]
  },
  {
   "cell_type": "code",
   "execution_count": 9,
   "metadata": {},
   "outputs": [
    {
     "name": "stdout",
     "output_type": "stream",
     "text": [
      "Records:  50000\n"
     ]
    },
    {
     "data": {
      "text/html": [
       "<div>\n",
       "<style scoped>\n",
       "    .dataframe tbody tr th:only-of-type {\n",
       "        vertical-align: middle;\n",
       "    }\n",
       "\n",
       "    .dataframe tbody tr th {\n",
       "        vertical-align: top;\n",
       "    }\n",
       "\n",
       "    .dataframe thead th {\n",
       "        text-align: right;\n",
       "    }\n",
       "</style>\n",
       "<table border=\"1\" class=\"dataframe\">\n",
       "  <thead>\n",
       "    <tr style=\"text-align: right;\">\n",
       "      <th></th>\n",
       "      <th>text</th>\n",
       "      <th>rating</th>\n",
       "    </tr>\n",
       "  </thead>\n",
       "  <tbody>\n",
       "    <tr>\n",
       "      <td>0</td>\n",
       "      <td>Bromwell High is a cartoon comedy. It ran at t...</td>\n",
       "      <td>9</td>\n",
       "    </tr>\n",
       "    <tr>\n",
       "      <td>1</td>\n",
       "      <td>Homelessness (or Houselessness as George Carli...</td>\n",
       "      <td>8</td>\n",
       "    </tr>\n",
       "    <tr>\n",
       "      <td>2</td>\n",
       "      <td>Brilliant over-acting by Lesley Ann Warren. Be...</td>\n",
       "      <td>10</td>\n",
       "    </tr>\n",
       "    <tr>\n",
       "      <td>3</td>\n",
       "      <td>This is easily the most underrated film inn th...</td>\n",
       "      <td>7</td>\n",
       "    </tr>\n",
       "    <tr>\n",
       "      <td>4</td>\n",
       "      <td>This is not the typical Mel Brooks film. It wa...</td>\n",
       "      <td>8</td>\n",
       "    </tr>\n",
       "  </tbody>\n",
       "</table>\n",
       "</div>"
      ],
      "text/plain": [
       "                                                text rating\n",
       "0  Bromwell High is a cartoon comedy. It ran at t...      9\n",
       "1  Homelessness (or Houselessness as George Carli...      8\n",
       "2  Brilliant over-acting by Lesley Ann Warren. Be...     10\n",
       "3  This is easily the most underrated film inn th...      7\n",
       "4  This is not the typical Mel Brooks film. It wa...      8"
      ]
     },
     "execution_count": 9,
     "metadata": {},
     "output_type": "execute_result"
    }
   ],
   "source": [
    "print('Records: ', train_df.size)\n",
    "train_df.head()"
   ]
  },
  {
   "cell_type": "code",
   "execution_count": 10,
   "metadata": {},
   "outputs": [
    {
     "name": "stdout",
     "output_type": "stream",
     "text": [
      "Number of reviews with rating 1: 5100\n",
      "Number of reviews with rating 2: 2284\n",
      "Number of reviews with rating 3: 2420\n",
      "Number of reviews with rating 4: 2696\n",
      "Number of reviews with rating 5: 0\n",
      "Number of reviews with rating 6: 0\n",
      "Number of reviews with rating 7: 2496\n",
      "Number of reviews with rating 8: 3009\n",
      "Number of reviews with rating 9: 2263\n",
      "Number of reviews with rating 10: 4732\n"
     ]
    }
   ],
   "source": [
    "for i in range(1, 11):\n",
    "    print(f'Number of reviews with rating {i}: {train_df[train_df.rating == str(i)].shape[0]}')"
   ]
  },
  {
   "cell_type": "markdown",
   "metadata": {},
   "source": [
    "# Baseline"
   ]
  },
  {
   "cell_type": "markdown",
   "metadata": {},
   "source": [
    "As one can see there is 4732 reviews with rating 10 and 5100 reviews with rating 1. <br>\n",
    "Simple classifier that always votes for one class gives us baseline accuracy of 51.87 %."
   ]
  },
  {
   "cell_type": "markdown",
   "metadata": {},
   "source": [
    "# Preprocessing"
   ]
  },
  {
   "cell_type": "markdown",
   "metadata": {},
   "source": [
    "Apart from obvious procedures like removing punctuation and lowering all sentences we try different preprocessing techniques such as: <br>\n",
    "1. Stemming, (reducing words to their root form, we decrease the size of words dictionary).\n",
    "2. Stop words removal, (we assume that words like 'the', 'and', 'a/an' etc. don't give much information).\n",
    "3. N-grams, (considering contiguous sequences of n items from a given sample of text)."
   ]
  },
  {
   "cell_type": "markdown",
   "metadata": {},
   "source": [
    "## Remove punctuation and lower sentences"
   ]
  },
  {
   "cell_type": "code",
   "execution_count": 11,
   "metadata": {},
   "outputs": [],
   "source": [
    "def regex(text):\n",
    "    text = re.sub(r'[^\\w\\s]', '', text.lower())\n",
    "    return text"
   ]
  },
  {
   "cell_type": "code",
   "execution_count": 12,
   "metadata": {},
   "outputs": [
    {
     "name": "stdout",
     "output_type": "stream",
     "text": [
      "Wall time: 2.42 s\n"
     ]
    }
   ],
   "source": [
    "%%time\n",
    "# Remove punctuaction and lower all texts\n",
    "train_df.text = train_df.text.apply(lambda row: regex(row))\n",
    "test_df.text = test_df.text.apply(lambda row: regex(row))"
   ]
  },
  {
   "cell_type": "code",
   "execution_count": 13,
   "metadata": {},
   "outputs": [
    {
     "data": {
      "text/html": [
       "<div>\n",
       "<style scoped>\n",
       "    .dataframe tbody tr th:only-of-type {\n",
       "        vertical-align: middle;\n",
       "    }\n",
       "\n",
       "    .dataframe tbody tr th {\n",
       "        vertical-align: top;\n",
       "    }\n",
       "\n",
       "    .dataframe thead th {\n",
       "        text-align: right;\n",
       "    }\n",
       "</style>\n",
       "<table border=\"1\" class=\"dataframe\">\n",
       "  <thead>\n",
       "    <tr style=\"text-align: right;\">\n",
       "      <th></th>\n",
       "      <th>text</th>\n",
       "      <th>rating</th>\n",
       "    </tr>\n",
       "  </thead>\n",
       "  <tbody>\n",
       "    <tr>\n",
       "      <td>0</td>\n",
       "      <td>bromwell high is a cartoon comedy it ran at th...</td>\n",
       "      <td>9</td>\n",
       "    </tr>\n",
       "    <tr>\n",
       "      <td>1</td>\n",
       "      <td>homelessness or houselessness as george carlin...</td>\n",
       "      <td>8</td>\n",
       "    </tr>\n",
       "    <tr>\n",
       "      <td>2</td>\n",
       "      <td>brilliant overacting by lesley ann warren best...</td>\n",
       "      <td>10</td>\n",
       "    </tr>\n",
       "    <tr>\n",
       "      <td>3</td>\n",
       "      <td>this is easily the most underrated film inn th...</td>\n",
       "      <td>7</td>\n",
       "    </tr>\n",
       "    <tr>\n",
       "      <td>4</td>\n",
       "      <td>this is not the typical mel brooks film it was...</td>\n",
       "      <td>8</td>\n",
       "    </tr>\n",
       "  </tbody>\n",
       "</table>\n",
       "</div>"
      ],
      "text/plain": [
       "                                                text rating\n",
       "0  bromwell high is a cartoon comedy it ran at th...      9\n",
       "1  homelessness or houselessness as george carlin...      8\n",
       "2  brilliant overacting by lesley ann warren best...     10\n",
       "3  this is easily the most underrated film inn th...      7\n",
       "4  this is not the typical mel brooks film it was...      8"
      ]
     },
     "execution_count": 13,
     "metadata": {},
     "output_type": "execute_result"
    }
   ],
   "source": [
    "train_df.head()"
   ]
  },
  {
   "cell_type": "code",
   "execution_count": 14,
   "metadata": {},
   "outputs": [],
   "source": [
    "# consider only rating 1 and 10\n",
    "bayes_df_train = train_df[(train_df.rating == '1') | (train_df.rating == '10')]\n",
    "bayes_df_test = test_df[(test_df.rating == '1') | (test_df.rating == '10')]"
   ]
  },
  {
   "cell_type": "markdown",
   "metadata": {},
   "source": [
    "## Stemming"
   ]
  },
  {
   "cell_type": "code",
   "execution_count": 15,
   "metadata": {},
   "outputs": [
    {
     "name": "stderr",
     "output_type": "stream",
     "text": [
      "[nltk_data] Downloading package stopwords to C:\\Users\\Mateusz\n",
      "[nltk_data]     Markiewicz\\AppData\\Roaming\\nltk_data...\n",
      "[nltk_data]   Package stopwords is already up-to-date!\n"
     ]
    }
   ],
   "source": [
    "stemmer = SnowballStemmer(\"english\")\n",
    "nltk.download('stopwords')\n",
    "stop_words = set(stopwords.words('english'))"
   ]
  },
  {
   "cell_type": "code",
   "execution_count": 16,
   "metadata": {},
   "outputs": [],
   "source": [
    "def stem_(text):\n",
    "    return ' '.join([stemmer.stem(word) for word in text.split()])"
   ]
  },
  {
   "cell_type": "code",
   "execution_count": 17,
   "metadata": {},
   "outputs": [
    {
     "name": "stdout",
     "output_type": "stream",
     "text": [
      "Wall time: 1min 1s\n"
     ]
    }
   ],
   "source": [
    "%%time\n",
    "stemmed_train_df = bayes_df_train.copy()\n",
    "stemmed_test_df = bayes_df_test.copy()\n",
    "stemmed_train_df.text = stemmed_train_df.text.apply(lambda row: stem_(row))\n",
    "stemmed_test_df.text = stemmed_test_df.text.apply(lambda row: stem_(row))"
   ]
  },
  {
   "cell_type": "markdown",
   "metadata": {},
   "source": [
    "## Stop words removal"
   ]
  },
  {
   "cell_type": "code",
   "execution_count": 18,
   "metadata": {},
   "outputs": [],
   "source": [
    "def remove_stop_words(text):\n",
    "    return ' '.join([word for word in text.split() if word not in stop_words])"
   ]
  },
  {
   "cell_type": "code",
   "execution_count": 19,
   "metadata": {},
   "outputs": [
    {
     "name": "stdout",
     "output_type": "stream",
     "text": [
      "Wall time: 887 ms\n"
     ]
    }
   ],
   "source": [
    "%%time\n",
    "swr_train_df = bayes_df_train.copy()\n",
    "swr_test_df = bayes_df_test.copy()\n",
    "swr_train_df.text = swr_train_df.text.apply(lambda row: remove_stop_words(row))\n",
    "swr_test_df.text = swr_test_df.text.apply(lambda row: remove_stop_words(row))"
   ]
  },
  {
   "cell_type": "code",
   "execution_count": 20,
   "metadata": {},
   "outputs": [],
   "source": [
    "def stem_and_remove_stop_words(text):\n",
    "    return ' '.join([stemmer.stem(word) for word in text.split() if word not in stop_words])"
   ]
  },
  {
   "cell_type": "code",
   "execution_count": 21,
   "metadata": {},
   "outputs": [
    {
     "name": "stdout",
     "output_type": "stream",
     "text": [
      "Wall time: 39.6 s\n"
     ]
    }
   ],
   "source": [
    "%%time\n",
    "stemmed_swr_train_df = bayes_df_train.copy()\n",
    "stemmed_swr_test_df = bayes_df_test.copy()\n",
    "stemmed_swr_train_df.text = stemmed_swr_train_df.text.apply(lambda row: stem_and_remove_stop_words(row))\n",
    "stemmed_swr_test_df.text = stemmed_swr_test_df.text.apply(lambda row: stem_and_remove_stop_words(row))"
   ]
  },
  {
   "cell_type": "markdown",
   "metadata": {},
   "source": [
    "## Score visualization"
   ]
  },
  {
   "cell_type": "code",
   "execution_count": 47,
   "metadata": {},
   "outputs": [],
   "source": [
    "def print_score(preds,Y,name,prints=True):\n",
    "    print(name)\n",
    "    acc = np.mean(preds == Y)\n",
    "    print(f\"Acc: {acc}\")\n",
    "    M = metrics.confusion_matrix(preds,Y)\n",
    "    N = np.sum(M)\n",
    "    if prints:\n",
    "        print('\\nConfusion matrix:')\n",
    "        print(M)\n",
    "        print(f'\\nTrue negative (rating = 1): {M[0][0]}')\n",
    "        print(f'True positive (rating = 10): {M[1][1]}')\n",
    "        print(f'False negative: {M[0][1]}')\n",
    "        print(f'False positive: {M[1][0]}')\n",
    "    return M,N,acc"
   ]
  },
  {
   "cell_type": "markdown",
   "metadata": {},
   "source": [
    "## Plotting"
   ]
  },
  {
   "cell_type": "code",
   "execution_count": 23,
   "metadata": {},
   "outputs": [],
   "source": [
    "def plot_bar(X, Y1, Y2, title, x_title, width=0.02, a=0, b=-1):\n",
    "    def autolabel(rects):\n",
    "        for rect in rects:\n",
    "            height = rect.get_height()\n",
    "            ax.annotate('{:.2f}%'.format(height * 100),\n",
    "                        xy=(rect.get_x() + rect.get_width() / 2, height),\n",
    "                        xytext=(0, 3),  # 3 points vertical offset\n",
    "                        textcoords=\"offset points\",\n",
    "                        ha='center', va='bottom')\n",
    "        \n",
    "    fig, ax = plt.subplots(figsize=(15,5))\n",
    "    rects1 = ax.bar(X[a: b] - width/2, Y1[a: b], width, label='Train')\n",
    "    rects2 = ax.bar(X[a: b] + width/2, Y2[a: b], width, label='Test')\n",
    "    ax.set_ylabel('Accuracy')\n",
    "    ax.set_xlabel(x_title)\n",
    "    ax.set_xticks(X[a: b])\n",
    "    ax.set_ylim([0, 0.7])\n",
    "    ax.set_title(title)\n",
    "    ax.legend(loc='lower right')\n",
    "    autolabel(rects1)\n",
    "    autolabel(rects2)\n",
    "    \n",
    "    \n",
    "def plot(X, Y1, Y2, title, x_title):\n",
    "    plt.plot(X, Y1, label='Train')\n",
    "    plt.plot(X, Y2, label='Test')\n",
    "    plt.title(title)\n",
    "    plt.legend(loc='lower left')\n",
    "    plt.xlabel(x_title)\n",
    "    plt.ylabel('Accuracy')\n",
    "    \n",
    "    \n",
    "def autolabel(rects):\n",
    "    for rect in rects:\n",
    "        height = rect.get_height()\n",
    "        ax.annotate('{:.2f}%'.format(height * 100),\n",
    "                    xy=(rect.get_x() + rect.get_width() / 2, height),\n",
    "                    xytext=(0, 3),  # 3 points vertical offset\n",
    "                    textcoords=\"offset points\",\n",
    "                    ha='center', va='bottom')"
   ]
  },
  {
   "cell_type": "markdown",
   "metadata": {},
   "source": [
    "# CountVectorizer class"
   ]
  },
  {
   "cell_type": "code",
   "execution_count": 24,
   "metadata": {},
   "outputs": [],
   "source": [
    "class MyCountVectorizer:\n",
    "    def __init__(self, min_df=-1, max_df=1e18, binary=False):\n",
    "        self.min_df = min_df\n",
    "        self.max_df = max_df\n",
    "        self.binary = binary\n",
    "    \n",
    "    def fit(self, df):\n",
    "        words_cnt = defaultdict(int)\n",
    "        col = df.columns[0]\n",
    "        \n",
    "        for i in range(len(df)):\n",
    "            text = df.iloc[i][col]\n",
    "            for word in text.split():\n",
    "                words_cnt[word] += 1\n",
    "                \n",
    "        all_words = []\n",
    "        for word, cnt in words_cnt.items():\n",
    "            if self.min_df <= cnt <= self.max_df:\n",
    "                all_words.append(word)\n",
    "                \n",
    "        self.all_words_ids = {w:i for i,w in enumerate(all_words)}\n",
    "        self.width = len(all_words)\n",
    "        \n",
    "    \n",
    "    def transform(self, df):\n",
    "        col = df.columns[0]\n",
    "        count_matrix = np.zeros([len(df), self.width], \\\n",
    "                                dtype=np.int32)\n",
    "        \n",
    "        for i in range(len(df)):\n",
    "            text = df.iloc[i][col]\n",
    "            words_cnt = defaultdict(int)\n",
    "            \n",
    "            for word in text.split():\n",
    "                words_cnt[word] += 1\n",
    "            \n",
    "            for word, cnt in words_cnt.items():\n",
    "                if word in self.all_words_ids:\n",
    "                    pos = self.all_words_ids[word]\n",
    "                    if self.binary:\n",
    "                        count_matrix[i][pos] = 1\n",
    "                    else:\n",
    "                        count_matrix[i][pos] = cnt\n",
    "                    \n",
    "        return count_matrix"
   ]
  },
  {
   "cell_type": "markdown",
   "metadata": {},
   "source": [
    "# Naive Bayes approach"
   ]
  },
  {
   "cell_type": "markdown",
   "metadata": {},
   "source": [
    "## Naive Bayes class"
   ]
  },
  {
   "cell_type": "code",
   "execution_count": 24,
   "metadata": {},
   "outputs": [],
   "source": [
    "class Naive_Bayes:\n",
    "    def __init__(self,alpha=0,fit_prior=True,class_prior=None):\n",
    "        self.alpha = alpha\n",
    "        self.fit_prior = fit_prior\n",
    "        self.class_prior_array = class_prior\n",
    "        if class_prior:\n",
    "            self.fit_prior = False\n",
    "    \n",
    "    \n",
    "    def fit(self,X,y):\n",
    "        self.classes,prior = np.unique(y,return_counts=True)\n",
    "        self.N = len(y)\n",
    "        \n",
    "        # Setting class prior\n",
    "        if self.fit_prior:\n",
    "            self.class_prior = {class_ : np.log(prior[i]/self.N + 1e-100)\n",
    "                                for i,class_ in enumerate(self.classes)}\n",
    "        elif self.class_prior_array:\n",
    "            self.class_prior = {class_ : np.log(self.class_prior_array[i] + 1e-100) \n",
    "                                for i,class_ in enumerate(self.classes)}\n",
    "        else:\n",
    "            self.class_prior = {class_ : np.log(1/len(self.classes) + 1e-100) \n",
    "                                for class_ in self.classes}\n",
    "            \n",
    "        # Creating words dictionaries\n",
    "        self.class_words_counts = {class_ : defaultdict(lambda: 0) \n",
    "                                   for class_ in self.classes}\n",
    "        for i,text in enumerate(X):\n",
    "            target = y[i]\n",
    "            for word in text.split():\n",
    "                self.class_words_counts[target][word] += 1\n",
    "        \n",
    "        # Creating probabilities dictionaries\n",
    "        self.class_words_probs = {class_ : defaultdict(lambda: np.log(self.alpha + 1e-100)) \n",
    "                                  for class_ in self.classes}\n",
    "        for class_,dict_ in self.class_words_counts.items():\n",
    "            for word,count in dict_.items():\n",
    "                self.class_words_probs[class_][word] = np.log(count + 1e-100)\n",
    "    \n",
    "        self.class_words_amount = {class_ : np.log(sum(self.class_words_counts[class_].values())) \n",
    "                                   for class_ in self.classes}\n",
    "    \n",
    "\n",
    "    def get_class_log_probabilities(self,text):\n",
    "        probs = {class_ : 0 for class_ in self.classes}\n",
    "        for class_ in self.classes:\n",
    "            for word in text.split():\n",
    "                probs[class_] += self.class_words_probs[class_][word]\n",
    "                probs[class_] -= self.class_words_amount[class_]\n",
    "            probs[class_] += self.class_prior[class_]\n",
    "        return probs\n",
    "    \n",
    "    \n",
    "    def predict(self,X,return_probabilities = False):\n",
    "        preds = []\n",
    "        preds_probs = []\n",
    "        for text in X:\n",
    "            prob = self.get_class_log_probabilities(text)\n",
    "            #prob = {class_ : np.exp(pbb) for class_,pbb in prob.items()}\n",
    "            preds_probs.append(prob)\n",
    "            pred = max(prob,key = prob.get)\n",
    "            preds.append(pred)\n",
    "        \n",
    "        if return_probabilities:\n",
    "            return preds,preds_probs\n",
    "        return preds\n"
   ]
  },
  {
   "cell_type": "markdown",
   "metadata": {},
   "source": [
    "## Train and test accuracy"
   ]
  },
  {
   "cell_type": "code",
   "execution_count": 25,
   "metadata": {},
   "outputs": [],
   "source": [
    "X_train,y_train = np.array(bayes_df_train['text']),np.array(bayes_df_train['rating'])\n",
    "X_test,y_test = np.array(bayes_df_test['text']),np.array(bayes_df_test['rating'])"
   ]
  },
  {
   "cell_type": "code",
   "execution_count": 26,
   "metadata": {},
   "outputs": [],
   "source": [
    "NBc_res = []\n",
    "alpha = 1.5\n",
    "NB = Naive_Bayes(fit_prior = False,alpha=alpha)"
   ]
  },
  {
   "cell_type": "code",
   "execution_count": 27,
   "metadata": {},
   "outputs": [],
   "source": [
    "NB.fit(X_train,y_train)"
   ]
  },
  {
   "cell_type": "code",
   "execution_count": 28,
   "metadata": {},
   "outputs": [],
   "source": [
    "predictions,ppb = NB.predict(X_train,return_probabilities=True)"
   ]
  },
  {
   "cell_type": "code",
   "execution_count": 29,
   "metadata": {},
   "outputs": [
    {
     "name": "stdout",
     "output_type": "stream",
     "text": [
      "TRAIN, alpha : 1.5\n",
      "Acc: 0.9363303498779495\n",
      "\n",
      "Confusion matrix:\n",
      "[[4904  430]\n",
      " [ 196 4302]]\n",
      "\n",
      "True negative (rating = 1): 4904\n",
      "True positive (rating = 10): 4302\n",
      "False negative: 430\n",
      "False positive: 196\n"
     ]
    }
   ],
   "source": [
    "M,N,acc = print_score(predictions,y_train,f\"TRAIN, alpha : {alpha}\")\n",
    "NBc_res.append(['Org train data\\na=1.5','Acc',acc])\n",
    "NBc_res.append(['Org train data\\na=1.5','FN',M[0][1]/N])\n",
    "NBc_res.append(['Org train data\\na=1.5','FP',M[1][0]/N])"
   ]
  },
  {
   "cell_type": "code",
   "execution_count": 30,
   "metadata": {},
   "outputs": [],
   "source": [
    "predictions,ppb = NB.predict(X_test,return_probabilities=True)"
   ]
  },
  {
   "cell_type": "code",
   "execution_count": 31,
   "metadata": {},
   "outputs": [
    {
     "name": "stdout",
     "output_type": "stream",
     "text": [
      "TEST, alpha : 1.5\n",
      "Acc: 0.8893324019558926\n",
      "\n",
      "Confusion matrix:\n",
      "[[4651  738]\n",
      " [ 371 4261]]\n",
      "\n",
      "True negative (rating = 1): 4651\n",
      "True positive (rating = 10): 4261\n",
      "False negative: 738\n",
      "False positive: 371\n"
     ]
    }
   ],
   "source": [
    "M,N,acc = print_score(predictions,y_test,f\"TEST, alpha : {alpha}\")\n",
    "NBc_res.append(['Org test data\\na=1.5','Acc',acc])\n",
    "NBc_res.append(['Org test data\\na=1.5','FN',M[0][1]/N])\n",
    "NBc_res.append(['Org test data\\na=1.5','FP',M[1][0]/N])"
   ]
  },
  {
   "cell_type": "markdown",
   "metadata": {},
   "source": [
    "Now we can try alpha = 0"
   ]
  },
  {
   "cell_type": "code",
   "execution_count": 32,
   "metadata": {},
   "outputs": [],
   "source": [
    "alpha = 0.0\n",
    "NB = Naive_Bayes(fit_prior = False,alpha=alpha)"
   ]
  },
  {
   "cell_type": "code",
   "execution_count": 33,
   "metadata": {},
   "outputs": [],
   "source": [
    "NB.fit(X_train,y_train)"
   ]
  },
  {
   "cell_type": "code",
   "execution_count": 34,
   "metadata": {},
   "outputs": [],
   "source": [
    "predictions,ppb = NB.predict(X_train,return_probabilities=True)"
   ]
  },
  {
   "cell_type": "code",
   "execution_count": 35,
   "metadata": {},
   "outputs": [
    {
     "name": "stdout",
     "output_type": "stream",
     "text": [
      "TRAIN, alpha : 0.0\n",
      "Acc: 0.9899308380797396\n",
      "\n",
      "Confusion matrix:\n",
      "[[5092   91]\n",
      " [   8 4641]]\n",
      "\n",
      "True negative (rating = 1): 5092\n",
      "True positive (rating = 10): 4641\n",
      "False negative: 91\n",
      "False positive: 8\n"
     ]
    }
   ],
   "source": [
    "M,N,acc = print_score(predictions,y_train,f\"TRAIN, alpha : {alpha}\")"
   ]
  },
  {
   "cell_type": "code",
   "execution_count": 36,
   "metadata": {},
   "outputs": [],
   "source": [
    "predictions,ppb = NB.predict(X_test,return_probabilities=True)"
   ]
  },
  {
   "cell_type": "code",
   "execution_count": 37,
   "metadata": {},
   "outputs": [
    {
     "name": "stdout",
     "output_type": "stream",
     "text": [
      "TEST, alpha : 0.0\n",
      "Acc: 0.7240794331903003\n",
      "\n",
      "Confusion matrix:\n",
      "[[3932 1675]\n",
      " [1090 3324]]\n",
      "\n",
      "True negative (rating = 1): 3932\n",
      "True positive (rating = 10): 3324\n",
      "False negative: 1675\n",
      "False positive: 1090\n"
     ]
    }
   ],
   "source": [
    "M,N,acc = print_score(predictions,y_test,f\"TEST, alpha : {alpha}\")"
   ]
  },
  {
   "cell_type": "markdown",
   "metadata": {},
   "source": [
    "Setting alpha to 0 improve our train accuracy, but decrease train accuracy, so it`s overfitting. \n",
    "We can try to find best alpha for our data."
   ]
  },
  {
   "cell_type": "markdown",
   "metadata": {},
   "source": [
    "## Testing different alphas"
   ]
  },
  {
   "cell_type": "code",
   "execution_count": 38,
   "metadata": {},
   "outputs": [
    {
     "name": "stdout",
     "output_type": "stream",
     "text": [
      "Alpha : 0.0, test acc: 0.7240794331903003\n",
      "Alpha : 0.25, test acc: 0.8820476998303562\n",
      "Alpha : 0.5, test acc: 0.8868376409539966\n",
      "Alpha : 0.75, test acc: 0.8882347071150584\n",
      "Alpha : 1.0, test acc: 0.8884342879952101\n",
      "Alpha : 1.25, test acc: 0.8881349166749826\n",
      "Alpha : 1.5, test acc: 0.8893324019558926\n",
      "Alpha : 1.75, test acc: 0.8884342879952101\n",
      "Alpha : 2.0, test acc: 0.8882347071150584\n",
      "Alpha : 3.0, test acc: 0.8872368027142999\n",
      "Alpha : 4.0, test acc: 0.8862388983135415\n",
      "Alpha : 5.0, test acc: 0.8830456042311147\n",
      "Alpha : 10.0, test acc: 0.8759604829857299\n"
     ]
    }
   ],
   "source": [
    "accuracy = []\n",
    "alphas = [0.0,0.25,0.5,0.75,1.0,1.25,1.5,1.75,2.0,3.0,4.0,5.0,10.0]\n",
    "for alpha in alphas:\n",
    "    NB = Naive_Bayes(fit_prior = False,alpha=alpha)\n",
    "    NB.fit(X_train, y_train)\n",
    "    predictions,ppb = NB.predict(X_test,return_probabilities=True)\n",
    "    acc = np.mean(predictions == y_test)\n",
    "    print(f'Alpha : {alpha}, test acc: {acc}')\n",
    "    accuracy.append(acc)"
   ]
  },
  {
   "cell_type": "code",
   "execution_count": 39,
   "metadata": {},
   "outputs": [
    {
     "data": {
      "text/plain": [
       "Text(0.5, 1.0, 'Accuracy for different alphas')"
      ]
     },
     "execution_count": 39,
     "metadata": {},
     "output_type": "execute_result"
    },
    {
     "data": {
      "image/png": "[encoded data removed]",
      "text/plain": [
       "<Figure size 432x288 with 1 Axes>"
      ]
     },
     "metadata": {
      "needs_background": "light"
     },
     "output_type": "display_data"
    }
   ],
   "source": [
    "plt.plot(alphas, accuracy)\n",
    "plt.xlabel('Alpha')\n",
    "plt.ylabel('Accuracy')\n",
    "plt.title('Accuracy for different alphas')"
   ]
  },
  {
   "cell_type": "markdown",
   "metadata": {},
   "source": [
    "## Stemming and stop words removing"
   ]
  },
  {
   "cell_type": "code",
   "execution_count": 40,
   "metadata": {},
   "outputs": [],
   "source": [
    "# get best alpha\n",
    "alpha = 1.5"
   ]
  },
  {
   "cell_type": "code",
   "execution_count": 41,
   "metadata": {},
   "outputs": [
    {
     "name": "stdout",
     "output_type": "stream",
     "text": [
      "TEST, alpha : 1.5, stemmed\n",
      "Acc: 0.8827462329108872\n",
      "\n",
      "Confusion matrix:\n",
      "[[4623  776]\n",
      " [ 399 4223]]\n",
      "\n",
      "True negative (rating = 1): 4623\n",
      "True positive (rating = 10): 4223\n",
      "False negative: 776\n",
      "False positive: 399\n"
     ]
    }
   ],
   "source": [
    "NB = Naive_Bayes(fit_prior = False,alpha=alpha)\n",
    "NB.fit(np.array(stemmed_train_df['text']),np.array(stemmed_train_df['rating']))\n",
    "predictions = NB.predict(np.array(stemmed_test_df['text']))\n",
    "M,N,acc = print_score(predictions,np.array(stemmed_test_df['rating']),\n",
    "                      f\"TEST, alpha : {alpha}, stemmed\")\n",
    "NBc_res.append(['Stemmed test data\\na=1.5','Acc',acc])\n",
    "NBc_res.append(['Stemmed test data\\na=1.5','FN',M[0][1]/N])\n",
    "NBc_res.append(['Stemmed test data\\na=1.5','FP',M[1][0]/N])"
   ]
  },
  {
   "cell_type": "code",
   "execution_count": 42,
   "metadata": {},
   "outputs": [
    {
     "name": "stdout",
     "output_type": "stream",
     "text": [
      "TEST, alpha : 1.5, stop words removed\n",
      "Acc: 0.8995110268436284\n",
      "\n",
      "Confusion matrix:\n",
      "[[4656  641]\n",
      " [ 366 4358]]\n",
      "\n",
      "True negative (rating = 1): 4656\n",
      "True positive (rating = 10): 4358\n",
      "False negative: 641\n",
      "False positive: 366\n"
     ]
    }
   ],
   "source": [
    "NB = Naive_Bayes(fit_prior = False,alpha=alpha)\n",
    "NB.fit(np.array(swr_train_df['text']),np.array(swr_test_df['rating']))\n",
    "predictions = NB.predict(np.array(swr_test_df['text']))\n",
    "M,N,acc = print_score(predictions,np.array(stemmed_test_df['rating']),\n",
    "                      f\"TEST, alpha : {alpha}, stop words removed\")\n",
    "NBc_res.append(['Test data\\nwithout stopwords\\na=1.5','Acc',acc])\n",
    "NBc_res.append(['Test data\\nwithout stopwords\\na=1.5','FN',M[0][1]/N])\n",
    "NBc_res.append(['Test data\\nwithout stopwords\\na=1.5','FP',M[1][0]/N])"
   ]
  },
  {
   "cell_type": "code",
   "execution_count": 43,
   "metadata": {},
   "outputs": [
    {
     "name": "stdout",
     "output_type": "stream",
     "text": [
      "TEST, alpha : 1.5, stemmed and stop words removed\n",
      "Acc: 0.8914280011974853\n",
      "\n",
      "Confusion matrix:\n",
      "[[4627  693]\n",
      " [ 395 4306]]\n",
      "\n",
      "True negative (rating = 1): 4627\n",
      "True positive (rating = 10): 4306\n",
      "False negative: 693\n",
      "False positive: 395\n"
     ]
    }
   ],
   "source": [
    "NB = Naive_Bayes(fit_prior = False,alpha=alpha)\n",
    "NB.fit(np.array(stemmed_swr_train_df['text']),np.array(stemmed_swr_train_df['rating']))\n",
    "predictions = NB.predict(np.array(stemmed_swr_test_df['text']))\n",
    "M,N,acc = print_score(predictions,np.array(stemmed_test_df['rating']),\n",
    "                      f\"TEST, alpha : {alpha}, stemmed and stop words removed\")\n",
    "NBc_res.append(['Stemmed test data\\nwithout stop words\\na=1.5','Acc',acc])\n",
    "NBc_res.append(['Stemmed test data\\nwithout stop words\\na=1.5','FN',M[0][1]/N])\n",
    "NBc_res.append(['Stemmed test data\\nwithout stop words\\na=1.5','FP',M[1][0]/N])"
   ]
  },
  {
   "cell_type": "code",
   "execution_count": 44,
   "metadata": {},
   "outputs": [],
   "source": [
    "NBc_res_df = pd.DataFrame(NBc_res,columns = ['Data','Y','Value'])"
   ]
  },
  {
   "cell_type": "code",
   "execution_count": 70,
   "metadata": {},
   "outputs": [
    {
     "data": {
      "image/png": "[encoded data removed]",
      "text/plain": [
       "<Figure size 1080x360 with 1 Axes>"
      ]
     },
     "metadata": {},
     "output_type": "display_data"
    }
   ],
   "source": [
    "sns.set(style=\"darkgrid\")\n",
    "ax = sns.barplot(x='Data', y='Value', hue='Y', data=NBc_res_df)\n",
    "ax.figure.set_size_inches(15, 5)\n",
    "ax.set_title('Our Naive Bayes')\n",
    "autolabel(ax.patches)"
   ]
  },
  {
   "cell_type": "markdown",
   "metadata": {},
   "source": [
    "## Sklearn Naive Bayes"
   ]
  },
  {
   "cell_type": "code",
   "execution_count": 25,
   "metadata": {},
   "outputs": [],
   "source": [
    "NBb_res = []"
   ]
  },
  {
   "cell_type": "code",
   "execution_count": 26,
   "metadata": {},
   "outputs": [],
   "source": [
    "CV_NB = CountVectorizer()\n",
    "X_train,y_train = np.array(bayes_df_train['text']),np.array(bayes_df_train['rating'])\n",
    "X_test,y_test = np.array(bayes_df_test['text']),np.array(bayes_df_test['rating'])\n",
    "X_train_cv = CV_NB.fit_transform(X_train)\n",
    "X_test_cv = CV_NB.transform(X_test)"
   ]
  },
  {
   "cell_type": "code",
   "execution_count": 27,
   "metadata": {},
   "outputs": [
    {
     "name": "stdout",
     "output_type": "stream",
     "text": [
      "TRAIN, alpha : 1.5\n",
      "Acc: 0.9509764035801465\n",
      "\n",
      "Confusion matrix:\n",
      "[[5009  391]\n",
      " [  91 4341]]\n",
      "\n",
      "True negative (rating = 1): 5009\n",
      "True positive (rating = 10): 4341\n",
      "False negative: 391\n",
      "False positive: 91\n"
     ]
    }
   ],
   "source": [
    "alpha = 1.5\n",
    "MNB = MultinomialNB(alpha = 1.5)\n",
    "MNB.fit(X_train_cv,y_train)\n",
    "predictions = MNB.predict(X_train_cv)\n",
    "M,N,acc = print_score(predictions,y_train,f\"TRAIN, alpha : {alpha}\")\n",
    "NBb_res.append(['Org train data\\na=1.5','Acc',acc])\n",
    "NBb_res.append(['Org train data\\na=1.5','FN',M[0][1]/N])\n",
    "NBb_res.append(['Org train data\\na=1.5','FP',M[1][0]/N])"
   ]
  },
  {
   "cell_type": "code",
   "execution_count": 28,
   "metadata": {},
   "outputs": [
    {
     "name": "stdout",
     "output_type": "stream",
     "text": [
      "TEST, alpha : 1.5\n",
      "Acc: 0.884742041712404\n",
      "\n",
      "Confusion matrix:\n",
      "[[4738  871]\n",
      " [ 284 4128]]\n",
      "\n",
      "True negative (rating = 1): 4738\n",
      "True positive (rating = 10): 4128\n",
      "False negative: 871\n",
      "False positive: 284\n"
     ]
    }
   ],
   "source": [
    "alpha = 1.5\n",
    "MNB = MultinomialNB(alpha = 1.5)\n",
    "MNB.fit(X_train_cv,y_train)\n",
    "predictions = MNB.predict(X_test_cv)\n",
    "M,N,acc = print_score(predictions,y_test,f\"TEST, alpha : {alpha}\")\n",
    "NBb_res.append(['Org test data\\na=1.5','Acc',acc])\n",
    "NBb_res.append(['Org test data\\na=1.5','FN',M[0][1]/N])\n",
    "NBb_res.append(['Org test data\\na=1.5','FP',M[1][0]/N])"
   ]
  },
  {
   "cell_type": "code",
   "execution_count": 29,
   "metadata": {},
   "outputs": [],
   "source": [
    "CV_NB = CountVectorizer()\n",
    "X_train,y_train = np.array(stemmed_train_df['text']),np.array(stemmed_train_df['rating'])\n",
    "X_test,y_test = np.array(stemmed_test_df['text']),np.array(stemmed_test_df['rating'])\n",
    "X_train_cv = CV_NB.fit_transform(X_train)\n",
    "X_test_cv = CV_NB.transform(X_test)"
   ]
  },
  {
   "cell_type": "code",
   "execution_count": 30,
   "metadata": {},
   "outputs": [
    {
     "name": "stdout",
     "output_type": "stream",
     "text": [
      "TEST, alpha : 1.5, stemmed\n",
      "Acc: 0.8805508432292186\n",
      "\n",
      "Confusion matrix:\n",
      "[[4710  885]\n",
      " [ 312 4114]]\n",
      "\n",
      "True negative (rating = 1): 4710\n",
      "True positive (rating = 10): 4114\n",
      "False negative: 885\n",
      "False positive: 312\n"
     ]
    }
   ],
   "source": [
    "alpha = 1.5\n",
    "MNB = MultinomialNB(alpha = 1.5)\n",
    "MNB.fit(X_train_cv,y_train)\n",
    "predictions = MNB.predict(X_test_cv)\n",
    "M,N,acc = print_score(predictions,y_test,\n",
    "                      f\"TEST, alpha : {alpha}, stemmed\")\n",
    "NBb_res.append(['Stemmed test data\\na=1.5','Acc',acc])\n",
    "NBb_res.append(['Stemmed test data\\na=1.5','FN',M[0][1]/N])\n",
    "NBb_res.append(['Stemmed test data\\na=1.5','FP',M[1][0]/N])"
   ]
  },
  {
   "cell_type": "code",
   "execution_count": 31,
   "metadata": {},
   "outputs": [],
   "source": [
    "CV_NB = CountVectorizer()\n",
    "X_train,y_train = np.array(swr_train_df['text']),np.array(swr_train_df['rating'])\n",
    "X_test,y_test = np.array(swr_test_df['text']),np.array(swr_test_df['rating'])\n",
    "X_train_cv = CV_NB.fit_transform(X_train)\n",
    "X_test_cv = CV_NB.transform(X_test)"
   ]
  },
  {
   "cell_type": "code",
   "execution_count": 32,
   "metadata": {},
   "outputs": [
    {
     "name": "stdout",
     "output_type": "stream",
     "text": [
      "TEST, alpha : 1.5, stemmed\n",
      "Acc: 0.8932242291188505\n",
      "\n",
      "Confusion matrix:\n",
      "[[4752  800]\n",
      " [ 270 4199]]\n",
      "\n",
      "True negative (rating = 1): 4752\n",
      "True positive (rating = 10): 4199\n",
      "False negative: 800\n",
      "False positive: 270\n"
     ]
    }
   ],
   "source": [
    "alpha = 1.5\n",
    "MNB = MultinomialNB(alpha = 1.5)\n",
    "MNB.fit(X_train_cv,y_train)\n",
    "predictions = MNB.predict(X_test_cv)\n",
    "M,N,acc = print_score(predictions,y_test,\n",
    "                      f\"TEST, alpha : {alpha}, stemmed\")\n",
    "NBb_res.append(['Test data\\nwithout stopwords\\na=1.5','Acc',acc])\n",
    "NBb_res.append(['Test data\\nwithout stopwords\\na=1.5','FN',M[0][1]/N])\n",
    "NBb_res.append(['Test data\\nwithout stopwords\\na=1.5','FP',M[1][0]/N])"
   ]
  },
  {
   "cell_type": "code",
   "execution_count": 33,
   "metadata": {},
   "outputs": [],
   "source": [
    "CV_NB = CountVectorizer()\n",
    "X_train,y_train = np.array(stemmed_swr_train_df['text']),np.array(stemmed_swr_train_df['rating'])\n",
    "X_test,y_test = np.array(stemmed_swr_test_df['text']),np.array(stemmed_swr_test_df['rating'])\n",
    "X_train_cv = CV_NB.fit_transform(X_train)\n",
    "X_test_cv = CV_NB.transform(X_test)"
   ]
  },
  {
   "cell_type": "code",
   "execution_count": 34,
   "metadata": {},
   "outputs": [
    {
     "name": "stdout",
     "output_type": "stream",
     "text": [
      "TEST, alpha : 1.5, stemmed\n",
      "Acc: 0.8907294681169544\n",
      "\n",
      "Confusion matrix:\n",
      "[[4713  786]\n",
      " [ 309 4213]]\n",
      "\n",
      "True negative (rating = 1): 4713\n",
      "True positive (rating = 10): 4213\n",
      "False negative: 786\n",
      "False positive: 309\n"
     ]
    }
   ],
   "source": [
    "alpha = 1.5\n",
    "MNB = MultinomialNB(alpha = 1.5)\n",
    "MNB.fit(X_train_cv,y_train)\n",
    "predictions = MNB.predict(X_test_cv)\n",
    "M,N,acc = print_score(predictions,y_test,\n",
    "                      f\"TEST, alpha : {alpha}, stemmed\")\n",
    "NBb_res.append(['Stemmed test data\\nwithout stop words\\na=1.5','Acc',acc])\n",
    "NBb_res.append(['Stemmed test data\\nwithout stop words\\na=1.5','FN',M[0][1]/N])\n",
    "NBb_res.append(['Stemmed test data\\nwithout stop words\\na=1.5','FP',M[1][0]/N])"
   ]
  },
  {
   "cell_type": "code",
   "execution_count": 35,
   "metadata": {},
   "outputs": [],
   "source": [
    "NBb_res_df = pd.DataFrame(NBb_res,columns = ['Data','Y','Value'])"
   ]
  },
  {
   "cell_type": "code",
   "execution_count": 36,
   "metadata": {},
   "outputs": [
    {
     "data": {
      "image/png": "[encoded data removed]",
      "text/plain": [
       "<Figure size 1080x360 with 1 Axes>"
      ]
     },
     "metadata": {},
     "output_type": "display_data"
    }
   ],
   "source": [
    "sns.set(style=\"darkgrid\")\n",
    "ax = sns.barplot(x='Data', y='Value', hue='Y', data=NBb_res_df)\n",
    "ax.figure.set_size_inches(15, 5)\n",
    "ax.set_title('SKLEARN Multinomial Naive Bayes')\n",
    "autolabel(ax.patches)"
   ]
  },
  {
   "cell_type": "markdown",
   "metadata": {},
   "source": [
    "## Compare our NB with sklearn`s"
   ]
  },
  {
   "cell_type": "code",
   "execution_count": 83,
   "metadata": {},
   "outputs": [
    {
     "name": "stderr",
     "output_type": "stream",
     "text": [
      "C:\\Users\\Febrin\\AppData\\Local\\Programs\\Python\\Python37\\lib\\site-packages\\pandas\\core\\generic.py:5096: SettingWithCopyWarning: \n",
      "A value is trying to be set on a copy of a slice from a DataFrame.\n",
      "Try using .loc[row_indexer,col_indexer] = value instead\n",
      "\n",
      "See the caveats in the documentation: http://pandas.pydata.org/pandas-docs/stable/indexing.html#indexing-view-versus-copy\n",
      "  self[name] = value\n"
     ]
    }
   ],
   "source": [
    "NBc_res_df_copyed = NBc_res_df.copy()\n",
    "A_df = NBc_res_df[NBc_res_df.Y == 'Acc']\n",
    "A_df.Y = ['Our'] * 5"
   ]
  },
  {
   "cell_type": "code",
   "execution_count": 84,
   "metadata": {},
   "outputs": [],
   "source": [
    "NBb_res_df_copyed = NBb_res_df.copy()\n",
    "B_df = NBb_res_df[NBb_res_df.Y == 'Acc']\n",
    "B_df.Y = ['Sklearn'] * 5"
   ]
  },
  {
   "cell_type": "code",
   "execution_count": 85,
   "metadata": {},
   "outputs": [],
   "source": [
    "compare_df = pd.concat([A_df,B_df])"
   ]
  },
  {
   "cell_type": "code",
   "execution_count": 92,
   "metadata": {},
   "outputs": [
    {
     "data": {
      "image/png": "[encoded data removed]",
      "text/plain": [
       "<Figure size 1080x360 with 1 Axes>"
      ]
     },
     "metadata": {},
     "output_type": "display_data"
    }
   ],
   "source": [
    "sns.set(style=\"darkgrid\")\n",
    "ax = sns.barplot(x='Data', y='Value', hue='Y', data=compare_df)\n",
    "ax.figure.set_size_inches(15, 5)\n",
    "ax.set_title(\"Our Naive Bayes class vs SKLEARN MultinomialNaiveBayes\")\n",
    "ax.legend(loc='lower right')\n",
    "autolabel(ax.patches)"
   ]
  },
  {
   "cell_type": "markdown",
   "metadata": {},
   "source": [
    "# Logistic Regression"
   ]
  },
  {
   "cell_type": "markdown",
   "metadata": {},
   "source": [
    "## Logistic Regression class"
   ]
  },
  {
   "cell_type": "code",
   "execution_count": 93,
   "metadata": {},
   "outputs": [],
   "source": [
    "class Logistic_Regression:\n",
    "    def __init__(self, max_iter=500, solver_calls=5,lambda_ = 0.1,Theta=None, solver=sopt.fmin_l_bfgs_b, debug=False):\n",
    "        self.Theta = Theta\n",
    "        self.solver_calls = solver_calls\n",
    "        self.max_iter = max_iter\n",
    "        self.solver = solver\n",
    "        self.debug = debug\n",
    "        self.lambda_ = lambda_\n",
    "    \n",
    "    def __sigmoid(self,x):\n",
    "        return 1 / (1 + np.exp(-x))    \n",
    "    \n",
    "    def __logreg_loss(self, Theta, X, Y):\n",
    "        Theta = Theta.astype(np.float64)\n",
    "        X = X.astype(np.float64)\n",
    "        Y = Y.astype(np.float64)\n",
    "        \n",
    "        if self.debug:\n",
    "            print(f\"Loss calculating... \",end=\"\")\n",
    "        Z = np.dot(Theta,X.T)\n",
    "        if self.debug:\n",
    "            print(f\" Z done... \",end=\"\")\n",
    "        SZ = self.__sigmoid(Z)\n",
    "        Y_ = Y[:,np.newaxis]\n",
    "        nll = -np.sum((Y_*np.log2(SZ+1e-50) + (1-Y_)*np.log2(1-SZ+1e-50)))\n",
    "#         nll = -np.mean([\n",
    "#                         y * np.log2(SZ + 1e-10) \\\n",
    "#                         + (1-y) * np.log2(1 - SZ + 1e-10) \\\n",
    "#                         for y in Y\n",
    "#                         ])\n",
    "        nll += (self.lambda_/2) * np.sum(Theta**2)\n",
    "        if self.debug:\n",
    "            print(f\" nll done... \",end=\"\")\n",
    "        grad = np.dot(X.T, (SZ - Y).T ) / len(Y)\n",
    "        grad = grad.reshape(Theta.shape) + self.lambda_ * Theta\n",
    "        if self.debug:\n",
    "            print(f\" grad done... done \")\n",
    "        return nll, grad\n",
    "    \n",
    "    def fit(self,X,y):\n",
    "        Theta = self.Theta\n",
    "        if Theta is None:\n",
    "            Theta = np.ones(X.shape[1]+1)\n",
    "        \n",
    "        X_with_ones = np.hstack((np.ones((X.shape[0],1)),X))\n",
    "      \n",
    "        for i in tqdm(range(self.solver_calls), desc='Calculating Theta', position=0):\n",
    "            Theta = self.solver(lambda th: self.__logreg_loss(th, X_with_ones, y), \n",
    "                                Theta, maxiter=self.max_iter)[0]\n",
    "        self.Theta = Theta\n",
    "    \n",
    "#     def __logreg_classify(self, X):\n",
    "#         return (self.Theta.T.dot(X) >= 0)\n",
    "\n",
    "#     def predict(self, Xs):\n",
    "#         return [self.__logreg_classify(x) for x in Xs]\n",
    "    \n",
    "    def predict(self,X):\n",
    "        X_with_ones = np.hstack((np.ones((X.shape[0],1)),X))\n",
    "        preds = (np.dot(self.Theta,X_with_ones.T) >= 0) * 1\n",
    "        return preds"
   ]
  },
  {
   "cell_type": "markdown",
   "metadata": {},
   "source": [
    "## Train and test accuracy"
   ]
  },
  {
   "cell_type": "code",
   "execution_count": 94,
   "metadata": {},
   "outputs": [],
   "source": [
    "LGc_res = []\n",
    "\n",
    "y_train = np.array(list(map(int, bayes_df_train['rating']))) // 10\n",
    "y_test = np.array(list(map(int, bayes_df_test['rating']))) // 10"
   ]
  },
  {
   "cell_type": "code",
   "execution_count": 95,
   "metadata": {},
   "outputs": [
    {
     "name": "stdout",
     "output_type": "stream",
     "text": [
      "Wall time: 5.51 s\n"
     ]
    }
   ],
   "source": [
    "%%time\n",
    "cv = MyCountVectorizer(min_df=5)\n",
    "cv.fit(bayes_df_train)\n",
    "\n",
    "X_train = cv.transform(bayes_df_train) \n",
    "X_test = cv.transform(bayes_df_test)"
   ]
  },
  {
   "cell_type": "code",
   "execution_count": 96,
   "metadata": {},
   "outputs": [],
   "source": [
    "Theta_beg = pd.read_csv('Thetas/Theta_opt_rawtext.csv')['Theta']"
   ]
  },
  {
   "cell_type": "code",
   "execution_count": 97,
   "metadata": {},
   "outputs": [],
   "source": [
    "LR = Logistic_Regression(max_iter=1000, lambda_=0.1, Theta=Theta_beg, debug=False)"
   ]
  },
  {
   "cell_type": "code",
   "execution_count": 74,
   "metadata": {},
   "outputs": [
    {
     "name": "stderr",
     "output_type": "stream",
     "text": [
      "Calculating Theta: 100%|█████████████████████████████████████████████████████████████████| 5/5 [03:54<00:00, 46.81s/it]\n"
     ]
    },
    {
     "name": "stdout",
     "output_type": "stream",
     "text": [
      "Wall time: 3min 54s\n"
     ]
    }
   ],
   "source": [
    "%%time\n",
    "LR.fit(X_train, y_train)"
   ]
  },
  {
   "cell_type": "code",
   "execution_count": 75,
   "metadata": {},
   "outputs": [],
   "source": [
    "pd.DataFrame(LR.Theta, columns=['Theta']).to_csv('Thetas/Theta_opt_rawtext.csv')"
   ]
  },
  {
   "cell_type": "code",
   "execution_count": 98,
   "metadata": {},
   "outputs": [],
   "source": [
    "predictions = LR.predict(X_train)"
   ]
  },
  {
   "cell_type": "code",
   "execution_count": 99,
   "metadata": {},
   "outputs": [
    {
     "name": "stdout",
     "output_type": "stream",
     "text": [
      "TRAIN\n",
      "Acc: 0.8819161920260374\n",
      "\n",
      "Confusion matrix:\n",
      "[[4532  593]\n",
      " [ 568 4139]]\n",
      "\n",
      "True negative (rating = 1): 4532\n",
      "True positive (rating = 10): 4139\n",
      "False negative: 593\n",
      "False positive: 568\n"
     ]
    }
   ],
   "source": [
    "M, N, acc = print_score(predictions, y_train, 'TRAIN')\n",
    "LGc_res.append(['Org train data\\n','Acc',acc])\n",
    "LGc_res.append(['Org train data\\n','FN',M[0][1]/N])\n",
    "LGc_res.append(['Org train data\\n','FP',M[1][0]/N])"
   ]
  },
  {
   "cell_type": "code",
   "execution_count": 100,
   "metadata": {},
   "outputs": [],
   "source": [
    "predictions = LR.predict(X_test)"
   ]
  },
  {
   "cell_type": "code",
   "execution_count": 101,
   "metadata": {},
   "outputs": [
    {
     "name": "stdout",
     "output_type": "stream",
     "text": [
      "TEST\n",
      "Acc: 0.8678774573395869\n",
      "\n",
      "Confusion matrix:\n",
      "[[4393  695]\n",
      " [ 629 4304]]\n",
      "\n",
      "True negative (rating = 1): 4393\n",
      "True positive (rating = 10): 4304\n",
      "False negative: 695\n",
      "False positive: 629\n"
     ]
    }
   ],
   "source": [
    "M, N, acc = print_score(predictions, y_test, 'TEST')\n",
    "LGc_res.append(['Org test data\\n','Acc',acc])\n",
    "LGc_res.append(['Org test data\\n','FN',M[0][1]/N])\n",
    "LGc_res.append(['Org test data\\n','FP',M[1][0]/N])"
   ]
  },
  {
   "cell_type": "markdown",
   "metadata": {},
   "source": [
    "## Stemming and stop words removal"
   ]
  },
  {
   "cell_type": "code",
   "execution_count": 102,
   "metadata": {},
   "outputs": [
    {
     "name": "stdout",
     "output_type": "stream",
     "text": [
      "Wall time: 4.46 s\n"
     ]
    }
   ],
   "source": [
    "%%time\n",
    "cv = MyCountVectorizer(min_df=5)\n",
    "cv.fit(stemmed_swr_train_df)\n",
    "\n",
    "X_train = cv.transform(stemmed_swr_train_df) \n",
    "X_test = cv.transform(stemmed_swr_test_df)"
   ]
  },
  {
   "cell_type": "code",
   "execution_count": 104,
   "metadata": {},
   "outputs": [],
   "source": [
    "Theta_beg = pd.read_csv('Thetas/Theta_opt_stem_stop.csv')['Theta']"
   ]
  },
  {
   "cell_type": "code",
   "execution_count": 106,
   "metadata": {},
   "outputs": [],
   "source": [
    "LR = Logistic_Regression(max_iter=1000, solver_calls=10,lambda_=0.1, Theta=Theta_beg, debug=False)"
   ]
  },
  {
   "cell_type": "code",
   "execution_count": 38,
   "metadata": {},
   "outputs": [
    {
     "name": "stderr",
     "output_type": "stream",
     "text": [
      "Calculating Theta:   0%|                                                                        | 0/10 [00:00<?, ?it/s]C:\\Users\\Febrin\\AppData\\Local\\Programs\\Python\\Python37\\lib\\site-packages\\ipykernel_launcher.py:11: RuntimeWarning: overflow encountered in exp\n",
      "  # This is added back by InteractiveShellApp.init_path()\n",
      "Calculating Theta: 100%|███████████████████████████████████████████████████████████████| 10/10 [07:27<00:00, 44.71s/it]\n"
     ]
    },
    {
     "name": "stdout",
     "output_type": "stream",
     "text": [
      "Wall time: 7min 27s\n"
     ]
    }
   ],
   "source": [
    "%%time\n",
    "LR.fit(X_train, y_train)"
   ]
  },
  {
   "cell_type": "code",
   "execution_count": 39,
   "metadata": {},
   "outputs": [],
   "source": [
    "pd.DataFrame(LR.Theta, columns=['Theta']).to_csv('Theta_opt_stem_stop.csv')"
   ]
  },
  {
   "cell_type": "code",
   "execution_count": 107,
   "metadata": {},
   "outputs": [],
   "source": [
    "predictions = LR.predict(X_train)"
   ]
  },
  {
   "cell_type": "code",
   "execution_count": 108,
   "metadata": {},
   "outputs": [
    {
     "name": "stdout",
     "output_type": "stream",
     "text": [
      "STEMMED TRAIN WITHOUT STOP WORDS\n",
      "Acc: 0.9083604556550041\n",
      "\n",
      "Confusion matrix:\n",
      "[[4639  440]\n",
      " [ 461 4292]]\n",
      "\n",
      "True negative (rating = 1): 4639\n",
      "True positive (rating = 10): 4292\n",
      "False negative: 440\n",
      "False positive: 461\n"
     ]
    }
   ],
   "source": [
    "M, N, acc = print_score(predictions, y_train, 'STEMMED TRAIN WITHOUT STOP WORDS')\n",
    "LGc_res.append(['Stemmed train data\\nwithout stop words\\n','Acc',acc])\n",
    "LGc_res.append(['Stemmed train data\\nwithout stop words\\n','FN',M[0][1]/N])\n",
    "LGc_res.append(['Stemmed train data\\nwithout stop words\\n','FP',M[1][0]/N])"
   ]
  },
  {
   "cell_type": "code",
   "execution_count": 109,
   "metadata": {},
   "outputs": [],
   "source": [
    "predictions = LR.predict(X_test)"
   ]
  },
  {
   "cell_type": "code",
   "execution_count": 110,
   "metadata": {},
   "outputs": [
    {
     "name": "stdout",
     "output_type": "stream",
     "text": [
      "STEMMED TEST WITHOUT STOP WORDS\n",
      "Acc: 0.8992116555234009\n",
      "\n",
      "Confusion matrix:\n",
      "[[4528  516]\n",
      " [ 494 4483]]\n",
      "\n",
      "True negative (rating = 1): 4528\n",
      "True positive (rating = 10): 4483\n",
      "False negative: 516\n",
      "False positive: 494\n"
     ]
    }
   ],
   "source": [
    "M, N, acc = print_score(predictions, y_test, 'STEMMED TEST WITHOUT STOP WORDS')\n",
    "LGc_res.append(['Stemmed test data\\nwithout stop words\\n','Acc',acc])\n",
    "LGc_res.append(['Stemmed test data\\nwithout stop words\\n','FN',M[0][1]/N])\n",
    "LGc_res.append(['Stemmed test data\\nwithout stop words\\n','FP',M[1][0]/N])"
   ]
  },
  {
   "cell_type": "code",
   "execution_count": 111,
   "metadata": {},
   "outputs": [],
   "source": [
    "LGc_res_df = pd.DataFrame(LGc_res,columns=['Data','Y','Value'])"
   ]
  },
  {
   "cell_type": "code",
   "execution_count": 127,
   "metadata": {},
   "outputs": [
    {
     "data": {
      "image/png": "[encoded data removed]",
      "text/plain": [
       "<Figure size 1080x360 with 1 Axes>"
      ]
     },
     "metadata": {},
     "output_type": "display_data"
    }
   ],
   "source": [
    "sns.set(style=\"darkgrid\")\n",
    "ax = sns.barplot(x='Data', y='Value', hue='Y', data=LGc_res_df)\n",
    "ax.figure.set_size_inches(15, 5)\n",
    "ax.set_title(\"Our Logistic Regression class\")\n",
    "autolabel(ax.patches)"
   ]
  },
  {
   "cell_type": "markdown",
   "metadata": {},
   "source": [
    "## Sklearn Linear Regression"
   ]
  },
  {
   "cell_type": "code",
   "execution_count": 37,
   "metadata": {},
   "outputs": [
    {
     "name": "stdout",
     "output_type": "stream",
     "text": [
      "Wall time: 10.8 s\n"
     ]
    }
   ],
   "source": [
    "%%time\n",
    "cv = CountVectorizer(min_df=5)\n",
    "cv.fit(stemmed_swr_train_df.text)\n",
    "cv2 = CountVectorizer(min_df=5)\n",
    "cv2.fit(bayes_df_train.text)\n",
    "\n",
    "X_train_og = cv2.transform(bayes_df_train.text)\n",
    "X_test_og = cv2.transform(bayes_df_test.text)\n",
    "\n",
    "X_train_stem_swr = cv.transform(stemmed_swr_train_df.text)\n",
    "X_test_stem_swr = cv.transform(stemmed_swr_test_df.text)\n",
    "\n",
    "y_train = np.array(list(map(int, bayes_df_train['rating']))) // 10\n",
    "y_test = np.array(list(map(int, bayes_df_test['rating']))) // 10\n",
    "\n",
    "LG2_res = []"
   ]
  },
  {
   "cell_type": "code",
   "execution_count": 38,
   "metadata": {},
   "outputs": [
    {
     "name": "stdout",
     "output_type": "stream",
     "text": [
      "Accuracy for C=0.01: 0.9154774972557629\n",
      "Accuracy for C=0.05: 0.9246582177427403\n",
      "Accuracy for C=0.25: 0.9228619898213751\n",
      "Accuracy for C=0.5: 0.92106576190001\n",
      "Accuracy for C=1: 0.9190699530984932\n",
      "Accuracy for C=5: 0.9140804310947012\n",
      "Wall time: 16.1 s\n"
     ]
    }
   ],
   "source": [
    "%%time\n",
    "for c in [0.01, 0.05, 0.25, 0.5, 1, 5]:    \n",
    "    lr = LogisticRegression(C=c, max_iter=800, solver='lbfgs') \n",
    "    lr.fit(X_train_og, y_train)\n",
    "    print (\"Accuracy for C=%s: %s\" \n",
    "           % (c, accuracy_score(y_test, lr.predict(X_test_og))))"
   ]
  },
  {
   "cell_type": "code",
   "execution_count": 39,
   "metadata": {},
   "outputs": [
    {
     "data": {
      "text/plain": [
       "LogisticRegression(C=0.05, class_weight=None, dual=False, fit_intercept=True,\n",
       "                   intercept_scaling=1, l1_ratio=None, max_iter=500,\n",
       "                   multi_class='warn', n_jobs=None, penalty='l2',\n",
       "                   random_state=None, solver='lbfgs', tol=0.0001, verbose=0,\n",
       "                   warm_start=False)"
      ]
     },
     "execution_count": 39,
     "metadata": {},
     "output_type": "execute_result"
    }
   ],
   "source": [
    "best_C = 0.05\n",
    "best_lr = LogisticRegression(C=best_C, max_iter=500, solver='lbfgs') \n",
    "best_lr.fit(X_train_og, y_train)"
   ]
  },
  {
   "cell_type": "code",
   "execution_count": 40,
   "metadata": {},
   "outputs": [
    {
     "name": "stdout",
     "output_type": "stream",
     "text": [
      "TRAIN\n",
      "Acc: 0.9790480065093572\n",
      "\n",
      "Confusion matrix:\n",
      "[[4993   99]\n",
      " [ 107 4633]]\n",
      "\n",
      "True negative (rating = 1): 4993\n",
      "True positive (rating = 10): 4633\n",
      "False negative: 99\n",
      "False positive: 107\n"
     ]
    }
   ],
   "source": [
    "M, N, acc = print_score(best_lr.predict(X_train_og), y_train, 'TRAIN')\n",
    "LG2_res.append(['Org train data\\n','Acc',acc])\n",
    "LG2_res.append(['Org train data\\n','FN',M[0][1]/N])\n",
    "LG2_res.append(['Org train data\\n','FP',M[1][0]/N])"
   ]
  },
  {
   "cell_type": "code",
   "execution_count": 41,
   "metadata": {},
   "outputs": [
    {
     "name": "stdout",
     "output_type": "stream",
     "text": [
      "TEST\n",
      "Acc: 0.9246582177427403\n",
      "\n",
      "Confusion matrix:\n",
      "[[4618  351]\n",
      " [ 404 4648]]\n",
      "\n",
      "True negative (rating = 1): 4618\n",
      "True positive (rating = 10): 4648\n",
      "False negative: 351\n",
      "False positive: 404\n"
     ]
    }
   ],
   "source": [
    "M, N, acc = print_score(best_lr.predict(X_test_og), y_test, 'TEST')\n",
    "LG2_res.append(['Org test data\\n','Acc',acc])\n",
    "LG2_res.append(['Org test data\\n','FN',M[0][1]/N])\n",
    "LG2_res.append(['Org test data\\n','FP',M[1][0]/N])"
   ]
  },
  {
   "cell_type": "code",
   "execution_count": 42,
   "metadata": {},
   "outputs": [
    {
     "data": {
      "text/plain": [
       "LogisticRegression(C=0.05, class_weight=None, dual=False, fit_intercept=True,\n",
       "                   intercept_scaling=1, l1_ratio=None, max_iter=500,\n",
       "                   multi_class='warn', n_jobs=None, penalty='l2',\n",
       "                   random_state=None, solver='lbfgs', tol=0.0001, verbose=0,\n",
       "                   warm_start=False)"
      ]
     },
     "execution_count": 42,
     "metadata": {},
     "output_type": "execute_result"
    }
   ],
   "source": [
    "# stemmed data without stop words\n",
    "best_C = 0.05\n",
    "lrs = LogisticRegression(C=best_C, max_iter=500, solver='lbfgs') \n",
    "lrs.fit(X_train_stem_swr, y_train)"
   ]
  },
  {
   "cell_type": "code",
   "execution_count": 43,
   "metadata": {},
   "outputs": [
    {
     "name": "stdout",
     "output_type": "stream",
     "text": [
      "STEMMED TRAIN WITHOUT STOP WORDS\n",
      "Acc: 0.9736574450772986\n",
      "\n",
      "Confusion matrix:\n",
      "[[4952  111]\n",
      " [ 148 4621]]\n",
      "\n",
      "True negative (rating = 1): 4952\n",
      "True positive (rating = 10): 4621\n",
      "False negative: 111\n",
      "False positive: 148\n"
     ]
    }
   ],
   "source": [
    "M, N, acc = print_score(lrs.predict(X_train_stem_swr), y_train, 'STEMMED TRAIN WITHOUT STOP WORDS')\n",
    "LG2_res.append(['Stemmed train data\\nwithout stop words\\n','Acc',acc])\n",
    "LG2_res.append(['Stemmed train data\\nwithout stop words\\n','FN',M[0][1]/N])\n",
    "LG2_res.append(['Stemmed train data\\nwithout stop words\\n','FP',M[1][0]/N])"
   ]
  },
  {
   "cell_type": "code",
   "execution_count": 44,
   "metadata": {},
   "outputs": [
    {
     "name": "stdout",
     "output_type": "stream",
     "text": [
      "STEMMED TEST WITHOUT STOP WORDS\n",
      "Acc: 0.9215647141003892\n",
      "\n",
      "Confusion matrix:\n",
      "[[4584  348]\n",
      " [ 438 4651]]\n",
      "\n",
      "True negative (rating = 1): 4584\n",
      "True positive (rating = 10): 4651\n",
      "False negative: 348\n",
      "False positive: 438\n"
     ]
    }
   ],
   "source": [
    "M, N, acc = print_score(lrs.predict(X_test_stem_swr), y_test, 'STEMMED TEST WITHOUT STOP WORDS')\n",
    "LG2_res.append(['Stemmed test data\\nwithout stop words\\n','Acc',acc])\n",
    "LG2_res.append(['Stemmed test data\\nwithout stop words\\n','FN',M[0][1]/N])\n",
    "LG2_res.append(['Stemmed test data\\nwithout stop words\\n','FP',M[1][0]/N])"
   ]
  },
  {
   "cell_type": "code",
   "execution_count": 45,
   "metadata": {},
   "outputs": [],
   "source": [
    "LG2_res_df  = pd.DataFrame(LG2_res, columns = ['Data','Y','Value'])"
   ]
  },
  {
   "cell_type": "code",
   "execution_count": 46,
   "metadata": {},
   "outputs": [
    {
     "data": {
      "image/png": "[encoded data removed]",
      "text/plain": [
       "<Figure size 1080x360 with 1 Axes>"
      ]
     },
     "metadata": {},
     "output_type": "display_data"
    }
   ],
   "source": [
    "sns.set(style=\"darkgrid\")\n",
    "ax = sns.barplot(x='Data', y='Value', hue='Y', data=LG2_res_df)\n",
    "ax.figure.set_size_inches(15, 5)\n",
    "ax.set_title(\"Sklearn Logistic Regression\")\n",
    "autolabel(ax.patches)"
   ]
  },
  {
   "cell_type": "markdown",
   "metadata": {},
   "source": [
    "## Compare our LR with sklearn's"
   ]
  },
  {
   "cell_type": "code",
   "execution_count": 124,
   "metadata": {},
   "outputs": [
    {
     "name": "stderr",
     "output_type": "stream",
     "text": [
      "C:\\Users\\Febrin\\AppData\\Local\\Programs\\Python\\Python37\\lib\\site-packages\\pandas\\core\\generic.py:5096: SettingWithCopyWarning: \n",
      "A value is trying to be set on a copy of a slice from a DataFrame.\n",
      "Try using .loc[row_indexer,col_indexer] = value instead\n",
      "\n",
      "See the caveats in the documentation: http://pandas.pydata.org/pandas-docs/stable/indexing.html#indexing-view-versus-copy\n",
      "  self[name] = value\n"
     ]
    }
   ],
   "source": [
    "A_df = LGc_res_df[LGc_res_df.Y == 'Acc']\n",
    "A_df.Y = ['Our'] * 4\n",
    "\n",
    "B_df = LG2_res_df[LG2_res_df.Y == 'Acc']\n",
    "B_df.Y = ['Sklearn'] * 4"
   ]
  },
  {
   "cell_type": "code",
   "execution_count": 132,
   "metadata": {},
   "outputs": [
    {
     "data": {
      "image/png": "[encoded data removed]",
      "text/plain": [
       "<Figure size 1080x360 with 1 Axes>"
      ]
     },
     "metadata": {},
     "output_type": "display_data"
    }
   ],
   "source": [
    "compare_df = pd.concat([A_df,B_df])\n",
    "\n",
    "sns.set(style=\"darkgrid\")\n",
    "ax = sns.barplot(x='Data', y='Value', hue='Y', data=compare_df)\n",
    "ax.figure.set_size_inches(15, 5)\n",
    "ax.set_title(\"Our Logistic Regression vs Sklearn Logistic Regression\")\n",
    "ax.legend(loc='lower right')\n",
    "autolabel(ax.patches)"
   ]
  },
  {
   "cell_type": "markdown",
   "metadata": {},
   "source": [
    "## N-gram"
   ]
  },
  {
   "cell_type": "markdown",
   "metadata": {},
   "source": [
    "### Testing different ranges"
   ]
  },
  {
   "cell_type": "code",
   "execution_count": 36,
   "metadata": {},
   "outputs": [
    {
     "name": "stdout",
     "output_type": "stream",
     "text": [
      "Sklearn CV and LR, c=0.05, Stemmed test data without stop words\n",
      "N-gram range = (1,1), acc: 0.9215647141003892\n",
      "N-gram range = (1,2), acc: 0.9275521405049396\n",
      "N-gram range = (1,3), acc: 0.9275521405049396\n",
      "N-gram range = (1,4), acc: 0.9276519309450154\n",
      "N-gram range = (1,5), acc: 0.9276519309450154\n",
      "N-gram range = (1,6), acc: 0.9276519309450154\n",
      "N-gram range = (1,7), acc: 0.9276519309450154\n",
      "N-gram range = (1,8), acc: 0.9276519309450154\n",
      "N-gram range = (1,9), acc: 0.9276519309450154\n",
      "N-gram range = (1,10), acc: 0.9276519309450154\n"
     ]
    }
   ],
   "source": [
    "y_train = np.array(list(map(int, bayes_df_train['rating']))) // 10\n",
    "y_test = np.array(list(map(int, bayes_df_test['rating']))) // 10\n",
    "print('Sklearn CV and LR, c=0.05, Stemmed test data without stop words')\n",
    "accs = []\n",
    "for r in range(1,11):\n",
    "    cv_ngram = CountVectorizer(min_df=5,ngram_range=(1,r))\n",
    "    cv_ngram.fit(stemmed_swr_train_df.text)\n",
    "    X_train_ngram = cv_ngram.transform(stemmed_swr_train_df.text)\n",
    "    X_test_ngram = cv_ngram.transform(stemmed_swr_test_df.text)\n",
    "    lrngram = LogisticRegression(C=0.05, max_iter=500, solver='lbfgs') \n",
    "    lrngram.fit(X_train_ngram, y_train)\n",
    "    preds = lrngram.predict(X_test_ngram)\n",
    "    acc = np.mean(preds == y_test)\n",
    "    accs.append(acc)\n",
    "    print(f'N-gram range = (1,{r}), acc: {acc}')"
   ]
  },
  {
   "cell_type": "code",
   "execution_count": 40,
   "metadata": {},
   "outputs": [
    {
     "data": {
      "text/plain": [
       "Text(0.5, 1.0, 'Sklearn CV and LR, c=0.05, Stemmed test data without stop words')"
      ]
     },
     "execution_count": 40,
     "metadata": {},
     "output_type": "execute_result"
    },
    {
     "data": {
      "image/png": "[encoded data removed]",
      "text/plain": [
       "<Figure size 432x288 with 1 Axes>"
      ]
     },
     "metadata": {
      "needs_background": "light"
     },
     "output_type": "display_data"
    }
   ],
   "source": [
    "plt.plot(range(1,11),accs)\n",
    "plt.xlabel('N-gram upper range')\n",
    "plt.ylabel('Accuracy')\n",
    "plt.title('Sklearn CV and LR, c=0.05, Stemmed test data without stop words')"
   ]
  },
  {
   "cell_type": "markdown",
   "metadata": {},
   "source": [
    "### Train and test accuracy"
   ]
  },
  {
   "cell_type": "code",
   "execution_count": 134,
   "metadata": {},
   "outputs": [],
   "source": [
    "cv_ngram = CountVectorizer(min_df=5,ngram_range=(1,5))\n",
    "cv_ngram.fit(stemmed_swr_train_df.text)\n",
    "cv_ngram2 = CountVectorizer(min_df=5,ngram_range=(1,5))\n",
    "cv_ngram2.fit(bayes_df_train.text)\n",
    "\n",
    "X_train_og_ngram = cv_ngram2.transform(bayes_df_train.text)\n",
    "X_test_og_ngram = cv_ngram2.transform(bayes_df_test.text)\n",
    "\n",
    "X_train_stem_swr_ngram = cv_ngram.transform(stemmed_swr_train_df.text)\n",
    "X_test_stem_swr_ngram = cv_ngram.transform(stemmed_swr_test_df.text)\n",
    "\n",
    "y_train = np.array(list(map(int, bayes_df_train['rating']))) // 10\n",
    "y_test = np.array(list(map(int, bayes_df_test['rating']))) // 10\n",
    "\n",
    "LG_ngram_res = []"
   ]
  },
  {
   "cell_type": "code",
   "execution_count": 135,
   "metadata": {},
   "outputs": [
    {
     "data": {
      "text/plain": [
       "LogisticRegression(C=0.05, class_weight=None, dual=False, fit_intercept=True,\n",
       "                   intercept_scaling=1, l1_ratio=None, max_iter=500,\n",
       "                   multi_class='warn', n_jobs=None, penalty='l2',\n",
       "                   random_state=None, solver='lbfgs', tol=0.0001, verbose=0,\n",
       "                   warm_start=False)"
      ]
     },
     "execution_count": 135,
     "metadata": {},
     "output_type": "execute_result"
    }
   ],
   "source": [
    "lr_ngram = LogisticRegression(C=0.05, max_iter=500, solver='lbfgs') \n",
    "lr_ngram.fit(X_train_og_ngram, y_train)"
   ]
  },
  {
   "cell_type": "code",
   "execution_count": 136,
   "metadata": {},
   "outputs": [
    {
     "name": "stdout",
     "output_type": "stream",
     "text": [
      "TRAIN\n",
      "Acc: 0.9979658258746948\n",
      "\n",
      "Confusion matrix:\n",
      "[[5089    9]\n",
      " [  11 4723]]\n",
      "\n",
      "True negative (rating = 1): 5089\n",
      "True positive (rating = 10): 4723\n",
      "False negative: 9\n",
      "False positive: 11\n"
     ]
    }
   ],
   "source": [
    "M, N, acc = print_score(lr_ngram.predict(X_train_og_ngram), y_train, 'TRAIN')\n",
    "LG_ngram_res.append(['Org train data\\n','Acc',acc])\n",
    "LG_ngram_res.append(['Org train data\\n','FN',M[0][1]/N])\n",
    "LG_ngram_res.append(['Org train data\\n','FP',M[1][0]/N])"
   ]
  },
  {
   "cell_type": "code",
   "execution_count": 137,
   "metadata": {},
   "outputs": [
    {
     "name": "stdout",
     "output_type": "stream",
     "text": [
      "TEST\n",
      "Acc: 0.9286498353457738\n",
      "\n",
      "Confusion matrix:\n",
      "[[4629  322]\n",
      " [ 393 4677]]\n",
      "\n",
      "True negative (rating = 1): 4629\n",
      "True positive (rating = 10): 4677\n",
      "False negative: 322\n",
      "False positive: 393\n"
     ]
    }
   ],
   "source": [
    "M, N, acc = print_score(lr_ngram.predict(X_test_og_ngram), y_test, 'TEST')\n",
    "LG_ngram_res.append(['Org test data\\n','Acc',acc])\n",
    "LG_ngram_res.append(['Org test data\\n','FN',M[0][1]/N])\n",
    "LG_ngram_res.append(['Org test data\\n','FP',M[1][0]/N])"
   ]
  },
  {
   "cell_type": "code",
   "execution_count": 138,
   "metadata": {},
   "outputs": [
    {
     "data": {
      "text/plain": [
       "LogisticRegression(C=0.05, class_weight=None, dual=False, fit_intercept=True,\n",
       "                   intercept_scaling=1, l1_ratio=None, max_iter=500,\n",
       "                   multi_class='warn', n_jobs=None, penalty='l2',\n",
       "                   random_state=None, solver='lbfgs', tol=0.0001, verbose=0,\n",
       "                   warm_start=False)"
      ]
     },
     "execution_count": 138,
     "metadata": {},
     "output_type": "execute_result"
    }
   ],
   "source": [
    "lr_ngram2 = LogisticRegression(C=0.05, max_iter=500, solver='lbfgs') \n",
    "lr_ngram2.fit(X_train_stem_swr_ngram, y_train)"
   ]
  },
  {
   "cell_type": "code",
   "execution_count": 139,
   "metadata": {},
   "outputs": [
    {
     "name": "stdout",
     "output_type": "stream",
     "text": [
      "STEMMED TRAIN WITHOUT STOP WORDS\n",
      "Acc: 0.9866761594792515\n",
      "\n",
      "Confusion matrix:\n",
      "[[5025   56]\n",
      " [  75 4676]]\n",
      "\n",
      "True negative (rating = 1): 5025\n",
      "True positive (rating = 10): 4676\n",
      "False negative: 56\n",
      "False positive: 75\n"
     ]
    }
   ],
   "source": [
    "M, N, acc = print_score(lr_ngram2.predict(X_train_stem_swr_ngram), y_train, 'STEMMED TRAIN WITHOUT STOP WORDS')\n",
    "LG_ngram_res.append(['Stemmed train data\\nwithout stop words\\n','Acc',acc])\n",
    "LG_ngram_res.append(['Stemmed train data\\nwithout stop words\\n','FN',M[0][1]/N])\n",
    "LG_ngram_res.append(['Stemmed train data\\nwithout stop words\\n','FP',M[1][0]/N])"
   ]
  },
  {
   "cell_type": "code",
   "execution_count": 140,
   "metadata": {},
   "outputs": [
    {
     "name": "stdout",
     "output_type": "stream",
     "text": [
      "STEMMED TEST WITHOUT STOP WORDS\n",
      "Acc: 0.9276519309450154\n",
      "\n",
      "Confusion matrix:\n",
      "[[4623  326]\n",
      " [ 399 4673]]\n",
      "\n",
      "True negative (rating = 1): 4623\n",
      "True positive (rating = 10): 4673\n",
      "False negative: 326\n",
      "False positive: 399\n"
     ]
    }
   ],
   "source": [
    "M, N, acc = print_score(lr_ngram2.predict(X_test_stem_swr_ngram), y_test, 'STEMMED TEST WITHOUT STOP WORDS')\n",
    "LG_ngram_res.append(['Stemmed test data\\nwithout stop words\\n','Acc',acc])\n",
    "LG_ngram_res.append(['Stemmed test data\\nwithout stop words\\n','FN',M[0][1]/N])\n",
    "LG_ngram_res.append(['Stemmed test data\\nwithout stop words\\n','FP',M[1][0]/N])"
   ]
  },
  {
   "cell_type": "code",
   "execution_count": 141,
   "metadata": {},
   "outputs": [],
   "source": [
    "LG_ngram_res_df  = pd.DataFrame(LG_ngram_res, columns = ['Data','Y','Value'])"
   ]
  },
  {
   "cell_type": "code",
   "execution_count": 144,
   "metadata": {},
   "outputs": [
    {
     "data": {
      "image/png": "[encoded data removed]",
      "text/plain": [
       "<Figure size 1080x360 with 1 Axes>"
      ]
     },
     "metadata": {},
     "output_type": "display_data"
    }
   ],
   "source": [
    "sns.set(style=\"darkgrid\")\n",
    "ax = sns.barplot(x='Data', y='Value', hue='Y', data=LG_ngram_res_df)\n",
    "ax.figure.set_size_inches(15, 5)\n",
    "ax.set_title(\"Sklearn Linear Regression, n-gram range = (1,5)\")\n",
    "autolabel(ax.patches)"
   ]
  },
  {
   "cell_type": "markdown",
   "metadata": {},
   "source": [
    "### Compare with default n-gram range"
   ]
  },
  {
   "cell_type": "code",
   "execution_count": 143,
   "metadata": {},
   "outputs": [
    {
     "name": "stderr",
     "output_type": "stream",
     "text": [
      "C:\\Users\\Febrin\\AppData\\Local\\Programs\\Python\\Python37\\lib\\site-packages\\pandas\\core\\generic.py:5096: SettingWithCopyWarning: \n",
      "A value is trying to be set on a copy of a slice from a DataFrame.\n",
      "Try using .loc[row_indexer,col_indexer] = value instead\n",
      "\n",
      "See the caveats in the documentation: http://pandas.pydata.org/pandas-docs/stable/indexing.html#indexing-view-versus-copy\n",
      "  self[name] = value\n"
     ]
    }
   ],
   "source": [
    "C_df = LG_ngram_res_df[LG_ngram_res_df.Y == 'Acc']\n",
    "C_df.Y = ['CV, N-gram (1,5)'] * 4\n",
    "\n",
    "D_df = LG2_res_df[LG2_res_df.Y == 'Acc']\n",
    "D_df.Y = ['CV, N-gram (1,1)'] * 4"
   ]
  },
  {
   "cell_type": "code",
   "execution_count": 145,
   "metadata": {},
   "outputs": [
    {
     "data": {
      "image/png": "[encoded data removed]",
      "text/plain": [
       "<Figure size 1080x360 with 1 Axes>"
      ]
     },
     "metadata": {},
     "output_type": "display_data"
    }
   ],
   "source": [
    "compare_df2 = pd.concat([D_df,C_df])\n",
    "\n",
    "sns.set(style=\"darkgrid\")\n",
    "ax = sns.barplot(x='Data', y='Value', hue='Y', data=compare_df2)\n",
    "ax.figure.set_size_inches(15, 5)\n",
    "ax.set_title(\"Sklearn Logistic Regression with CountVectorizer, ngram range (1,1) vs (1,5)\")\n",
    "ax.legend(loc='lower right')\n",
    "autolabel(ax.patches)"
   ]
  },
  {
   "cell_type": "markdown",
   "metadata": {},
   "source": [
    "## TF-IDF"
   ]
  },
  {
   "cell_type": "markdown",
   "metadata": {},
   "source": [
    "### Train and test accuracy"
   ]
  },
  {
   "cell_type": "code",
   "execution_count": 146,
   "metadata": {},
   "outputs": [],
   "source": [
    "tf_idf = TfidfVectorizer(min_df=5,ngram_range=(1,5))\n",
    "tf_idf.fit(stemmed_swr_train_df.text)\n",
    "tf_idf2 = TfidfVectorizer(min_df=5,ngram_range=(1,5))\n",
    "tf_idf2.fit(bayes_df_train.text)\n",
    "\n",
    "X_train_og_tfidf = tf_idf2.transform(bayes_df_train.text)\n",
    "X_test_og_tfidf = tf_idf2.transform(bayes_df_test.text)\n",
    "\n",
    "X_train_stem_swr_tfidf = tf_idf.transform(stemmed_swr_train_df.text)\n",
    "X_test_stem_swr_tfidf = tf_idf.transform(stemmed_swr_test_df.text)\n",
    "\n",
    "y_train = np.array(list(map(int, bayes_df_train['rating']))) // 10\n",
    "y_test = np.array(list(map(int, bayes_df_test['rating']))) // 10\n",
    "\n",
    "LG_tfidf_res = []"
   ]
  },
  {
   "cell_type": "code",
   "execution_count": 147,
   "metadata": {},
   "outputs": [
    {
     "data": {
      "text/plain": [
       "LogisticRegression(C=0.05, class_weight=None, dual=False, fit_intercept=True,\n",
       "                   intercept_scaling=1, l1_ratio=None, max_iter=500,\n",
       "                   multi_class='warn', n_jobs=None, penalty='l2',\n",
       "                   random_state=None, solver='lbfgs', tol=0.0001, verbose=0,\n",
       "                   warm_start=False)"
      ]
     },
     "execution_count": 147,
     "metadata": {},
     "output_type": "execute_result"
    }
   ],
   "source": [
    "lr_tfidf = LogisticRegression(C=0.05, max_iter=500, solver='lbfgs') \n",
    "lr_tfidf.fit(X_train_og_tfidf, y_train)"
   ]
  },
  {
   "cell_type": "code",
   "execution_count": 148,
   "metadata": {},
   "outputs": [
    {
     "name": "stdout",
     "output_type": "stream",
     "text": [
      "TRAIN\n",
      "Acc: 0.8975793327908869\n",
      "\n",
      "Confusion matrix:\n",
      "[[4851  758]\n",
      " [ 249 3974]]\n",
      "\n",
      "True negative (rating = 1): 4851\n",
      "True positive (rating = 10): 3974\n",
      "False negative: 758\n",
      "False positive: 249\n"
     ]
    }
   ],
   "source": [
    "M, N, acc = print_score(lr_tfidf.predict(X_train_og_tfidf), y_train, 'TRAIN')\n",
    "LG_tfidf_res.append(['Org train data\\n','Acc',acc])\n",
    "LG_tfidf_res.append(['Org train data\\n','FN',M[0][1]/N])\n",
    "LG_tfidf_res.append(['Org train data\\n','FP',M[1][0]/N])"
   ]
  },
  {
   "cell_type": "code",
   "execution_count": 149,
   "metadata": {},
   "outputs": [
    {
     "name": "stdout",
     "output_type": "stream",
     "text": [
      "TEST\n",
      "Acc: 0.8722682367029239\n",
      "\n",
      "Confusion matrix:\n",
      "[[4712  970]\n",
      " [ 310 4029]]\n",
      "\n",
      "True negative (rating = 1): 4712\n",
      "True positive (rating = 10): 4029\n",
      "False negative: 970\n",
      "False positive: 310\n"
     ]
    }
   ],
   "source": [
    "M, N, acc = print_score(lr_tfidf.predict(X_test_og_tfidf), y_test, 'TEST')\n",
    "LG_tfidf_res.append(['Org test data\\n','Acc',acc])\n",
    "LG_tfidf_res.append(['Org test data\\n','FN',M[0][1]/N])\n",
    "LG_tfidf_res.append(['Org test data\\n','FP',M[1][0]/N])"
   ]
  },
  {
   "cell_type": "code",
   "execution_count": 150,
   "metadata": {},
   "outputs": [
    {
     "data": {
      "text/plain": [
       "LogisticRegression(C=0.05, class_weight=None, dual=False, fit_intercept=True,\n",
       "                   intercept_scaling=1, l1_ratio=None, max_iter=500,\n",
       "                   multi_class='warn', n_jobs=None, penalty='l2',\n",
       "                   random_state=None, solver='lbfgs', tol=0.0001, verbose=0,\n",
       "                   warm_start=False)"
      ]
     },
     "execution_count": 150,
     "metadata": {},
     "output_type": "execute_result"
    }
   ],
   "source": [
    "lr_tfidf2 = LogisticRegression(C=0.05, max_iter=500, solver='lbfgs') \n",
    "lr_tfidf2.fit(X_train_stem_swr_tfidf, y_train)"
   ]
  },
  {
   "cell_type": "code",
   "execution_count": 151,
   "metadata": {},
   "outputs": [
    {
     "name": "stdout",
     "output_type": "stream",
     "text": [
      "STEMMED TRAIN WITHOUT STOP WORDS\n",
      "Acc: 0.9129373474369405\n",
      "\n",
      "Confusion matrix:\n",
      "[[4765  521]\n",
      " [ 335 4211]]\n",
      "\n",
      "True negative (rating = 1): 4765\n",
      "True positive (rating = 10): 4211\n",
      "False negative: 521\n",
      "False positive: 335\n"
     ]
    }
   ],
   "source": [
    "M, N, acc = print_score(lr_tfidf2.predict(X_train_stem_swr_tfidf), y_train, 'STEMMED TRAIN WITHOUT STOP WORDS')\n",
    "LG_tfidf_res.append(['Stemmed train data\\nwithout stop words\\n','Acc',acc])\n",
    "LG_tfidf_res.append(['Stemmed train data\\nwithout stop words\\n','FN',M[0][1]/N])\n",
    "LG_tfidf_res.append(['Stemmed train data\\nwithout stop words\\n','FP',M[1][0]/N])"
   ]
  },
  {
   "cell_type": "code",
   "execution_count": 152,
   "metadata": {},
   "outputs": [
    {
     "name": "stdout",
     "output_type": "stream",
     "text": [
      "STEMMED TEST WITHOUT STOP WORDS\n",
      "Acc: 0.896617104081429\n",
      "\n",
      "Confusion matrix:\n",
      "[[4675  689]\n",
      " [ 347 4310]]\n",
      "\n",
      "True negative (rating = 1): 4675\n",
      "True positive (rating = 10): 4310\n",
      "False negative: 689\n",
      "False positive: 347\n"
     ]
    }
   ],
   "source": [
    "M, N, acc = print_score(lr_tfidf2.predict(X_test_stem_swr_tfidf), y_test, 'STEMMED TEST WITHOUT STOP WORDS')\n",
    "LG_tfidf_res.append(['Stemmed test data\\nwithout stop words\\n','Acc',acc])\n",
    "LG_tfidf_res.append(['Stemmed test data\\nwithout stop words\\n','FN',M[0][1]/N])\n",
    "LG_tfidf_res.append(['Stemmed test data\\nwithout stop words\\n','FP',M[1][0]/N])"
   ]
  },
  {
   "cell_type": "code",
   "execution_count": 153,
   "metadata": {},
   "outputs": [],
   "source": [
    "LG_tfidf_res_df  = pd.DataFrame(LG_tfidf_res, columns = ['Data','Y','Value'])"
   ]
  },
  {
   "cell_type": "code",
   "execution_count": 154,
   "metadata": {},
   "outputs": [
    {
     "data": {
      "image/png": "[encoded data removed]",
      "text/plain": [
       "<Figure size 1080x360 with 1 Axes>"
      ]
     },
     "metadata": {},
     "output_type": "display_data"
    }
   ],
   "source": [
    "sns.set(style=\"darkgrid\")\n",
    "ax = sns.barplot(x='Data', y='Value', hue='Y', data=LG_tfidf_res_df)\n",
    "ax.figure.set_size_inches(15, 5)\n",
    "ax.set_title(\"Sklearn Linear Regression, TF-IDF vectorizer\")\n",
    "autolabel(ax.patches)"
   ]
  },
  {
   "cell_type": "markdown",
   "metadata": {},
   "source": [
    "### Compare with CountVectorizer"
   ]
  },
  {
   "cell_type": "code",
   "execution_count": 155,
   "metadata": {},
   "outputs": [
    {
     "name": "stderr",
     "output_type": "stream",
     "text": [
      "C:\\Users\\Febrin\\AppData\\Local\\Programs\\Python\\Python37\\lib\\site-packages\\pandas\\core\\generic.py:5096: SettingWithCopyWarning: \n",
      "A value is trying to be set on a copy of a slice from a DataFrame.\n",
      "Try using .loc[row_indexer,col_indexer] = value instead\n",
      "\n",
      "See the caveats in the documentation: http://pandas.pydata.org/pandas-docs/stable/indexing.html#indexing-view-versus-copy\n",
      "  self[name] = value\n"
     ]
    }
   ],
   "source": [
    "E_df = LG_tfidf_res_df[LG_tfidf_res_df.Y == 'Acc']\n",
    "E_df.Y = ['TF-IDF, N-gram (1,5)'] * 4"
   ]
  },
  {
   "cell_type": "code",
   "execution_count": 157,
   "metadata": {},
   "outputs": [
    {
     "data": {
      "image/png": "[encoded data removed]",
      "text/plain": [
       "<Figure size 1080x360 with 1 Axes>"
      ]
     },
     "metadata": {},
     "output_type": "display_data"
    }
   ],
   "source": [
    "compare_df3 = pd.concat([D_df,C_df,E_df])\n",
    "\n",
    "sns.set(style=\"darkgrid\")\n",
    "ax = sns.barplot(x='Data', y='Value', hue='Y', data=compare_df3)\n",
    "ax.figure.set_size_inches(15, 5)\n",
    "ax.set_title(\"Sklearn Logistic Regression CountVectorizer vs TF-IDFVectorizer\")\n",
    "ax.legend(loc='lower right')\n",
    "autolabel(ax.patches)"
   ]
  },
  {
   "cell_type": "markdown",
   "metadata": {},
   "source": [
    "# SVM"
   ]
  },
  {
   "cell_type": "markdown",
   "metadata": {},
   "source": [
    "## SVM class"
   ]
  },
  {
   "cell_type": "code",
   "execution_count": 48,
   "metadata": {},
   "outputs": [],
   "source": [
    "class SVM:\n",
    "    def __init__(self,C,gamma,th=1e-5):\n",
    "        self.C = C\n",
    "        self.gamma = gamma\n",
    "        self.th = th\n",
    "    def fit(self,X,y,info=False):\n",
    "        m,n = X.shape\n",
    "        \n",
    "        # kernel matrix\n",
    "        if info:\n",
    "            print(f'Calculating kernel matrix...',end='')\n",
    "        K = rbf_kernel(X,X,gamma=self.gamma)\n",
    "        \n",
    "        # setup solver\n",
    "        if info:\n",
    "            print(f'Setting solver...',end='')\n",
    "        P = cvxopt.matrix(np.outer(y,y) * K)\n",
    "        q = cvxopt.matrix(-np.ones((m, 1)))\n",
    "        G = cvxopt.matrix(np.vstack((np.eye(m)*-1,np.eye(m))))\n",
    "        h = cvxopt.matrix(np.hstack((np.zeros(m), np.ones(m) * self.C)))\n",
    "        A = cvxopt.matrix(y.reshape(1, -1))\n",
    "        b = cvxopt.matrix(np.zeros(1))\n",
    "        if info:\n",
    "            print(f'starting solver...')\n",
    "        sol = cvxopt.solvers.qp(P, q, G, h, A, b)\n",
    "        self.alphas = np.array(sol['x'])\n",
    "        \n",
    "        # getting support vectors\n",
    "        self.S = (self.alphas > self.th).reshape(-1, )\n",
    "        self.support_vextors = X[self.S]\n",
    "        self.sv_target = y[self.S]\n",
    "        \n",
    "        # getting bias\n",
    "        if info:\n",
    "            print(f'Calculating bias...',end='')\n",
    "        K_sv = rbf_kernel(self.support_vextors,self.support_vextors,gamma=self.gamma)\n",
    "        B = self.sv_target.ravel() - np.sum(K_sv * self.sv_target.ravel() * self.alphas[self.S].ravel(),axis=1)\n",
    "        self.bias = sstats.mode(B)[0][0]\n",
    "        \n",
    "        if info:\n",
    "            print(f'done')\n",
    "        \n",
    "    def predict(self,X):\n",
    "        K = rbf_kernel(X,self.support_vextors,gamma=self.gamma)\n",
    "        preds = np.sign(np.sum(K * self.sv_target.ravel() * self.alphas[self.S].ravel(),axis=1) + self.bias)\n",
    "        return preds"
   ]
  },
  {
   "cell_type": "markdown",
   "metadata": {},
   "source": [
    "## Train and test accuracy"
   ]
  },
  {
   "cell_type": "code",
   "execution_count": 49,
   "metadata": {},
   "outputs": [],
   "source": [
    "CV = MyCountVectorizer(min_df = 5)"
   ]
  },
  {
   "cell_type": "code",
   "execution_count": 50,
   "metadata": {},
   "outputs": [],
   "source": [
    "CV.fit(stemmed_swr_train_df)"
   ]
  },
  {
   "cell_type": "code",
   "execution_count": 51,
   "metadata": {},
   "outputs": [],
   "source": [
    "X_train_SVM,X_test_SVM = CV.transform(stemmed_swr_train_df),CV.transform(stemmed_swr_test_df)"
   ]
  },
  {
   "cell_type": "code",
   "execution_count": 52,
   "metadata": {},
   "outputs": [],
   "source": [
    "y_train = np.array([-1.0 if r == '1' else 1.0 for r in stemmed_swr_train_df['rating']]).reshape(-1,1)"
   ]
  },
  {
   "cell_type": "code",
   "execution_count": 53,
   "metadata": {},
   "outputs": [],
   "source": [
    "y_test = np.array([-1.0 if r == '1' else 1.0 for r in stemmed_swr_test_df['rating']]).reshape(-1,1)"
   ]
  },
  {
   "cell_type": "code",
   "execution_count": 55,
   "metadata": {},
   "outputs": [],
   "source": [
    "C = 1.25\n",
    "gamma = 0.0025\n",
    "svm_model = SVM(C,gamma)"
   ]
  },
  {
   "cell_type": "code",
   "execution_count": 56,
   "metadata": {},
   "outputs": [
    {
     "name": "stdout",
     "output_type": "stream",
     "text": [
      "Calculating kernel matrix...Setting solver...starting solver...\n",
      "     pcost       dcost       gap    pres   dres\n",
      " 0: -3.0473e+03 -3.7407e+04  2e+05  3e+00  7e-13\n",
      " 1: -2.1390e+03 -2.5998e+04  4e+04  4e-01  8e-13\n",
      " 2: -2.0428e+03 -6.1023e+03  4e+03  4e-12  8e-13\n",
      " 3: -2.6782e+03 -4.2363e+03  2e+03  3e-12  7e-13\n",
      " 4: -2.8801e+03 -3.8264e+03  9e+02  2e-12  7e-13\n",
      " 5: -3.0462e+03 -3.4778e+03  4e+02  1e-12  8e-13\n",
      " 6: -3.1317e+03 -3.3105e+03  2e+02  5e-13  8e-13\n",
      " 7: -3.1775e+03 -3.2235e+03  5e+01  3e-12  9e-13\n",
      " 8: -3.1922e+03 -3.1970e+03  5e+00  5e-12  9e-13\n",
      " 9: -3.1940e+03 -3.1942e+03  2e-01  2e-12  1e-12\n",
      "10: -3.1941e+03 -3.1941e+03  7e-03  3e-12  9e-13\n",
      "11: -3.1941e+03 -3.1941e+03  2e-04  1e-12  1e-12\n",
      "Optimal solution found.\n",
      "Calculating bias...done\n"
     ]
    }
   ],
   "source": [
    "svm_model.fit(X_train_SVM,y_train,info=True)"
   ]
  },
  {
   "cell_type": "code",
   "execution_count": 57,
   "metadata": {},
   "outputs": [],
   "source": [
    "svm_predictions_train = svm_model.predict(X_train_SVM)"
   ]
  },
  {
   "cell_type": "code",
   "execution_count": 58,
   "metadata": {},
   "outputs": [
    {
     "name": "stdout",
     "output_type": "stream",
     "text": [
      "Train data, SVM, rbf kernel, C=1.25, gamma=0.0025\n",
      "Acc: 0.9658258746948739\n",
      "\n",
      "Confusion matrix:\n",
      "[[4904  140]\n",
      " [ 196 4592]]\n",
      "\n",
      "True negative (rating = 1): 4904\n",
      "True positive (rating = 10): 4592\n",
      "False negative: 140\n",
      "False positive: 196\n"
     ]
    }
   ],
   "source": [
    "M,N,acc = print_score(svm_predictions_train,y_train.ravel(),\n",
    "                      f'Train data, SVM, rbf kernel, C={C}, gamma={gamma}')"
   ]
  },
  {
   "cell_type": "code",
   "execution_count": 59,
   "metadata": {},
   "outputs": [],
   "source": [
    "svm_predictions = svm_model.predict(X_test_SVM)"
   ]
  },
  {
   "cell_type": "code",
   "execution_count": 60,
   "metadata": {},
   "outputs": [
    {
     "name": "stdout",
     "output_type": "stream",
     "text": [
      "Test data, SVM, rbf kernel, C=1.25, gamma=0.0025\n",
      "Acc: 0.9209659714599341\n",
      "\n",
      "Confusion matrix:\n",
      "[[4566  336]\n",
      " [ 456 4663]]\n",
      "\n",
      "True negative (rating = 1): 4566\n",
      "True positive (rating = 10): 4663\n",
      "False negative: 336\n",
      "False positive: 456\n"
     ]
    }
   ],
   "source": [
    "M,N,acc = print_score(svm_predictions,y_test.ravel(),\n",
    "                      f'Test data, SVM, rbf kernel, C={C}, gamma={gamma}')"
   ]
  },
  {
   "cell_type": "markdown",
   "metadata": {},
   "source": [
    "## Testing different parameters"
   ]
  },
  {
   "cell_type": "code",
   "execution_count": 61,
   "metadata": {},
   "outputs": [],
   "source": [
    "SVMc_res_train = []\n",
    "SVMc_res_test = []"
   ]
  },
  {
   "cell_type": "code",
   "execution_count": 62,
   "metadata": {},
   "outputs": [],
   "source": [
    "cvxopt.solvers.options['show_progress'] = False"
   ]
  },
  {
   "cell_type": "code",
   "execution_count": 63,
   "metadata": {},
   "outputs": [
    {
     "name": "stdout",
     "output_type": "stream",
     "text": [
      "C: 1.0, gamma: 0.001\n",
      "Train data, SVM, rbf kernel, C=1.0, gamma=0.001\n",
      "Acc: 0.9317534580960131\n",
      "Test data, SVM, rbf kernel, C=1.0, gamma=0.001\n",
      "Acc: 0.9055982436882547\n",
      "\n",
      "C: 1.0, gamma: 0.0025\n",
      "Train data, SVM, rbf kernel, C=1.0, gamma=0.0025\n",
      "Acc: 0.9597233523189586\n",
      "Test data, SVM, rbf kernel, C=1.0, gamma=0.0025\n",
      "Acc: 0.9200678574992516\n",
      "\n",
      "C: 1.0, gamma: 0.005\n",
      "Train data, SVM, rbf kernel, C=1.0, gamma=0.005\n",
      "Acc: 0.9762001627339301\n",
      "Test data, SVM, rbf kernel, C=1.0, gamma=0.005\n",
      "Acc: 0.9132821075740944\n",
      "\n",
      "C: 1.25, gamma: 0.001\n",
      "Train data, SVM, rbf kernel, C=1.25, gamma=0.001\n",
      "Acc: 0.9466029292107404\n",
      "Test data, SVM, rbf kernel, C=1.25, gamma=0.001\n",
      "Acc: 0.9183714200179622\n",
      "\n",
      "C: 1.25, gamma: 0.0025\n",
      "Train data, SVM, rbf kernel, C=1.25, gamma=0.0025\n",
      "Acc: 0.9658258746948739\n",
      "Test data, SVM, rbf kernel, C=1.25, gamma=0.0025\n",
      "Acc: 0.9209659714599341\n",
      "\n",
      "C: 1.25, gamma: 0.005\n",
      "Train data, SVM, rbf kernel, C=1.25, gamma=0.005\n",
      "Acc: 0.9812855980471928\n",
      "Test data, SVM, rbf kernel, C=1.25, gamma=0.005\n",
      "Acc: 0.9160762398962179\n",
      "\n",
      "C: 1.5, gamma: 0.001\n",
      "Train data, SVM, rbf kernel, C=1.5, gamma=0.001\n",
      "Acc: 0.947213181448332\n",
      "Test data, SVM, rbf kernel, C=1.5, gamma=0.001\n",
      "Acc: 0.9173735156172039\n",
      "\n",
      "C: 1.5, gamma: 0.0025\n",
      "Train data, SVM, rbf kernel, C=1.5, gamma=0.0025\n",
      "Acc: 0.9698942229454841\n",
      "Test data, SVM, rbf kernel, C=1.5, gamma=0.0025\n",
      "Acc: 0.9215647141003892\n",
      "\n",
      "C: 1.5, gamma: 0.005\n",
      "Train data, SVM, rbf kernel, C=1.5, gamma=0.005\n",
      "Acc: 0.98413344182262\n",
      "Test data, SVM, rbf kernel, C=1.5, gamma=0.005\n",
      "Acc: 0.9167747729767488\n",
      "\n"
     ]
    }
   ],
   "source": [
    "for c in [1.0,1.25,1.5]:\n",
    "    for gamma_ in [0.001,0.0025,0.005]:\n",
    "        svm_test_model = SVM(c,gamma_)\n",
    "        print(f'C: {c}, gamma: {gamma_}')\n",
    "        svm_test_model.fit(X_train_SVM,y_train,info=False)\n",
    "        svm_preds_train = svm_test_model.predict(X_train_SVM)\n",
    "        svm_preds_test = svm_test_model.predict(X_test_SVM)\n",
    "        M_train,N_train,acc_train = print_score(svm_preds_train,y_train.ravel(),\n",
    "                      f'Train data, SVM, rbf kernel, C={c}, gamma={gamma_}',prints=False)\n",
    "        M_test,N_test,acc_test = print_score(svm_preds_test,y_test.ravel(),\n",
    "                      f'Test data, SVM, rbf kernel, C={c}, gamma={gamma_}',prints=False)\n",
    "        SVMc_res_train.append([f'C = {c}\\ngamma = {gamma_}','Acc',acc_train])\n",
    "        SVMc_res_train.append([f'C = {c}\\ngamma = {gamma_}','FN',M_train[0][1]/N_train])\n",
    "        SVMc_res_train.append([f'C = {c}\\ngamma = {gamma_}','FP',M_train[1][0]/N_train])\n",
    "        SVMc_res_test.append([f'C = {c}\\ngamma = {gamma_}','Acc',acc_test])\n",
    "        SVMc_res_test.append([f'C = {c}\\ngamma = {gamma_}','FN',M_test[0][1]/N_test])\n",
    "        SVMc_res_test.append([f'C = {c}\\ngamma = {gamma_}','FP',M_test[1][0]/N_test])\n",
    "        print()"
   ]
  },
  {
   "cell_type": "code",
   "execution_count": 64,
   "metadata": {},
   "outputs": [],
   "source": [
    "SVMc_res_train_df = pd.DataFrame(SVMc_res_train,columns = ['Data','Y','Value'])\n",
    "SVMc_res_test_df = pd.DataFrame(SVMc_res_test,columns = ['Data','Y','Value'])"
   ]
  },
  {
   "cell_type": "code",
   "execution_count": 69,
   "metadata": {},
   "outputs": [
    {
     "data": {
      "image/png": "[encoded data removed]",
      "text/plain": [
       "<Figure size 1440x360 with 1 Axes>"
      ]
     },
     "metadata": {},
     "output_type": "display_data"
    }
   ],
   "source": [
    "sns.set(style=\"darkgrid\")\n",
    "ax = sns.barplot(x='Data', y='Value', hue='Y', data=SVMc_res_train_df)\n",
    "ax.figure.set_size_inches(20, 5)\n",
    "ax.set_title(\"Stemmed train data without stop words, SVM with rbf kernel\")\n",
    "ax.legend(loc='center right')\n",
    "autolabel(ax.patches)"
   ]
  },
  {
   "cell_type": "code",
   "execution_count": 71,
   "metadata": {},
   "outputs": [
    {
     "data": {
      "image/png": "[encoded data removed]",
      "text/plain": [
       "<Figure size 1440x360 with 1 Axes>"
      ]
     },
     "metadata": {},
     "output_type": "display_data"
    }
   ],
   "source": [
    "sns.set(style=\"darkgrid\")\n",
    "ax = sns.barplot(x='Data', y='Value', hue='Y', data=SVMc_res_test_df)\n",
    "ax.figure.set_size_inches(20, 5)\n",
    "ax.set_title(\"Stemmed test data without stop words, SVM with rbf kernel\")\n",
    "ax.legend(loc='center right')\n",
    "autolabel(ax.patches)"
   ]
  },
  {
   "cell_type": "code",
   "execution_count": 72,
   "metadata": {},
   "outputs": [
    {
     "name": "stderr",
     "output_type": "stream",
     "text": [
      "C:\\ProgramData\\Anaconda3\\lib\\site-packages\\pandas\\core\\generic.py:5208: SettingWithCopyWarning: \n",
      "A value is trying to be set on a copy of a slice from a DataFrame.\n",
      "Try using .loc[row_indexer,col_indexer] = value instead\n",
      "\n",
      "See the caveats in the documentation: http://pandas.pydata.org/pandas-docs/stable/user_guide/indexing.html#returning-a-view-versus-a-copy\n",
      "  self[name] = value\n"
     ]
    }
   ],
   "source": [
    "SVMc_res_train_df_copyed = SVMc_res_train_df.copy()\n",
    "SVM_A_df = SVMc_res_train_df_copyed[SVMc_res_train_df_copyed.Y == 'Acc']\n",
    "SVM_A_df.Y = ['Train'] * 9\n",
    "SVMc_res_test_df_copyed = SVMc_res_test_df.copy()\n",
    "SVM_B_df = SVMc_res_test_df_copyed[SVMc_res_test_df_copyed.Y == 'Acc']\n",
    "SVM_B_df.Y = ['Test'] * 9\n",
    "compare_svm_df = pd.concat([SVM_A_df,SVM_B_df])"
   ]
  },
  {
   "cell_type": "code",
   "execution_count": 90,
   "metadata": {},
   "outputs": [
    {
     "data": {
      "image/png": "[encoded data removed]",
      "text/plain": [
       "<Figure size 1440x360 with 1 Axes>"
      ]
     },
     "metadata": {},
     "output_type": "display_data"
    }
   ],
   "source": [
    "sns.set(style=\"darkgrid\")\n",
    "ax = sns.barplot(x='Data', y='Value', hue='Y', data=compare_svm_df)\n",
    "ax.figure.set_size_inches(20, 5)\n",
    "ax.set_title(\"Stemmed data without stop words, SVM with rbf kernel, train vs test accuracy\")\n",
    "ax.legend(loc='center right')\n",
    "autolabel(ax.patches)"
   ]
  },
  {
   "cell_type": "markdown",
   "metadata": {},
   "source": [
    "## Sklearn SVM"
   ]
  },
  {
   "cell_type": "code",
   "execution_count": 76,
   "metadata": {},
   "outputs": [],
   "source": [
    "CV = CountVectorizer(min_df=5)"
   ]
  },
  {
   "cell_type": "code",
   "execution_count": 77,
   "metadata": {},
   "outputs": [
    {
     "data": {
      "text/plain": [
       "CountVectorizer(analyzer='word', binary=False, decode_error='strict',\n",
       "                dtype=<class 'numpy.int64'>, encoding='utf-8', input='content',\n",
       "                lowercase=True, max_df=1.0, max_features=None, min_df=5,\n",
       "                ngram_range=(1, 1), preprocessor=None, stop_words=None,\n",
       "                strip_accents=None, token_pattern='(?u)\\\\b\\\\w\\\\w+\\\\b',\n",
       "                tokenizer=None, vocabulary=None)"
      ]
     },
     "execution_count": 77,
     "metadata": {},
     "output_type": "execute_result"
    }
   ],
   "source": [
    "CV.fit(stemmed_swr_train_df['text'])"
   ]
  },
  {
   "cell_type": "code",
   "execution_count": 78,
   "metadata": {},
   "outputs": [],
   "source": [
    "X_train_SVM = CV.transform(stemmed_swr_train_df['text'])\n",
    "X_test_SVM = CV.transform(stemmed_swr_test_df['text'])"
   ]
  },
  {
   "cell_type": "code",
   "execution_count": 79,
   "metadata": {},
   "outputs": [],
   "source": [
    "SVMb_res_train = []\n",
    "SVMb_res_test = []"
   ]
  },
  {
   "cell_type": "code",
   "execution_count": 80,
   "metadata": {},
   "outputs": [
    {
     "name": "stdout",
     "output_type": "stream",
     "text": [
      "C: 1.0, gamma: 0.001\n",
      "Train data, SVM, rbf kernel, C=1.0, gamma=0.001\n",
      "Acc: 0.9370423108218063\n",
      "Test data, SVM, rbf kernel, C=1.0, gamma=0.001\n",
      "Acc: 0.912882945813791\n",
      "\n",
      "C: 1.0, gamma: 0.0025\n",
      "Train data, SVM, rbf kernel, C=1.0, gamma=0.0025\n",
      "Acc: 0.9596216436126932\n",
      "Test data, SVM, rbf kernel, C=1.0, gamma=0.0025\n",
      "Acc: 0.9200678574992516\n",
      "\n",
      "C: 1.0, gamma: 0.005\n",
      "Train data, SVM, rbf kernel, C=1.0, gamma=0.005\n",
      "Acc: 0.975793327908869\n",
      "Test data, SVM, rbf kernel, C=1.0, gamma=0.005\n",
      "Acc: 0.9140804310947012\n",
      "\n",
      "C: 1.25, gamma: 0.001\n",
      "Train data, SVM, rbf kernel, C=1.25, gamma=0.001\n",
      "Acc: 0.9416192026037429\n",
      "Test data, SVM, rbf kernel, C=1.25, gamma=0.001\n",
      "Acc: 0.9155772876958388\n",
      "\n",
      "C: 1.25, gamma: 0.0025\n",
      "Train data, SVM, rbf kernel, C=1.25, gamma=0.0025\n",
      "Acc: 0.9653173311635476\n",
      "Test data, SVM, rbf kernel, C=1.25, gamma=0.0025\n",
      "Acc: 0.9209659714599341\n",
      "\n",
      "C: 1.25, gamma: 0.005\n",
      "Train data, SVM, rbf kernel, C=1.25, gamma=0.005\n",
      "Acc: 0.9800650935720098\n",
      "Test data, SVM, rbf kernel, C=1.25, gamma=0.005\n",
      "Acc: 0.9152779163756112\n",
      "\n",
      "C: 1.5, gamma: 0.001\n",
      "Train data, SVM, rbf kernel, C=1.5, gamma=0.001\n",
      "Acc: 0.9463995117982099\n",
      "Test data, SVM, rbf kernel, C=1.5, gamma=0.001\n",
      "Acc: 0.9170741442969763\n",
      "\n",
      "C: 1.5, gamma: 0.0025\n",
      "Train data, SVM, rbf kernel, C=1.5, gamma=0.0025\n",
      "Acc: 0.9692839707078926\n",
      "Test data, SVM, rbf kernel, C=1.5, gamma=0.0025\n",
      "Acc: 0.9212653427801617\n",
      "\n",
      "C: 1.5, gamma: 0.005\n",
      "Train data, SVM, rbf kernel, C=1.5, gamma=0.005\n",
      "Acc: 0.983726606997559\n",
      "Test data, SVM, rbf kernel, C=1.5, gamma=0.005\n",
      "Acc: 0.916674982536673\n",
      "\n"
     ]
    }
   ],
   "source": [
    "for c in [1.0,1.25,1.5]:\n",
    "    for gamma_ in [0.001,0.0025,0.005]:\n",
    "        svm_test_model = SVC(C=c, kernel='rbf', gamma=gamma_)\n",
    "        print(f'C: {c}, gamma: {gamma_}')\n",
    "        svm_test_model.fit(X_train_SVM,y_train.ravel())\n",
    "        svm_preds_train = svm_test_model.predict(X_train_SVM)\n",
    "        svm_preds_test = svm_test_model.predict(X_test_SVM)\n",
    "        M_train,N_train,acc_train = print_score(svm_preds_train,y_train.ravel(),\n",
    "                      f'Train data, SVM, rbf kernel, C={c}, gamma={gamma_}',prints=False)\n",
    "        M_test,N_test,acc_test = print_score(svm_preds_test,y_test.ravel(),\n",
    "                      f'Test data, SVM, rbf kernel, C={c}, gamma={gamma_}',prints=False)\n",
    "        SVMb_res_train.append([f'C = {c}\\ngamma = {gamma_}','Acc',acc_train])\n",
    "        SVMb_res_train.append([f'C = {c}\\ngamma = {gamma_}','FN',M_train[0][1]/N_train])\n",
    "        SVMb_res_train.append([f'C = {c}\\ngamma = {gamma_}','FP',M_train[1][0]/N_train])\n",
    "        SVMb_res_test.append([f'C = {c}\\ngamma = {gamma_}','Acc',acc_test])\n",
    "        SVMb_res_test.append([f'C = {c}\\ngamma = {gamma_}','FN',M_test[0][1]/N_test])\n",
    "        SVMb_res_test.append([f'C = {c}\\ngamma = {gamma_}','FP',M_test[1][0]/N_test])\n",
    "        print()"
   ]
  },
  {
   "cell_type": "code",
   "execution_count": 81,
   "metadata": {},
   "outputs": [],
   "source": [
    "SVMb_res_train_df = pd.DataFrame(SVMb_res_train,columns = ['Data','Y','Value'])\n",
    "SVMb_res_test_df = pd.DataFrame(SVMb_res_test,columns = ['Data','Y','Value'])"
   ]
  },
  {
   "cell_type": "code",
   "execution_count": 93,
   "metadata": {},
   "outputs": [
    {
     "data": {
      "image/png": "[encoded data removed]",
      "text/plain": [
       "<Figure size 1440x360 with 1 Axes>"
      ]
     },
     "metadata": {},
     "output_type": "display_data"
    }
   ],
   "source": [
    "sns.set(style=\"darkgrid\")\n",
    "ax = sns.barplot(x='Data', y='Value', hue='Y', data=SVMb_res_train_df)\n",
    "ax.figure.set_size_inches(20, 5)\n",
    "ax.set_title(\"Sklearn SVM, stemmed train data without stop words, rbf kernel\")\n",
    "ax.legend(loc='center right')\n",
    "autolabel(ax.patches)"
   ]
  },
  {
   "cell_type": "code",
   "execution_count": 94,
   "metadata": {},
   "outputs": [
    {
     "data": {
      "image/png": "[encoded data removed]",
      "text/plain": [
       "<Figure size 1440x360 with 1 Axes>"
      ]
     },
     "metadata": {},
     "output_type": "display_data"
    }
   ],
   "source": [
    "sns.set(style=\"darkgrid\")\n",
    "ax = sns.barplot(x='Data', y='Value', hue='Y', data=SVMb_res_test_df)\n",
    "ax.figure.set_size_inches(20, 5)\n",
    "ax.set_title(\"Sklearn SVM, stemmed test data without stop words, rbf kernel\")\n",
    "ax.legend(loc='center right')\n",
    "autolabel(ax.patches)"
   ]
  },
  {
   "cell_type": "code",
   "execution_count": 84,
   "metadata": {},
   "outputs": [
    {
     "name": "stderr",
     "output_type": "stream",
     "text": [
      "C:\\ProgramData\\Anaconda3\\lib\\site-packages\\pandas\\core\\generic.py:5208: SettingWithCopyWarning: \n",
      "A value is trying to be set on a copy of a slice from a DataFrame.\n",
      "Try using .loc[row_indexer,col_indexer] = value instead\n",
      "\n",
      "See the caveats in the documentation: http://pandas.pydata.org/pandas-docs/stable/user_guide/indexing.html#returning-a-view-versus-a-copy\n",
      "  self[name] = value\n"
     ]
    }
   ],
   "source": [
    "SVMb_res_train_df_copyed = SVMb_res_train_df.copy()\n",
    "SVMb_A_df = SVMb_res_train_df_copyed[SVMb_res_train_df_copyed.Y == 'Acc']\n",
    "SVMb_A_df.Y = ['Train'] * 9\n",
    "SVMb_res_test_df_copyed = SVMb_res_test_df.copy()\n",
    "SVMb_B_df = SVMb_res_test_df_copyed[SVMb_res_test_df_copyed.Y == 'Acc']\n",
    "SVMb_B_df.Y = ['Test'] * 9\n",
    "compare_svmb_df = pd.concat([SVMb_A_df,SVMb_B_df])"
   ]
  },
  {
   "cell_type": "code",
   "execution_count": 96,
   "metadata": {},
   "outputs": [
    {
     "data": {
      "image/png": "[encoded data removed]",
      "text/plain": [
       "<Figure size 1440x360 with 1 Axes>"
      ]
     },
     "metadata": {},
     "output_type": "display_data"
    }
   ],
   "source": [
    "sns.set(style=\"darkgrid\")\n",
    "ax = sns.barplot(x='Data', y='Value', hue='Y', data=compare_svmb_df)\n",
    "ax.figure.set_size_inches(20, 5)\n",
    "ax.set_title(\"Sklearn SVM, stemmed data without stop words, rbf kernel, train vs test accuracy\")\n",
    "ax.legend(loc='center right')\n",
    "autolabel(ax.patches)"
   ]
  },
  {
   "cell_type": "markdown",
   "metadata": {},
   "source": [
    "## Compare our SVM with sklearn`s"
   ]
  },
  {
   "cell_type": "code",
   "execution_count": 86,
   "metadata": {},
   "outputs": [],
   "source": [
    "SVMc1_res_train_df_copyed = SVMc_res_train_df.copy()\n",
    "SVMc1_A_df = SVMc1_res_train_df_copyed[SVMc1_res_train_df_copyed.Y == 'Acc']\n",
    "SVMc1_A_df.Y = ['Our'] * 9\n",
    "SVMb1_res_train_df_copyed = SVMb_res_train_df.copy()\n",
    "SVMb1_B_df = SVMb1_res_train_df_copyed[SVMb1_res_train_df_copyed.Y == 'Acc']\n",
    "SVMb1_B_df.Y = ['Sklearn'] * 9\n",
    "compare_svm1_df = pd.concat([SVMc1_A_df,SVMb1_B_df])"
   ]
  },
  {
   "cell_type": "code",
   "execution_count": 97,
   "metadata": {},
   "outputs": [
    {
     "data": {
      "image/png": "[encoded data removed]",
      "text/plain": [
       "<Figure size 1440x360 with 1 Axes>"
      ]
     },
     "metadata": {},
     "output_type": "display_data"
    }
   ],
   "source": [
    "sns.set(style=\"darkgrid\")\n",
    "ax = sns.barplot(x='Data', y='Value', hue='Y', data=compare_svm1_df)\n",
    "ax.figure.set_size_inches(20, 5)\n",
    "ax.set_title(\"Our SVM class vs Sklearn SVC SVM, stemmed train data without stop words\")\n",
    "ax.legend(loc='center right')\n",
    "autolabel(ax.patches)"
   ]
  },
  {
   "cell_type": "code",
   "execution_count": 88,
   "metadata": {},
   "outputs": [],
   "source": [
    "SVMc2_res_test_df_copyed = SVMc_res_test_df.copy()\n",
    "SVMc2_A_df = SVMc2_res_test_df_copyed[SVMc2_res_test_df_copyed.Y == 'Acc']\n",
    "SVMc2_A_df.Y = ['Our'] * 9\n",
    "SVMb2_res_test_df_copyed = SVMb_res_test_df.copy()\n",
    "SVMb2_B_df = SVMb2_res_test_df_copyed[SVMb2_res_test_df_copyed.Y == 'Acc']\n",
    "SVMb2_B_df.Y = ['Sklearn'] * 9\n",
    "compare_svm2_df = pd.concat([SVMc2_A_df,SVMb2_B_df])"
   ]
  },
  {
   "cell_type": "code",
   "execution_count": 98,
   "metadata": {},
   "outputs": [
    {
     "data": {
      "image/png": "[encoded data removed]",
      "text/plain": [
       "<Figure size 1440x360 with 1 Axes>"
      ]
     },
     "metadata": {},
     "output_type": "display_data"
    }
   ],
   "source": [
    "sns.set(style=\"darkgrid\")\n",
    "ax = sns.barplot(x='Data', y='Value', hue='Y', data=compare_svm2_df)\n",
    "ax.figure.set_size_inches(20, 5)\n",
    "ax.set_title(\"Our SVM class vs Sklearn SVC SVM, stemmed test data without stop words\")\n",
    "ax.legend(loc='center right')\n",
    "autolabel(ax.patches)"
   ]
  },
  {
   "cell_type": "markdown",
   "metadata": {},
   "source": [
    "# Heuristic algorithm"
   ]
  },
  {
   "cell_type": "markdown",
   "metadata": {},
   "source": [
    "Here we want to test some heuristics. <br>\n",
    "1. If we come across a negation word, we negate ${k}$ words after it. I.e. we change the next ${k}$ words' probability for probability from another class.\n",
    "2. For words that enhance sentiment we multiply the next ${k}$ words' probability.\n",
    "3. There are also lists with positive and negative words, because sometimes we have a positive word from the negative class and vice versa. We swap probability in this case."
   ]
  },
  {
   "cell_type": "markdown",
   "metadata": {},
   "source": [
    "## Supplementary words sets"
   ]
  },
  {
   "cell_type": "code",
   "execution_count": 35,
   "metadata": {},
   "outputs": [],
   "source": [
    "#most popular negation, enhance, positive and negative words prepared for boosting naive bayes approach\n",
    "negation_words = ['not','no','never','no','hardly','nobody','none','scarcely','nowhere','sparsely','scantly','seldom','sporadically','somewhat','infrequently','imperceptibly','rarely','comparatively','perceptibly','gradually','detectably','slightly','just','only','faintly','little']\n",
    "enhance_words  = ['very', 'consistently', 'constantly', 'continually', 'inadvertently', 'mutually', 'simply', 'strongly', 'actively', 'energetically', 'firmly', 'fully', 'heartily', 'heavily', 'resolutely', 'robustly', 'solidly', 'staunchly', 'steadily', 'vigorously', 'completely', 'decidedly', 'forcibly', 'indomitably', 'invincibly', 'mightily', 'securely', 'stoutly', 'sturdily']\n",
    "positive_words = ['accomplished', 'economical', 'instrumental', 'skilled', 'adept', 'expert', 'productive', 'skillful', 'advanced', 'fluent', 'proficient', 'strong', 'competent', 'ideal', 'profitable', 'superior', 'constructive', 'industrious', 'significant', 'qualified', 'costeffective', 'influential', 'smooth', 'quality', 'cuttingedge', 'imaginative', 'novel', 'sophisticated', 'elegant', 'ingenious', 'progressive', 'unique', 'firstclass', 'innovative', 'revolutionary', 'unprecedented', 'groundbreaking', 'inventive', 'robust', 'worldclass', 'astute', 'insightful', 'methodical', 'practical', 'calculating', 'intelligent', 'meticulous', 'shrewd', 'complex', 'investigative', 'objective', 'strategic', 'discerning', 'logical', 'perceptive', 'thoughtful', 'accept', 'favor', 'acclaim', 'admire', 'applaud', 'appreciate', 'approbate', 'commend', 'countenance', 'esteem', 'handle', 'like', 'praise', 'respect']\n",
    "negative_words = ['only', 'coarse', 'dead', 'feeble', 'rely', 'faintly', 'bad', 'hate', 'enraged', 'fight', 'hard', 'practically', 'callous', 'ghastly', 'simply', 'banal', 'filthy', 'grave', 'grimace', 'harmful', 'annoy', 'damaging', 'perceptibly', 'deformed', 'infrequently', 'bemoan', 'faulty', 'fail', 'hardhearted', 'grim', 'sparsely', 'angry', 'gawky', 'abysmal', 'somewhat', 'evil', 'imperceptibly', 'coldhearted', 'sporadically', 'cold', 'decaying', 'fear', 'eroding', 'clumsy', 'rarely', 'adverse', 'gradually', 'slightly', 'scantly', 'just', 'damage', 'anxious', 'haggard', 'cant', 'barbed', 'little', 'comparatively', 'belligerent', 'dastardly', 'detectably', 'alarming', 'seldom', 'beneath']"
   ]
  },
  {
   "cell_type": "markdown",
   "metadata": {},
   "source": [
    "## Heuristic Bayes"
   ]
  },
  {
   "cell_type": "code",
   "execution_count": 49,
   "metadata": {},
   "outputs": [],
   "source": [
    "class Heuristic_Bayes(Naive_Bayes):\n",
    "    def __init__(self,alpha=0,fit_prior=True,class_prior=None,negation_range=1,enhance_range=1,\n",
    "                 enhance_coef=2,negative_words = [],positive_words = [],negations = [],enhances = []):\n",
    "        self.alpha = alpha\n",
    "        self.fit_prior = fit_prior\n",
    "        self.class_prior_array = class_prior\n",
    "        self.negation_range = negation_range\n",
    "        self.enhance_range = enhance_range\n",
    "        self.enhance_coef = enhance_coef\n",
    "        self.negations = negations\n",
    "        self.positive_words = positive_words\n",
    "        self.negative_words = negative_words\n",
    "        self.enhances = enhances\n",
    "        if class_prior:\n",
    "            self.fit_prior = False\n",
    "    \n",
    "    def __word_class_log_prob(self,word,was_neg=False,was_enh=False):\n",
    "        counts = {class_ : self.class_words_probs[class_][word] for class_ in self.classes}\n",
    "        c1 = self.class_words_probs['1'][word]\n",
    "        c10 = self.class_words_probs['10'][word]\n",
    "        if word in self.positive_words:\n",
    "            counts['10'],counts['1'] = max(c1,c10),min(c1,c10)\n",
    "        if word in self.negative_words:\n",
    "            counts['1'],counts['10'] = max(c1,c10),min(c1,c10)\n",
    "        if was_neg:\n",
    "            counts['1'],counts['10'] = counts['10'],counts['1'] \n",
    "        if was_enh:\n",
    "            counts['1'],counts['10'] = self.enhance_coef*counts['1'],self.enhance_coef*counts['10']\n",
    "        return counts\n",
    "            \n",
    "    def get_class_log_probabilities(self,text):\n",
    "        probs = {class_ : 0 for class_ in self.classes}\n",
    "        text_words = text.split()\n",
    "        \n",
    "        for class_ in self.classes:\n",
    "            enh_ctz = 0\n",
    "            neg_ctz = 0\n",
    "            for i,word in enumerate(text_words):\n",
    "                enh_ctz = (enh_ctz - 1) if enh_ctz>0 else 0\n",
    "                neg_ctz = (neg_ctz - 1) if neg_ctz>0 else 0\n",
    "                \n",
    "                probs[class_] += self.__word_class_log_prob(word,was_neg=(neg_ctz>0),was_enh=(enh_ctz>0))[class_]\n",
    "                probs[class_] -= self.class_words_amount[class_]\n",
    "                \n",
    "                if word in self.negations:\n",
    "                    neg_ctz = self.negation_range+1\n",
    "                if word in self.enhances:\n",
    "                    enh_ctz = self.enhance_range+1\n",
    "            \n",
    "            probs[class_] += self.class_prior[class_]\n",
    "        return probs"
   ]
  },
  {
   "cell_type": "code",
   "execution_count": 50,
   "metadata": {},
   "outputs": [],
   "source": [
    "X_train,y_train = np.array(swr_train_df['text']),np.array(swr_train_df['rating'])\n",
    "X_test,y_test = np.array(swr_test_df['text']),np.array(swr_test_df['rating'])"
   ]
  },
  {
   "cell_type": "code",
   "execution_count": 34,
   "metadata": {},
   "outputs": [],
   "source": [
    "X_train,y_train = np.array(bayes_df_train['text']),np.array(bayes_df_train['rating'])\n",
    "X_test,y_test = np.array(bayes_df_test['text']),np.array(bayes_df_test['rating'])"
   ]
  },
  {
   "cell_type": "code",
   "execution_count": 51,
   "metadata": {},
   "outputs": [
    {
     "name": "stdout",
     "output_type": "stream",
     "text": [
      "alpha:1.0 accuracy:0.8974154276020357\n",
      "alpha:1.25 accuracy:0.8977147989222632\n",
      "alpha:1.5 accuracy:0.8976150084821874\n",
      "alpha:1.75 accuracy:0.8977147989222632\n"
     ]
    }
   ],
   "source": [
    "for alpha in [1.0,1.25,1.5,1.75]:   #naive bayes approach\n",
    "    NB = Naive_Bayes(fit_prior = False,alpha=alpha)\n",
    "    NB.fit(X_train,y_train)\n",
    "    predictions,ppb = NB.predict(X_test,return_probabilities=True)\n",
    "    acc = np.mean(predictions == y_test)\n",
    "    print(f'alpha:{alpha} accuracy:{acc}')"
   ]
  },
  {
   "cell_type": "code",
   "execution_count": 56,
   "metadata": {},
   "outputs": [
    {
     "name": "stdout",
     "output_type": "stream",
     "text": [
      "alpha 1.0:\n",
      "    enhance coef 2:\n",
      "        enhance range 1 test acc 0.9020057878455244\n",
      "        enhance range 2 test acc 0.9023051591657519\n",
      "        enhance range 3 test acc 0.9029039018062069\n",
      "    enhance coef 3:\n",
      "        enhance range 1 test acc 0.9025047400459036\n",
      "        enhance range 2 test acc 0.9030036922462829\n",
      "        enhance range 3 test acc 0.9029039018062069\n",
      "    enhance coef 4:\n",
      "        enhance range 1 test acc 0.9028041113661311\n",
      "        enhance range 2 test acc 0.9032032731264344\n",
      "        enhance range 3 test acc 0.9036024348867379\n",
      "    enhance coef 5:\n",
      "        enhance range 1 test acc 0.9028041113661311\n",
      "        enhance range 2 test acc 0.9035026444466621\n",
      "        enhance range 3 test acc 0.9039018062069654\n",
      "alpha 1.25:\n",
      "    enhance coef 2:\n",
      "        enhance range 1 test acc 0.9023051591657519\n",
      "        enhance range 2 test acc 0.9026045304859794\n",
      "        enhance range 3 test acc 0.9027043209260552\n",
      "    enhance coef 3:\n",
      "        enhance range 1 test acc 0.9026045304859794\n",
      "        enhance range 2 test acc 0.9032032731264344\n",
      "        enhance range 3 test acc 0.9030036922462829\n",
      "    enhance coef 4:\n",
      "        enhance range 1 test acc 0.9031034826863586\n",
      "        enhance range 2 test acc 0.9035026444466621\n",
      "        enhance range 3 test acc 0.9037022253268137\n",
      "    enhance coef 5:\n",
      "        enhance range 1 test acc 0.9031034826863586\n",
      "        enhance range 2 test acc 0.9037022253268137\n",
      "        enhance range 3 test acc 0.9041013870871171\n",
      "alpha 1.5:\n",
      "    enhance coef 2:\n",
      "        enhance range 1 test acc 0.9014070452050693\n",
      "        enhance range 2 test acc 0.901606626085221\n",
      "        enhance range 3 test acc 0.9020057878455244\n",
      "    enhance coef 3:\n",
      "        enhance range 1 test acc 0.9015068356451452\n",
      "        enhance range 2 test acc 0.9021055782856002\n",
      "        enhance range 3 test acc 0.9021055782856002\n",
      "    enhance coef 4:\n",
      "        enhance range 1 test acc 0.9019059974054485\n",
      "        enhance range 2 test acc 0.9027043209260552\n",
      "        enhance range 3 test acc 0.9025047400459036\n",
      "    enhance coef 5:\n",
      "        enhance range 1 test acc 0.9023051591657519\n",
      "        enhance range 2 test acc 0.9030036922462829\n",
      "        enhance range 3 test acc 0.9032032731264344\n",
      "alpha 1.75:\n",
      "    enhance coef 2:\n",
      "        enhance range 1 test acc 0.9015068356451452\n",
      "        enhance range 2 test acc 0.9014070452050693\n",
      "        enhance range 3 test acc 0.9021055782856002\n",
      "    enhance coef 3:\n",
      "        enhance range 1 test acc 0.9012074643249177\n",
      "        enhance range 2 test acc 0.9020057878455244\n",
      "        enhance range 3 test acc 0.9019059974054485\n",
      "    enhance coef 4:\n",
      "        enhance range 1 test acc 0.9013072547649935\n",
      "        enhance range 2 test acc 0.9027043209260552\n",
      "        enhance range 3 test acc 0.902205368725676\n",
      "    enhance coef 5:\n",
      "        enhance range 1 test acc 0.9020057878455244\n",
      "        enhance range 2 test acc 0.9023051591657519\n",
      "        enhance range 3 test acc 0.9024049496058277\n"
     ]
    }
   ],
   "source": [
    "for alpha in [1.0,1.25,1.5,1.75]:\n",
    "    print(f'alpha {alpha}:')\n",
    "    for ec in [2,3,4,5]:\n",
    "        print(f'    enhance coef {ec}:')\n",
    "        for er in [1,2,3]:\n",
    "            HB = Heuristic_Bayes(fit_prior = False,alpha=alpha,negation_range = 1,\n",
    "                                 enhance_coef=ec,enhance_range=er,negative_words = negative_words,\n",
    "                                enhances=enhance_words,negations=negation_words,positive_words=positive_words)\n",
    "            HB.fit(X_train,y_train)\n",
    "            predictions,ppb = HB.predict(X_test,return_probabilities=True)\n",
    "            acc = np.mean(predictions == y_test)\n",
    "            print(f'        enhance range {er} test acc {acc}')"
   ]
  },
  {
   "cell_type": "markdown",
   "metadata": {},
   "source": [
    "# Summary"
   ]
  },
  {
   "cell_type": "markdown",
   "metadata": {},
   "source": [
    "(All of below accuracies are calculated on test data.) <br>\n",
    "First of all the baseline accuracy was around 52%. Our Naive Bayes classifier scored 89% similarly to sklearn's implementation. <br>\n",
    "Using Logistic Regression we scored nearly 89.9% and sklearn got 92.4%.\n",
    "What is interesting our model worked better on stemmed data without stopwords contrary to sklearn's.  <br>\n",
    "Further, we tested sklearn's countvectorizer with n-grams.  For ngram_range=(1,4) and every other, \n",
    "where upper limit was greater than 4 we obtained 92.86% accuracy for original data and 92.77%  accuracy for stemmed data without stop words.  <br>\n",
    "TF-IDF vectorizer wasn't better than countvectorizer.  <br>\n",
    "Our SVM scored 92%, which is a bit better than Logistic Regression.  <br>\n",
    "Heuristic Naive Bayes didn't fail us and yielded solid 90% accuracy.  <br>"
   ]
  },
  {
   "cell_type": "code",
   "execution_count": null,
   "metadata": {},
   "outputs": [],
   "source": []
  }
 ],
 "metadata": {
  "file_extension": ".py",
  "kernelspec": {
   "display_name": "Python 3",
   "language": "python",
   "name": "python3"
  },
  "language_info": {
   "codemirror_mode": {
    "name": "ipython",
    "version": 3
   },
   "file_extension": ".py",
   "mimetype": "text/x-python",
   "name": "python",
   "nbconvert_exporter": "python",
   "pygments_lexer": "ipython3",
   "version": "3.7.4"
  },
  "latex_envs": {
   "LaTeX_envs_menu_present": true,
   "autoclose": false,
   "autocomplete": true,
   "bibliofile": "biblio.bib",
   "cite_by": "apalike",
   "current_citInitial": 1,
   "eqLabelWithNumbers": true,
   "eqNumInitial": 1,
   "hotkeys": {
    "equation": "Ctrl-E",
    "itemize": "Ctrl-I"
   },
   "labels_anchors": false,
   "latex_user_defs": false,
   "report_style_numbering": false,
   "user_envs_cfg": false
  },
  "mimetype": "text/x-python",
  "name": "python",
  "npconvert_exporter": "python",
  "pygments_lexer": "ipython3",
  "toc": {
   "base_numbering": 1,
   "nav_menu": {},
   "number_sections": true,
   "sideBar": true,
   "skip_h1_title": false,
   "title_cell": "Table of Contents",
   "title_sidebar": "Contents",
   "toc_cell": false,
   "toc_position": {},
   "toc_section_display": true,
   "toc_window_display": true
  },
  "version": 3
 },
 "nbformat": 4,
 "nbformat_minor": 4
}
