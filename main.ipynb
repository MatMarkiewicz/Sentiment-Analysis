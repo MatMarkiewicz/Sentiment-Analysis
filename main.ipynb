{
 "cells": [
  {
   "cell_type": "markdown",
   "metadata": {},
   "source": [
    "# Imports"
   ]
  },
  {
   "cell_type": "code",
   "execution_count": 3,
   "metadata": {},
   "outputs": [],
   "source": [
    "# set up\n",
    "import numpy as np\n",
    "import pandas as pd\n",
    "import seaborn as sns\n",
    "import matplotlib.pyplot as plt\n",
    "import glob\n",
    "import re\n",
    "import string\n",
    "import cvxopt # <- installation via conda recommended\n",
    "from collections import defaultdict\n",
    "from sklearn import metrics\n",
    "from tqdm import tqdm\n",
    "from sklearn.feature_extraction.text import CountVectorizer\n",
    "from sklearn.naive_bayes import MultinomialNB\n",
    "from sklearn.linear_model import LogisticRegression\n",
    "from sklearn.metrics import accuracy_score\n",
    "from sklearn.model_selection import train_test_split\n",
    "from sklearn.svm import SVC\n",
    "from sklearn.metrics.pairwise import rbf_kernel\n",
    "import nltk\n",
    "from nltk.stem.snowball import SnowballStemmer\n",
    "from nltk.corpus import stopwords\n",
    "import scipy.optimize as sopt\n",
    "import scipy.stats as sstats"
   ]
  },
  {
   "cell_type": "markdown",
   "metadata": {},
   "source": [
    "# Preparing data (IMDb movies' reviews)"
   ]
  },
  {
   "cell_type": "markdown",
   "metadata": {},
   "source": [
    "## Macro for windows / mac users"
   ]
  },
  {
   "cell_type": "code",
   "execution_count": 4,
   "metadata": {},
   "outputs": [],
   "source": [
    "#system = 'Mac'\n",
    "system = 'Win'"
   ]
  },
  {
   "cell_type": "code",
   "execution_count": 5,
   "metadata": {},
   "outputs": [],
   "source": [
    "train_pos_path = 'data_sets/aclImdb/train/pos/*'\n",
    "train_neg_path = 'data_sets/aclImdb/train/neg/*'\n",
    "\n",
    "train_pos = glob.glob(train_pos_path)\n",
    "train_neg = glob.glob(train_neg_path)\n",
    "\n",
    "\n",
    "test_pos_path = 'data_sets/aclImdb/test/pos/*'\n",
    "test_neg_path = 'data_sets/aclImdb/test/neg/*'\n",
    "\n",
    "test_pos = glob.glob(test_pos_path)\n",
    "test_neg = glob.glob(test_neg_path)"
   ]
  },
  {
   "cell_type": "code",
   "execution_count": 6,
   "metadata": {},
   "outputs": [],
   "source": [
    "train_df = []\n",
    "test_df = []"
   ]
  },
  {
   "cell_type": "code",
   "execution_count": 7,
   "metadata": {},
   "outputs": [],
   "source": [
    "def read_data(path, message):\n",
    "    res = []\n",
    "    for p in tqdm(path, desc=message, position=0):\n",
    "        with open(p, encoding=\"utf8\") as f:\n",
    "            text = f.read()\n",
    "\n",
    "    #         For win users\n",
    "            if system == 'Win':\n",
    "                beg, end = p.find('\\\\'), p.find('.')\n",
    "\n",
    "    #         For mac users\n",
    "            if system == 'Mac':\n",
    "                beg = re.search(r\"\\d\",p).start()-1\n",
    "                end = p.find('.')\n",
    "\n",
    "            idx, rating = p[beg+1:-4].split('_')\n",
    "            res.append([text, rating])\n",
    "            \n",
    "    return res"
   ]
  },
  {
   "cell_type": "code",
   "execution_count": 8,
   "metadata": {},
   "outputs": [
    {
     "name": "stderr",
     "output_type": "stream",
     "text": [
      "Getting positive train data: 100%|██████████████████████████████████████████████| 12500/12500 [00:40<00:00, 306.65it/s]\n",
      "Getting negative train data: 100%|██████████████████████████████████████████████| 12500/12500 [00:41<00:00, 301.10it/s]\n",
      "Getting positive test data: 100%|███████████████████████████████████████████████| 12500/12500 [00:42<00:00, 291.27it/s]\n",
      "Getting negative test data: 100%|███████████████████████████████████████████████| 12500/12500 [00:41<00:00, 300.96it/s]\n"
     ]
    }
   ],
   "source": [
    "train_df += read_data(path=train_pos, message='Getting positive train data')\n",
    "train_df += read_data(path=train_neg, message='Getting negative train data')\n",
    "\n",
    "test_df += read_data(path=test_pos, message='Getting positive test data')\n",
    "test_df += read_data(path=test_neg, message='Getting negative test data')"
   ]
  },
  {
   "cell_type": "code",
   "execution_count": 9,
   "metadata": {},
   "outputs": [],
   "source": [
    "train_df = pd.DataFrame(train_df, columns=['text', 'rating'])\n",
    "test_df = pd.DataFrame(test_df, columns=['text', 'rating'])"
   ]
  },
  {
   "cell_type": "code",
   "execution_count": 10,
   "metadata": {},
   "outputs": [
    {
     "name": "stdout",
     "output_type": "stream",
     "text": [
      "Records:  50000\n"
     ]
    },
    {
     "data": {
      "text/html": [
       "<div>\n",
       "<style scoped>\n",
       "    .dataframe tbody tr th:only-of-type {\n",
       "        vertical-align: middle;\n",
       "    }\n",
       "\n",
       "    .dataframe tbody tr th {\n",
       "        vertical-align: top;\n",
       "    }\n",
       "\n",
       "    .dataframe thead th {\n",
       "        text-align: right;\n",
       "    }\n",
       "</style>\n",
       "<table border=\"1\" class=\"dataframe\">\n",
       "  <thead>\n",
       "    <tr style=\"text-align: right;\">\n",
       "      <th></th>\n",
       "      <th>text</th>\n",
       "      <th>rating</th>\n",
       "    </tr>\n",
       "  </thead>\n",
       "  <tbody>\n",
       "    <tr>\n",
       "      <th>0</th>\n",
       "      <td>Bromwell High is a cartoon comedy. It ran at t...</td>\n",
       "      <td>9</td>\n",
       "    </tr>\n",
       "    <tr>\n",
       "      <th>1</th>\n",
       "      <td>Homelessness (or Houselessness as George Carli...</td>\n",
       "      <td>8</td>\n",
       "    </tr>\n",
       "    <tr>\n",
       "      <th>2</th>\n",
       "      <td>Brilliant over-acting by Lesley Ann Warren. Be...</td>\n",
       "      <td>10</td>\n",
       "    </tr>\n",
       "    <tr>\n",
       "      <th>3</th>\n",
       "      <td>This is easily the most underrated film inn th...</td>\n",
       "      <td>7</td>\n",
       "    </tr>\n",
       "    <tr>\n",
       "      <th>4</th>\n",
       "      <td>This is not the typical Mel Brooks film. It wa...</td>\n",
       "      <td>8</td>\n",
       "    </tr>\n",
       "  </tbody>\n",
       "</table>\n",
       "</div>"
      ],
      "text/plain": [
       "                                                text rating\n",
       "0  Bromwell High is a cartoon comedy. It ran at t...      9\n",
       "1  Homelessness (or Houselessness as George Carli...      8\n",
       "2  Brilliant over-acting by Lesley Ann Warren. Be...     10\n",
       "3  This is easily the most underrated film inn th...      7\n",
       "4  This is not the typical Mel Brooks film. It wa...      8"
      ]
     },
     "execution_count": 10,
     "metadata": {},
     "output_type": "execute_result"
    }
   ],
   "source": [
    "print('Records: ', train_df.size)\n",
    "train_df.head()"
   ]
  },
  {
   "cell_type": "code",
   "execution_count": 11,
   "metadata": {},
   "outputs": [
    {
     "name": "stdout",
     "output_type": "stream",
     "text": [
      "Number of reviews with rating 1: 5100\n",
      "Number of reviews with rating 2: 2284\n",
      "Number of reviews with rating 3: 2420\n",
      "Number of reviews with rating 4: 2696\n",
      "Number of reviews with rating 5: 0\n",
      "Number of reviews with rating 6: 0\n",
      "Number of reviews with rating 7: 2496\n",
      "Number of reviews with rating 8: 3009\n",
      "Number of reviews with rating 9: 2263\n",
      "Number of reviews with rating 10: 4732\n"
     ]
    }
   ],
   "source": [
    "for i in range(1, 11):\n",
    "    print(f'Number of reviews with rating {i}: {train_df[train_df.rating == str(i)].shape[0]}')"
   ]
  },
  {
   "cell_type": "markdown",
   "metadata": {},
   "source": [
    "## Clean and Preprocess"
   ]
  },
  {
   "cell_type": "code",
   "execution_count": 12,
   "metadata": {},
   "outputs": [],
   "source": [
    "def regex(text):\n",
    "    text = re.sub(r'[^\\w\\s]', '', text.lower())\n",
    "    return text"
   ]
  },
  {
   "cell_type": "markdown",
   "metadata": {},
   "source": [
    "## Remove punctuation"
   ]
  },
  {
   "cell_type": "code",
   "execution_count": 13,
   "metadata": {},
   "outputs": [
    {
     "name": "stdout",
     "output_type": "stream",
     "text": [
      "Wall time: 1.6 s\n"
     ]
    }
   ],
   "source": [
    "%%time\n",
    "# Remove punctuaction and lower all texts\n",
    "train_df.text = train_df.text.apply(lambda row: regex(row))\n",
    "test_df.text = test_df.text.apply(lambda row: regex(row))"
   ]
  },
  {
   "cell_type": "code",
   "execution_count": 14,
   "metadata": {},
   "outputs": [
    {
     "data": {
      "text/html": [
       "<div>\n",
       "<style scoped>\n",
       "    .dataframe tbody tr th:only-of-type {\n",
       "        vertical-align: middle;\n",
       "    }\n",
       "\n",
       "    .dataframe tbody tr th {\n",
       "        vertical-align: top;\n",
       "    }\n",
       "\n",
       "    .dataframe thead th {\n",
       "        text-align: right;\n",
       "    }\n",
       "</style>\n",
       "<table border=\"1\" class=\"dataframe\">\n",
       "  <thead>\n",
       "    <tr style=\"text-align: right;\">\n",
       "      <th></th>\n",
       "      <th>text</th>\n",
       "      <th>rating</th>\n",
       "    </tr>\n",
       "  </thead>\n",
       "  <tbody>\n",
       "    <tr>\n",
       "      <th>0</th>\n",
       "      <td>bromwell high is a cartoon comedy it ran at th...</td>\n",
       "      <td>9</td>\n",
       "    </tr>\n",
       "    <tr>\n",
       "      <th>1</th>\n",
       "      <td>homelessness or houselessness as george carlin...</td>\n",
       "      <td>8</td>\n",
       "    </tr>\n",
       "    <tr>\n",
       "      <th>2</th>\n",
       "      <td>brilliant overacting by lesley ann warren best...</td>\n",
       "      <td>10</td>\n",
       "    </tr>\n",
       "    <tr>\n",
       "      <th>3</th>\n",
       "      <td>this is easily the most underrated film inn th...</td>\n",
       "      <td>7</td>\n",
       "    </tr>\n",
       "    <tr>\n",
       "      <th>4</th>\n",
       "      <td>this is not the typical mel brooks film it was...</td>\n",
       "      <td>8</td>\n",
       "    </tr>\n",
       "  </tbody>\n",
       "</table>\n",
       "</div>"
      ],
      "text/plain": [
       "                                                text rating\n",
       "0  bromwell high is a cartoon comedy it ran at th...      9\n",
       "1  homelessness or houselessness as george carlin...      8\n",
       "2  brilliant overacting by lesley ann warren best...     10\n",
       "3  this is easily the most underrated film inn th...      7\n",
       "4  this is not the typical mel brooks film it was...      8"
      ]
     },
     "execution_count": 14,
     "metadata": {},
     "output_type": "execute_result"
    }
   ],
   "source": [
    "train_df.head()"
   ]
  },
  {
   "cell_type": "code",
   "execution_count": 15,
   "metadata": {},
   "outputs": [],
   "source": [
    "# consider only rating 1 and 10\n",
    "bayes_df_train = train_df[(train_df.rating == '1') | (train_df.rating == '10')]\n",
    "bayes_df_test = test_df[(test_df.rating == '1') | (test_df.rating == '10')]"
   ]
  },
  {
   "cell_type": "markdown",
   "metadata": {},
   "source": [
    "## Stemming"
   ]
  },
  {
   "cell_type": "code",
   "execution_count": 16,
   "metadata": {},
   "outputs": [
    {
     "name": "stderr",
     "output_type": "stream",
     "text": [
      "[nltk_data] Downloading package stopwords to\n",
      "[nltk_data]     C:\\Users\\Febrin\\AppData\\Roaming\\nltk_data...\n",
      "[nltk_data]   Package stopwords is already up-to-date!\n"
     ]
    }
   ],
   "source": [
    "stemmer = SnowballStemmer(\"english\")\n",
    "nltk.download('stopwords')\n",
    "stop_words = set(stopwords.words('english'))"
   ]
  },
  {
   "cell_type": "code",
   "execution_count": 17,
   "metadata": {},
   "outputs": [],
   "source": [
    "def stem_(text):\n",
    "    return ' '.join([stemmer.stem(word) for word in text.split()])"
   ]
  },
  {
   "cell_type": "code",
   "execution_count": 18,
   "metadata": {},
   "outputs": [
    {
     "name": "stdout",
     "output_type": "stream",
     "text": [
      "Wall time: 36 s\n"
     ]
    }
   ],
   "source": [
    "%%time\n",
    "stemmed_train_df = bayes_df_train.copy()\n",
    "stemmed_test_df = bayes_df_test.copy()\n",
    "stemmed_train_df.text = stemmed_train_df.text.apply(lambda row: stem_(row))\n",
    "stemmed_test_df.text = stemmed_test_df.text.apply(lambda row: stem_(row))"
   ]
  },
  {
   "cell_type": "markdown",
   "metadata": {},
   "source": [
    "## Remove stop words"
   ]
  },
  {
   "cell_type": "code",
   "execution_count": 20,
   "metadata": {},
   "outputs": [],
   "source": [
    "def remove_stop_words(text):\n",
    "    return ' '.join([word for word in text.split() if word not in stop_words])"
   ]
  },
  {
   "cell_type": "code",
   "execution_count": 21,
   "metadata": {},
   "outputs": [
    {
     "name": "stdout",
     "output_type": "stream",
     "text": [
      "Wall time: 612 ms\n"
     ]
    }
   ],
   "source": [
    "%%time\n",
    "swr_train_df = bayes_df_train.copy()\n",
    "swr_test_df = bayes_df_test.copy()\n",
    "swr_train_df.text = swr_train_df.text.apply(lambda row: remove_stop_words(row))\n",
    "swr_test_df.text = swr_test_df.text.apply(lambda row: remove_stop_words(row))"
   ]
  },
  {
   "cell_type": "code",
   "execution_count": 22,
   "metadata": {},
   "outputs": [],
   "source": [
    "def stem_and_remove_stop_words(text):\n",
    "    return ' '.join([stemmer.stem(word) for word in text.split() if word not in stop_words])"
   ]
  },
  {
   "cell_type": "code",
   "execution_count": 23,
   "metadata": {},
   "outputs": [
    {
     "name": "stdout",
     "output_type": "stream",
     "text": [
      "Wall time: 24.2 s\n"
     ]
    }
   ],
   "source": [
    "%%time\n",
    "stemmed_swr_train_df = bayes_df_train.copy()\n",
    "stemmed_swr_test_df = bayes_df_test.copy()\n",
    "stemmed_swr_train_df.text = stemmed_swr_train_df.text.apply(lambda row: stem_and_remove_stop_words(row))\n",
    "stemmed_swr_test_df.text = stemmed_swr_test_df.text.apply(lambda row: stem_and_remove_stop_words(row))"
   ]
  },
  {
   "cell_type": "markdown",
   "metadata": {},
   "source": [
    "## Score visualization"
   ]
  },
  {
   "cell_type": "code",
   "execution_count": 25,
   "metadata": {},
   "outputs": [],
   "source": [
    "def print_score(preds,Y,name):\n",
    "    print(name)\n",
    "    acc = np.mean(preds == Y)\n",
    "    print(f\"Acc: {acc}\")\n",
    "    M = metrics.confusion_matrix(preds,Y)\n",
    "    N = np.sum(M)\n",
    "    print('\\nConfusion matrix:')\n",
    "    print(M)\n",
    "    print(f'\\nTrue negative (rating = 1): {M[0][0]}')\n",
    "    print(f'True positive (rating = 10): {M[1][1]}')\n",
    "    print(f'False negative: {M[0][1]}')\n",
    "    print(f'False positive: {M[1][0]}')\n",
    "    return M,N,acc"
   ]
  },
  {
   "cell_type": "markdown",
   "metadata": {},
   "source": [
    "# CountVectorizer class"
   ]
  },
  {
   "cell_type": "code",
   "execution_count": 26,
   "metadata": {},
   "outputs": [],
   "source": [
    "class MyCountVectorizer:\n",
    "    def __init__(self, min_df=-1, max_df=1e18, binary=False):\n",
    "        self.min_df = min_df\n",
    "        self.max_df = max_df\n",
    "        self.binary = binary\n",
    "    \n",
    "    def fit(self, df):\n",
    "        words_cnt = defaultdict(int)\n",
    "        col = df.columns[0]\n",
    "        \n",
    "        for i in range(len(df)):\n",
    "            text = df.iloc[i][col]\n",
    "            for word in text.split():\n",
    "                words_cnt[word] += 1\n",
    "                \n",
    "        all_words = []\n",
    "        for word, cnt in words_cnt.items():\n",
    "            if self.min_df <= cnt <= self.max_df:\n",
    "                all_words.append(word)\n",
    "                \n",
    "        self.all_words_ids = {w:i for i,w in enumerate(all_words)}\n",
    "        self.width = len(all_words)\n",
    "        \n",
    "    \n",
    "    def transform(self, df):\n",
    "        col = df.columns[0]\n",
    "        count_matrix = np.zeros([len(df), self.width], \\\n",
    "                                dtype=np.int32)\n",
    "        \n",
    "        for i in range(len(df)):\n",
    "            text = df.iloc[i][col]\n",
    "            words_cnt = defaultdict(int)\n",
    "            \n",
    "            for word in text.split():\n",
    "                words_cnt[word] += 1\n",
    "            \n",
    "            for word, cnt in words_cnt.items():\n",
    "                if word in self.all_words_ids:\n",
    "                    pos = self.all_words_ids[word]\n",
    "                    if self.binary:\n",
    "                        count_matrix[i][pos] = 1\n",
    "                    else:\n",
    "                        count_matrix[i][pos] = cnt\n",
    "                    \n",
    "        return count_matrix"
   ]
  },
  {
   "cell_type": "markdown",
   "metadata": {},
   "source": [
    "# Naive Bayes approach"
   ]
  },
  {
   "cell_type": "markdown",
   "metadata": {},
   "source": [
    "## Naive Bayes class"
   ]
  },
  {
   "cell_type": "code",
   "execution_count": 27,
   "metadata": {},
   "outputs": [],
   "source": [
    "class Naive_Bayes:\n",
    "    def __init__(self,alpha=0,fit_prior=True,class_prior=None):\n",
    "        self.alpha = alpha\n",
    "        self.fit_prior = fit_prior\n",
    "        self.class_prior_array = class_prior\n",
    "        if class_prior:\n",
    "            self.fit_prior = False\n",
    "    \n",
    "    \n",
    "    def fit(self,X,y):\n",
    "        self.classes,prior = np.unique(y,return_counts=True)\n",
    "        self.N = len(y)\n",
    "        \n",
    "        # Setting class prior\n",
    "        if self.fit_prior:\n",
    "            self.class_prior = {class_ : np.log(prior[i]/self.N + 1e-100)\n",
    "                                for i,class_ in enumerate(self.classes)}\n",
    "        elif self.class_prior_array:\n",
    "            self.class_prior = {class_ : np.log(self.class_prior_array[i] + 1e-100) \n",
    "                                for i,class_ in enumerate(self.classes)}\n",
    "        else:\n",
    "            self.class_prior = {class_ : np.log(1/len(self.classes) + 1e-100) \n",
    "                                for class_ in self.classes}\n",
    "            \n",
    "        # Creating words dictionaries\n",
    "        self.class_words_counts = {class_ : defaultdict(lambda: 0) \n",
    "                                   for class_ in self.classes}\n",
    "        for i,text in enumerate(X):\n",
    "            target = y[i]\n",
    "            for word in text.split():\n",
    "                self.class_words_counts[target][word] += 1\n",
    "        \n",
    "        # Creating probabilities dictionaries\n",
    "        self.class_words_probs = {class_ : defaultdict(lambda: np.log(self.alpha + 1e-100)) \n",
    "                                  for class_ in self.classes}\n",
    "        for class_,dict_ in self.class_words_counts.items():\n",
    "            for word,count in dict_.items():\n",
    "                self.class_words_probs[class_][word] = np.log(count + 1e-100)\n",
    "    \n",
    "        self.class_words_amount = {class_ : np.log(sum(self.class_words_counts[class_].values())) \n",
    "                                   for class_ in self.classes}\n",
    "    \n",
    "\n",
    "    def get_class_log_probabilities(self,text):\n",
    "        probs = {class_ : 0 for class_ in self.classes}\n",
    "        for class_ in self.classes:\n",
    "            for word in text.split():\n",
    "                probs[class_] += self.class_words_probs[class_][word]\n",
    "                probs[class_] -= self.class_words_amount[class_]\n",
    "            probs[class_] += self.class_prior[class_]\n",
    "        return probs\n",
    "    \n",
    "    \n",
    "    def predict(self,X,return_probabilities = False):\n",
    "        preds = []\n",
    "        preds_probs = []\n",
    "        for text in X:\n",
    "            prob = self.get_class_log_probabilities(text)\n",
    "            #prob = {class_ : np.exp(pbb) for class_,pbb in prob.items()}\n",
    "            preds_probs.append(prob)\n",
    "            pred = max(prob,key = prob.get)\n",
    "            preds.append(pred)\n",
    "        \n",
    "        if return_probabilities:\n",
    "            return preds,preds_probs\n",
    "        return preds\n"
   ]
  },
  {
   "cell_type": "markdown",
   "metadata": {},
   "source": [
    "## Train and test accuracy"
   ]
  },
  {
   "cell_type": "code",
   "execution_count": 43,
   "metadata": {},
   "outputs": [],
   "source": [
    "X_train,y_train = np.array(bayes_df_train['text']),np.array(bayes_df_train['rating'])\n",
    "X_test,y_test = np.array(bayes_df_test['text']),np.array(bayes_df_test['rating'])"
   ]
  },
  {
   "cell_type": "code",
   "execution_count": 44,
   "metadata": {},
   "outputs": [],
   "source": [
    "NBc_res = []"
   ]
  },
  {
   "cell_type": "code",
   "execution_count": 45,
   "metadata": {},
   "outputs": [],
   "source": [
    "alpha = 1.5\n",
    "NB = Naive_Bayes(fit_prior = False,alpha=alpha)"
   ]
  },
  {
   "cell_type": "code",
   "execution_count": 46,
   "metadata": {},
   "outputs": [],
   "source": [
    "NB.fit(X_train,y_train)"
   ]
  },
  {
   "cell_type": "code",
   "execution_count": 47,
   "metadata": {},
   "outputs": [],
   "source": [
    "predictions,ppb = NB.predict(X_train,return_probabilities=True)"
   ]
  },
  {
   "cell_type": "code",
   "execution_count": 48,
   "metadata": {},
   "outputs": [
    {
     "name": "stdout",
     "output_type": "stream",
     "text": [
      "TRAIN, alpha : 1.5\n",
      "Acc: 0.9363303498779495\n",
      "\n",
      "Confusion matrix:\n",
      "[[4904  430]\n",
      " [ 196 4302]]\n",
      "\n",
      "True negative (rating = 1): 4904\n",
      "True positive (rating = 10): 4302\n",
      "False negative: 430\n",
      "False positive: 196\n"
     ]
    }
   ],
   "source": [
    "M,N,acc = print_score(predictions,y_train,f\"TRAIN, alpha : {alpha}\")\n",
    "NBc_res.append(['Org train data\\na=1.5','Acc',acc])\n",
    "NBc_res.append(['Org train data\\na=1.5','FN',M[0][1]/N])\n",
    "NBc_res.append(['Org train data\\na=1.5','FP',M[1][0]/N])"
   ]
  },
  {
   "cell_type": "code",
   "execution_count": 49,
   "metadata": {},
   "outputs": [],
   "source": [
    "predictions,ppb = NB.predict(X_test,return_probabilities=True)"
   ]
  },
  {
   "cell_type": "code",
   "execution_count": 50,
   "metadata": {},
   "outputs": [
    {
     "name": "stdout",
     "output_type": "stream",
     "text": [
      "TEST, alpha : 1.5\n",
      "Acc: 0.8893324019558926\n",
      "\n",
      "Confusion matrix:\n",
      "[[4651  738]\n",
      " [ 371 4261]]\n",
      "\n",
      "True negative (rating = 1): 4651\n",
      "True positive (rating = 10): 4261\n",
      "False negative: 738\n",
      "False positive: 371\n"
     ]
    }
   ],
   "source": [
    "M,N,acc = print_score(predictions,y_test,f\"TEST, alpha : {alpha}\")\n",
    "NBc_res.append(['Org test data\\na=1.5','Acc',acc])\n",
    "NBc_res.append(['Org test data\\na=1.5','FN',M[0][1]/N])\n",
    "NBc_res.append(['Org test data\\na=1.5','FP',M[1][0]/N])"
   ]
  },
  {
   "cell_type": "markdown",
   "metadata": {},
   "source": [
    "Now we can try use alpha = 0"
   ]
  },
  {
   "cell_type": "code",
   "execution_count": 51,
   "metadata": {},
   "outputs": [],
   "source": [
    "alpha = 0.0\n",
    "NB = Naive_Bayes(fit_prior = False,alpha=alpha)"
   ]
  },
  {
   "cell_type": "code",
   "execution_count": 52,
   "metadata": {},
   "outputs": [],
   "source": [
    "NB.fit(X_train,y_train)"
   ]
  },
  {
   "cell_type": "code",
   "execution_count": 53,
   "metadata": {},
   "outputs": [],
   "source": [
    "predictions,ppb = NB.predict(X_train,return_probabilities=True)"
   ]
  },
  {
   "cell_type": "code",
   "execution_count": 54,
   "metadata": {},
   "outputs": [
    {
     "name": "stdout",
     "output_type": "stream",
     "text": [
      "TRAIN, alpha : 0.0\n",
      "Acc: 0.9899308380797396\n",
      "\n",
      "Confusion matrix:\n",
      "[[5092   91]\n",
      " [   8 4641]]\n",
      "\n",
      "True negative (rating = 1): 5092\n",
      "True positive (rating = 10): 4641\n",
      "False negative: 91\n",
      "False positive: 8\n"
     ]
    }
   ],
   "source": [
    "M,N,acc = print_score(predictions,y_train,f\"TRAIN, alpha : {alpha}\")"
   ]
  },
  {
   "cell_type": "code",
   "execution_count": 55,
   "metadata": {},
   "outputs": [],
   "source": [
    "predictions,ppb = NB.predict(X_test,return_probabilities=True)"
   ]
  },
  {
   "cell_type": "code",
   "execution_count": 56,
   "metadata": {},
   "outputs": [
    {
     "name": "stdout",
     "output_type": "stream",
     "text": [
      "TEST, alpha : 0.0\n",
      "Acc: 0.7240794331903003\n",
      "\n",
      "Confusion matrix:\n",
      "[[3932 1675]\n",
      " [1090 3324]]\n",
      "\n",
      "True negative (rating = 1): 3932\n",
      "True positive (rating = 10): 3324\n",
      "False negative: 1675\n",
      "False positive: 1090\n"
     ]
    }
   ],
   "source": [
    "M,N,acc = print_score(predictions,y_test,f\"TEST, alpha : {alpha}\")"
   ]
  },
  {
   "cell_type": "markdown",
   "metadata": {},
   "source": [
    "Setting alpha to 0 improve our train accuracy, but decrease train accuracy, so it`s overfitting. \n",
    "We can try to find best alpha for our data."
   ]
  },
  {
   "cell_type": "markdown",
   "metadata": {},
   "source": [
    "## Testing different alphas"
   ]
  },
  {
   "cell_type": "code",
   "execution_count": 57,
   "metadata": {},
   "outputs": [
    {
     "name": "stdout",
     "output_type": "stream",
     "text": [
      "Alpha : 0.0, test acc: 0.7240794331903003\n",
      "Alpha : 0.25, test acc: 0.8820476998303562\n",
      "Alpha : 0.5, test acc: 0.8868376409539966\n",
      "Alpha : 0.75, test acc: 0.8882347071150584\n",
      "Alpha : 1.0, test acc: 0.8884342879952101\n",
      "Alpha : 1.25, test acc: 0.8881349166749826\n",
      "Alpha : 1.5, test acc: 0.8893324019558926\n",
      "Alpha : 1.75, test acc: 0.8884342879952101\n",
      "Alpha : 2.0, test acc: 0.8882347071150584\n",
      "Alpha : 3.0, test acc: 0.8872368027142999\n",
      "Alpha : 4.0, test acc: 0.8862388983135415\n",
      "Alpha : 5.0, test acc: 0.8830456042311147\n",
      "Alpha : 10.0, test acc: 0.8759604829857299\n"
     ]
    }
   ],
   "source": [
    "for alpha in [0.0,0.25,0.5,0.75,1.0,1.25,1.5,1.75,2.0,3.0,4.0,5.0,10.0]:\n",
    "    NB = Naive_Bayes(fit_prior = False,alpha=alpha)\n",
    "    NB.fit(X_train,y_train)\n",
    "    predictions,ppb = NB.predict(X_test,return_probabilities=True)\n",
    "    acc = np.mean(predictions == y_test)\n",
    "    print(f'Alpha : {alpha}, test acc: {acc}')"
   ]
  },
  {
   "cell_type": "markdown",
   "metadata": {},
   "source": [
    "## Stemming and stop words removing"
   ]
  },
  {
   "cell_type": "code",
   "execution_count": 58,
   "metadata": {},
   "outputs": [],
   "source": [
    "alpha = 1.5"
   ]
  },
  {
   "cell_type": "code",
   "execution_count": 59,
   "metadata": {},
   "outputs": [
    {
     "name": "stdout",
     "output_type": "stream",
     "text": [
      "TEST, alpha : 1.5, stemmed\n",
      "Acc: 0.8827462329108872\n",
      "\n",
      "Confusion matrix:\n",
      "[[4623  776]\n",
      " [ 399 4223]]\n",
      "\n",
      "True negative (rating = 1): 4623\n",
      "True positive (rating = 10): 4223\n",
      "False negative: 776\n",
      "False positive: 399\n"
     ]
    }
   ],
   "source": [
    "NB = Naive_Bayes(fit_prior = False,alpha=alpha)\n",
    "NB.fit(np.array(stemmed_train_df['text']),np.array(stemmed_train_df['rating']))\n",
    "predictions = NB.predict(np.array(stemmed_test_df['text']))\n",
    "M,N,acc = print_score(predictions,np.array(stemmed_test_df['rating']),\n",
    "                      f\"TEST, alpha : {alpha}, stemmed\")\n",
    "NBc_res.append(['Stemmed test data\\na=1.5','Acc',acc])\n",
    "NBc_res.append(['Stemmed test data\\na=1.5','FN',M[0][1]/N])\n",
    "NBc_res.append(['Stemmed test data\\na=1.5','FP',M[1][0]/N])"
   ]
  },
  {
   "cell_type": "code",
   "execution_count": 60,
   "metadata": {},
   "outputs": [
    {
     "name": "stdout",
     "output_type": "stream",
     "text": [
      "TEST, alpha : 1.5, stop words removed\n",
      "Acc: 0.8995110268436284\n",
      "\n",
      "Confusion matrix:\n",
      "[[4656  641]\n",
      " [ 366 4358]]\n",
      "\n",
      "True negative (rating = 1): 4656\n",
      "True positive (rating = 10): 4358\n",
      "False negative: 641\n",
      "False positive: 366\n"
     ]
    }
   ],
   "source": [
    "NB = Naive_Bayes(fit_prior = False,alpha=alpha)\n",
    "NB.fit(np.array(swr_train_df['text']),np.array(swr_test_df['rating']))\n",
    "predictions = NB.predict(np.array(swr_test_df['text']))\n",
    "M,N,acc = print_score(predictions,np.array(stemmed_test_df['rating']),\n",
    "                      f\"TEST, alpha : {alpha}, stop words removed\")\n",
    "NBc_res.append(['Test data\\nwithout stopwords\\na=1.5','Acc',acc])\n",
    "NBc_res.append(['Test data\\nwithout stopwords\\na=1.5','FN',M[0][1]/N])\n",
    "NBc_res.append(['Test data\\nwithout stopwords\\na=1.5','FP',M[1][0]/N])"
   ]
  },
  {
   "cell_type": "code",
   "execution_count": 61,
   "metadata": {},
   "outputs": [
    {
     "name": "stdout",
     "output_type": "stream",
     "text": [
      "TEST, alpha : 1.5, stemmed and stop words removed\n",
      "Acc: 0.8914280011974853\n",
      "\n",
      "Confusion matrix:\n",
      "[[4627  693]\n",
      " [ 395 4306]]\n",
      "\n",
      "True negative (rating = 1): 4627\n",
      "True positive (rating = 10): 4306\n",
      "False negative: 693\n",
      "False positive: 395\n"
     ]
    }
   ],
   "source": [
    "NB = Naive_Bayes(fit_prior = False,alpha=alpha)\n",
    "NB.fit(np.array(stemmed_swr_train_df['text']),np.array(stemmed_swr_train_df['rating']))\n",
    "predictions = NB.predict(np.array(stemmed_swr_test_df['text']))\n",
    "M,N,acc = print_score(predictions,np.array(stemmed_test_df['rating']),\n",
    "                      f\"TEST, alpha : {alpha}, stemmed and stop words removed\")\n",
    "NBc_res.append(['Stemmed test data\\nwithout stop words\\na=1.5','Acc',acc])\n",
    "NBc_res.append(['Stemmed test data\\nwithout stop words\\na=1.5','FN',M[0][1]/N])\n",
    "NBc_res.append(['Stemmed test data\\nwithout stop words\\na=1.5','FP',M[1][0]/N])"
   ]
  },
  {
   "cell_type": "code",
   "execution_count": 62,
   "metadata": {},
   "outputs": [],
   "source": [
    "NBc_res_df = pd.DataFrame(NBc_res,columns = ['Data','Y','Value'])"
   ]
  },
  {
   "cell_type": "code",
   "execution_count": 63,
   "metadata": {},
   "outputs": [
    {
     "data": {
      "text/plain": [
       "Text(0.5, 1, 'Our Naive Bayes class')"
      ]
     },
     "execution_count": 63,
     "metadata": {},
     "output_type": "execute_result"
    },
    {
     "data": {
      "image/png": "[encoded data removed]",
      "text/plain": [
       "<Figure size 773.875x360 with 1 Axes>"
      ]
     },
     "metadata": {
      "needs_background": "light"
     },
     "output_type": "display_data"
    }
   ],
   "source": [
    "sns.catplot(x=\"Data\", y=\"Value\", hue=\"Y\", data=NBc_res_df,\n",
    "                height=5, aspect = 2, kind=\"bar\", palette=\"muted\")\n",
    "plt.title(\"Our Naive Bayes class\")"
   ]
  },
  {
   "cell_type": "markdown",
   "metadata": {},
   "source": [
    "## Compare with Sklearn Naive Bayes"
   ]
  },
  {
   "cell_type": "code",
   "execution_count": 64,
   "metadata": {},
   "outputs": [],
   "source": [
    "NBb_res = []"
   ]
  },
  {
   "cell_type": "code",
   "execution_count": 65,
   "metadata": {},
   "outputs": [],
   "source": [
    "CV_NB = CountVectorizer()\n",
    "X_train,y_train = np.array(bayes_df_train['text']),np.array(bayes_df_train['rating'])\n",
    "X_test,y_test = np.array(bayes_df_test['text']),np.array(bayes_df_test['rating'])\n",
    "X_train_cv = CV_NB.fit_transform(X_train)\n",
    "X_test_cv = CV_NB.transform(X_test)"
   ]
  },
  {
   "cell_type": "code",
   "execution_count": 66,
   "metadata": {},
   "outputs": [
    {
     "name": "stdout",
     "output_type": "stream",
     "text": [
      "TRAIN, alpha : 1.5\n",
      "Acc: 0.9509764035801465\n",
      "\n",
      "Confusion matrix:\n",
      "[[5009  391]\n",
      " [  91 4341]]\n",
      "\n",
      "True negative (rating = 1): 5009\n",
      "True positive (rating = 10): 4341\n",
      "False negative: 391\n",
      "False positive: 91\n"
     ]
    }
   ],
   "source": [
    "alpha = 1.5\n",
    "MNB = MultinomialNB(alpha = 1.5)\n",
    "MNB.fit(X_train_cv,y_train)\n",
    "predictions = MNB.predict(X_train_cv)\n",
    "M,N,acc = print_score(predictions,y_train,f\"TRAIN, alpha : {alpha}\")\n",
    "NBb_res.append(['Org train data\\na=1.5','Acc',acc])\n",
    "NBb_res.append(['Org train data\\na=1.5','FN',M[0][1]/N])\n",
    "NBb_res.append(['Org train data\\na=1.5','FP',M[1][0]/N])"
   ]
  },
  {
   "cell_type": "code",
   "execution_count": 67,
   "metadata": {},
   "outputs": [
    {
     "name": "stdout",
     "output_type": "stream",
     "text": [
      "TEST, alpha : 1.5\n",
      "Acc: 0.884742041712404\n",
      "\n",
      "Confusion matrix:\n",
      "[[4738  871]\n",
      " [ 284 4128]]\n",
      "\n",
      "True negative (rating = 1): 4738\n",
      "True positive (rating = 10): 4128\n",
      "False negative: 871\n",
      "False positive: 284\n"
     ]
    }
   ],
   "source": [
    "alpha = 1.5\n",
    "MNB = MultinomialNB(alpha = 1.5)\n",
    "MNB.fit(X_train_cv,y_train)\n",
    "predictions = MNB.predict(X_test_cv)\n",
    "M,N,acc = print_score(predictions,y_test,f\"TEST, alpha : {alpha}\")\n",
    "NBb_res.append(['Org test data\\na=1.5','Acc',acc])\n",
    "NBb_res.append(['Org test data\\na=1.5','FN',M[0][1]/N])\n",
    "NBb_res.append(['Org test data\\na=1.5','FP',M[1][0]/N])"
   ]
  },
  {
   "cell_type": "code",
   "execution_count": 68,
   "metadata": {},
   "outputs": [],
   "source": [
    "CV_NB = CountVectorizer()\n",
    "X_train,y_train = np.array(stemmed_train_df['text']),np.array(stemmed_train_df['rating'])\n",
    "X_test,y_test = np.array(stemmed_test_df['text']),np.array(stemmed_test_df['rating'])\n",
    "X_train_cv = CV_NB.fit_transform(X_train)\n",
    "X_test_cv = CV_NB.transform(X_test)"
   ]
  },
  {
   "cell_type": "code",
   "execution_count": 69,
   "metadata": {},
   "outputs": [
    {
     "name": "stdout",
     "output_type": "stream",
     "text": [
      "TEST, alpha : 1.5, stemmed\n",
      "Acc: 0.8805508432292186\n",
      "\n",
      "Confusion matrix:\n",
      "[[4710  885]\n",
      " [ 312 4114]]\n",
      "\n",
      "True negative (rating = 1): 4710\n",
      "True positive (rating = 10): 4114\n",
      "False negative: 885\n",
      "False positive: 312\n"
     ]
    }
   ],
   "source": [
    "alpha = 1.5\n",
    "MNB = MultinomialNB(alpha = 1.5)\n",
    "MNB.fit(X_train_cv,y_train)\n",
    "predictions = MNB.predict(X_test_cv)\n",
    "M,N,acc = print_score(predictions,y_test,\n",
    "                      f\"TEST, alpha : {alpha}, stemmed\")\n",
    "NBb_res.append(['Stemmed test data\\na=1.5','Acc',acc])\n",
    "NBb_res.append(['Stemmed test data\\na=1.5','FN',M[0][1]/N])\n",
    "NBb_res.append(['Stemmed test data\\na=1.5','FP',M[1][0]/N])"
   ]
  },
  {
   "cell_type": "code",
   "execution_count": 70,
   "metadata": {},
   "outputs": [],
   "source": [
    "CV_NB = CountVectorizer()\n",
    "X_train,y_train = np.array(swr_train_df['text']),np.array(swr_train_df['rating'])\n",
    "X_test,y_test = np.array(swr_test_df['text']),np.array(swr_test_df['rating'])\n",
    "X_train_cv = CV_NB.fit_transform(X_train)\n",
    "X_test_cv = CV_NB.transform(X_test)"
   ]
  },
  {
   "cell_type": "code",
   "execution_count": 71,
   "metadata": {},
   "outputs": [
    {
     "name": "stdout",
     "output_type": "stream",
     "text": [
      "TEST, alpha : 1.5, stemmed\n",
      "Acc: 0.8932242291188505\n",
      "\n",
      "Confusion matrix:\n",
      "[[4752  800]\n",
      " [ 270 4199]]\n",
      "\n",
      "True negative (rating = 1): 4752\n",
      "True positive (rating = 10): 4199\n",
      "False negative: 800\n",
      "False positive: 270\n"
     ]
    }
   ],
   "source": [
    "alpha = 1.5\n",
    "MNB = MultinomialNB(alpha = 1.5)\n",
    "MNB.fit(X_train_cv,y_train)\n",
    "predictions = MNB.predict(X_test_cv)\n",
    "M,N,acc = print_score(predictions,y_test,\n",
    "                      f\"TEST, alpha : {alpha}, stemmed\")\n",
    "NBb_res.append(['Test data\\nwithout stopwords\\na=1.5','Acc',acc])\n",
    "NBb_res.append(['Test data\\nwithout stopwords\\na=1.5','FN',M[0][1]/N])\n",
    "NBb_res.append(['Test data\\nwithout stopwords\\na=1.5','FP',M[1][0]/N])"
   ]
  },
  {
   "cell_type": "code",
   "execution_count": 72,
   "metadata": {},
   "outputs": [],
   "source": [
    "CV_NB = CountVectorizer()\n",
    "X_train,y_train = np.array(stemmed_swr_train_df['text']),np.array(stemmed_swr_train_df['rating'])\n",
    "X_test,y_test = np.array(stemmed_swr_test_df['text']),np.array(stemmed_swr_test_df['rating'])\n",
    "X_train_cv = CV_NB.fit_transform(X_train)\n",
    "X_test_cv = CV_NB.transform(X_test)"
   ]
  },
  {
   "cell_type": "code",
   "execution_count": 73,
   "metadata": {},
   "outputs": [
    {
     "name": "stdout",
     "output_type": "stream",
     "text": [
      "TEST, alpha : 1.5, stemmed\n",
      "Acc: 0.8907294681169544\n",
      "\n",
      "Confusion matrix:\n",
      "[[4713  786]\n",
      " [ 309 4213]]\n",
      "\n",
      "True negative (rating = 1): 4713\n",
      "True positive (rating = 10): 4213\n",
      "False negative: 786\n",
      "False positive: 309\n"
     ]
    }
   ],
   "source": [
    "alpha = 1.5\n",
    "MNB = MultinomialNB(alpha = 1.5)\n",
    "MNB.fit(X_train_cv,y_train)\n",
    "predictions = MNB.predict(X_test_cv)\n",
    "M,N,acc = print_score(predictions,y_test,\n",
    "                      f\"TEST, alpha : {alpha}, stemmed\")\n",
    "NBb_res.append(['Stemmed test data\\nwithout stop words\\na=1.5','Acc',acc])\n",
    "NBb_res.append(['Stemmed test data\\nwithout stop words\\na=1.5','FN',M[0][1]/N])\n",
    "NBb_res.append(['Stemmed test data\\nwithout stop words\\na=1.5','FP',M[1][0]/N])"
   ]
  },
  {
   "cell_type": "code",
   "execution_count": 74,
   "metadata": {},
   "outputs": [],
   "source": [
    "NBb_res_df = pd.DataFrame(NBb_res,columns = ['Data','Y','Value'])"
   ]
  },
  {
   "cell_type": "code",
   "execution_count": 75,
   "metadata": {},
   "outputs": [
    {
     "data": {
      "text/plain": [
       "Text(0.5, 1, 'Sklearn MultinomialNaiveBayes')"
      ]
     },
     "execution_count": 75,
     "metadata": {},
     "output_type": "execute_result"
    },
    {
     "data": {
      "image/png": "[encoded data removed]",
      "text/plain": [
       "<Figure size 773.875x360 with 1 Axes>"
      ]
     },
     "metadata": {
      "needs_background": "light"
     },
     "output_type": "display_data"
    }
   ],
   "source": [
    "sns.catplot(x=\"Data\", y=\"Value\", hue=\"Y\", data=NBb_res_df,\n",
    "                height=5, aspect = 2, kind=\"bar\", palette=\"muted\")\n",
    "plt.title(\"Sklearn MultinomialNaiveBayes\")"
   ]
  },
  {
   "cell_type": "code",
   "execution_count": 76,
   "metadata": {},
   "outputs": [
    {
     "name": "stderr",
     "output_type": "stream",
     "text": [
      "C:\\ProgramData\\Anaconda3\\lib\\site-packages\\pandas\\core\\generic.py:5208: SettingWithCopyWarning: \n",
      "A value is trying to be set on a copy of a slice from a DataFrame.\n",
      "Try using .loc[row_indexer,col_indexer] = value instead\n",
      "\n",
      "See the caveats in the documentation: http://pandas.pydata.org/pandas-docs/stable/user_guide/indexing.html#returning-a-view-versus-a-copy\n",
      "  self[name] = value\n"
     ]
    }
   ],
   "source": [
    "NBc_res_df_copyed = NBc_res_df.copy()\n",
    "A_df = NBc_res_df[NBc_res_df.Y == 'Acc']\n",
    "A_df.Y = ['Our'] * 5"
   ]
  },
  {
   "cell_type": "code",
   "execution_count": 77,
   "metadata": {},
   "outputs": [],
   "source": [
    "NBb_res_df_copyed = NBb_res_df.copy()\n",
    "B_df = NBb_res_df[NBb_res_df.Y == 'Acc']\n",
    "B_df.Y = ['Sklearn'] * 5"
   ]
  },
  {
   "cell_type": "code",
   "execution_count": 78,
   "metadata": {},
   "outputs": [],
   "source": [
    "compare_df = pd.concat([A_df,B_df])"
   ]
  },
  {
   "cell_type": "code",
   "execution_count": 79,
   "metadata": {},
   "outputs": [
    {
     "data": {
      "text/plain": [
       "Text(0.5, 1, 'Our Naive Bayes class vs Sklearn MultinomialNaiveBayes')"
      ]
     },
     "execution_count": 79,
     "metadata": {},
     "output_type": "execute_result"
    },
    {
     "data": {
      "image/png": "[encoded data removed]",
      "text/plain": [
       "<Figure size 793.625x360 with 1 Axes>"
      ]
     },
     "metadata": {
      "needs_background": "light"
     },
     "output_type": "display_data"
    }
   ],
   "source": [
    "sns.catplot(x=\"Data\", y=\"Value\", hue=\"Y\", data=compare_df,\n",
    "                height=5, aspect = 2, kind=\"bar\", palette=\"muted\")\n",
    "plt.title(\"Our Naive Bayes class vs Sklearn MultinomialNaiveBayes\")"
   ]
  },
  {
   "cell_type": "markdown",
   "metadata": {},
   "source": [
    "# Logistic Regression"
   ]
  },
  {
   "cell_type": "markdown",
   "metadata": {},
   "source": [
    "## Logistic Regression class"
   ]
  },
  {
   "cell_type": "code",
   "execution_count": 87,
   "metadata": {},
   "outputs": [],
   "source": [
    "class Logistic_Regression:\n",
    "    def __init__(self, max_iter=500, solver_calls=5, Theta=None, solver=sopt.fmin_l_bfgs_b, debug=False):\n",
    "        self.Theta = Theta\n",
    "        self.solver_calls = solver_calls\n",
    "        self.max_iter = max_iter\n",
    "        self.solver = solver\n",
    "        self.debug = debug\n",
    "    \n",
    "    def __sigmoid(self,x):\n",
    "        return 1 / (1 + np.exp(-x))    \n",
    "    \n",
    "    def __logreg_loss(self, Theta, X, Y):\n",
    "        Theta = Theta.astype(np.float64)\n",
    "        X = X.astype(np.float64)\n",
    "        Y = Y.astype(np.float64)\n",
    "        \n",
    "        if self.debug:\n",
    "            print(f\"Loss calculating... \",end=\"\")\n",
    "        Z = np.dot(Theta,X.T)\n",
    "        if self.debug:\n",
    "            print(f\" Z done... \",end=\"\")\n",
    "        SZ = self.__sigmoid(Z)\n",
    "        nll = -np.sum([\n",
    "                        y * np.log2(SZ + 1e-7) \\\n",
    "                        + (1-y) * np.log2(1 - SZ + 1e-7) \\\n",
    "                        for y in Y\n",
    "                        ])\n",
    "        if self.debug:\n",
    "            print(f\" nll done... \",end=\"\")\n",
    "        grad = np.dot(X.T, (SZ - Y).T )\n",
    "        if self.debug:\n",
    "            print(f\" grad done... done \")\n",
    "        return nll, grad.reshape(Theta.shape)\n",
    "    \n",
    "    def fit(self,X,y):\n",
    "        Theta = self.Theta\n",
    "        if Theta is None:\n",
    "            Theta = np.ones(X.shape[1])\n",
    "      \n",
    "        for i in tqdm(range(self.solver_calls), desc='Calculating Theta', position=0):\n",
    "            Theta = self.solver(lambda th: self.__logreg_loss(th, X, y), Theta, maxiter=self.max_iter)[0]\n",
    "        self.Theta = Theta\n",
    "    \n",
    "    def __logreg_classify(self, x):\n",
    "        return (self.Theta.T.dot(x) >= 0)\n",
    "\n",
    "    def predict(self, Xs):\n",
    "        return [self.__logreg_classify(x) for x in Xs]"
   ]
  },
  {
   "cell_type": "markdown",
   "metadata": {},
   "source": [
    "## Train and test accuracy"
   ]
  },
  {
   "cell_type": "code",
   "execution_count": 83,
   "metadata": {},
   "outputs": [],
   "source": [
    "LGc_res = []\n",
    "\n",
    "y_train = np.array(list(map(int, bayes_df_train['rating']))) // 10\n",
    "y_test = np.array(list(map(int, bayes_df_test['rating']))) // 10"
   ]
  },
  {
   "cell_type": "code",
   "execution_count": 84,
   "metadata": {},
   "outputs": [
    {
     "name": "stdout",
     "output_type": "stream",
     "text": [
      "Wall time: 5.56 s\n"
     ]
    }
   ],
   "source": [
    "%%time\n",
    "cv = MyCountVectorizer(min_df=5)\n",
    "cv.fit(bayes_df_train)\n",
    "\n",
    "X_train = cv.transform(bayes_df_train) \n",
    "X_test = cv.transform(bayes_df_test)"
   ]
  },
  {
   "cell_type": "code",
   "execution_count": 85,
   "metadata": {},
   "outputs": [],
   "source": [
    "Theta_beg = pd.read_csv('Theta_opt_rawtext.csv')['Theta']"
   ]
  },
  {
   "cell_type": "code",
   "execution_count": 93,
   "metadata": {},
   "outputs": [],
   "source": [
    "LR = Logistic_Regression(max_iter=1, solver_calls=1, Theta=None, debug=False)"
   ]
  },
  {
   "cell_type": "code",
   "execution_count": 94,
   "metadata": {},
   "outputs": [
    {
     "name": "stderr",
     "output_type": "stream",
     "text": [
      "Calculating Theta:   0%|                                                                         | 0/1 [00:00<?, ?it/s]C:\\Users\\Febrin\\AppData\\Local\\Programs\\Python\\Python37\\lib\\site-packages\\ipykernel_launcher.py:10: RuntimeWarning: overflow encountered in exp\n",
      "  # Remove the CWD from sys.path while we load stuff.\n",
      "Calculating Theta: 100%|█████████████████████████████████████████████████████████████████| 1/1 [00:17<00:00, 17.12s/it]\n"
     ]
    },
    {
     "name": "stdout",
     "output_type": "stream",
     "text": [
      "Wall time: 17.1 s\n"
     ]
    }
   ],
   "source": [
    "%%time\n",
    "LR.fit(X_train, y_train)"
   ]
  },
  {
   "cell_type": "code",
   "execution_count": 94,
   "metadata": {},
   "outputs": [],
   "source": [
    "pd.DataFrame(LR.Theta, columns=['Theta']).to_csv('Theta_opt_rawtext.csv')"
   ]
  },
  {
   "cell_type": "code",
   "execution_count": 95,
   "metadata": {},
   "outputs": [],
   "source": [
    "predictions = LR.predict(X_train)"
   ]
  },
  {
   "cell_type": "code",
   "execution_count": 96,
   "metadata": {},
   "outputs": [
    {
     "name": "stdout",
     "output_type": "stream",
     "text": [
      "TRAIN\n",
      "Acc: 0.5117982099267697\n",
      "\n",
      "Confusion matrix:\n",
      "[[4706 4406]\n",
      " [ 394  326]]\n",
      "\n",
      "True negative (rating = 1): 4706\n",
      "True positive (rating = 10): 326\n",
      "False negative: 4406\n",
      "False positive: 394\n"
     ]
    }
   ],
   "source": [
    "M, N, acc = print_score(predictions, y_train, 'TRAIN')\n",
    "LGc_res.append(['Org train data\\n','Acc',acc])\n",
    "LGc_res.append(['Org train data\\n','FN',M[0][1]/N])\n",
    "LGc_res.append(['Org train data\\n','FP',M[1][0]/N])"
   ]
  },
  {
   "cell_type": "code",
   "execution_count": 97,
   "metadata": {},
   "outputs": [],
   "source": [
    "predictions = LR.predict(X_test)"
   ]
  },
  {
   "cell_type": "code",
   "execution_count": 98,
   "metadata": {},
   "outputs": [
    {
     "name": "stdout",
     "output_type": "stream",
     "text": [
      "TEST\n",
      "Acc: 0.4988524099391278\n",
      "\n",
      "Confusion matrix:\n",
      "[[4686 4686]\n",
      " [ 336  313]]\n",
      "\n",
      "True negative (rating = 1): 4686\n",
      "True positive (rating = 10): 313\n",
      "False negative: 4686\n",
      "False positive: 336\n"
     ]
    }
   ],
   "source": [
    "M, N, acc = print_score(predictions, y_test, 'TEST')\n",
    "LGc_res.append(['Org test data\\n','Acc',acc])\n",
    "LGc_res.append(['Org test data\\n','FN',M[0][1]/N])\n",
    "LGc_res.append(['Org test data\\n','FP',M[1][0]/N])"
   ]
  },
  {
   "cell_type": "markdown",
   "metadata": {},
   "source": [
    "## Stemming and stop words removal"
   ]
  },
  {
   "cell_type": "code",
   "execution_count": 194,
   "metadata": {},
   "outputs": [
    {
     "name": "stdout",
     "output_type": "stream",
     "text": [
      "Wall time: 5.81 s\n"
     ]
    }
   ],
   "source": [
    "%%time\n",
    "cv = MyCountVectorizer(min_df=5)\n",
    "cv.fit(stemmed_swr_train_df)\n",
    "\n",
    "X_train = cv.transform(stemmed_swr_train_df) \n",
    "X_test = cv.transform(stemmed_swr_test_df)"
   ]
  },
  {
   "cell_type": "code",
   "execution_count": 99,
   "metadata": {},
   "outputs": [],
   "source": [
    "Theta_beg = pd.read_csv('Theta_opt_stem_stop.csv')['Theta']"
   ]
  },
  {
   "cell_type": "code",
   "execution_count": 102,
   "metadata": {},
   "outputs": [],
   "source": [
    "LR = Logistic_Regression(max_iter=1, solver_calls=1, Theta=None, debug=False)"
   ]
  },
  {
   "cell_type": "code",
   "execution_count": 103,
   "metadata": {},
   "outputs": [
    {
     "name": "stderr",
     "output_type": "stream",
     "text": [
      "Calculating Theta:   0%|                                                                         | 0/1 [00:00<?, ?it/s]C:\\Users\\Febrin\\AppData\\Local\\Programs\\Python\\Python37\\lib\\site-packages\\ipykernel_launcher.py:10: RuntimeWarning: overflow encountered in exp\n",
      "  # Remove the CWD from sys.path while we load stuff.\n",
      "Calculating Theta: 100%|█████████████████████████████████████████████████████████████████| 1/1 [00:17<00:00, 17.15s/it]\n"
     ]
    },
    {
     "name": "stdout",
     "output_type": "stream",
     "text": [
      "Wall time: 17.2 s\n"
     ]
    }
   ],
   "source": [
    "%%time\n",
    "LR.fit(X_train, y_train)"
   ]
  },
  {
   "cell_type": "code",
   "execution_count": 104,
   "metadata": {},
   "outputs": [],
   "source": [
    "pd.DataFrame(LR.Theta, columns=['Theta']).to_csv('Theta_opt_stem_stop.csv')"
   ]
  },
  {
   "cell_type": "code",
   "execution_count": 105,
   "metadata": {},
   "outputs": [],
   "source": [
    "predictions = LR.predict(X_train)"
   ]
  },
  {
   "cell_type": "code",
   "execution_count": 106,
   "metadata": {},
   "outputs": [
    {
     "name": "stdout",
     "output_type": "stream",
     "text": [
      "STEMMED TRAIN WITHOUT STOP WORDS\n",
      "Acc: 0.5117982099267697\n",
      "\n",
      "Confusion matrix:\n",
      "[[4706 4406]\n",
      " [ 394  326]]\n",
      "\n",
      "True negative (rating = 1): 4706\n",
      "True positive (rating = 10): 326\n",
      "False negative: 4406\n",
      "False positive: 394\n"
     ]
    }
   ],
   "source": [
    "M, N, acc = print_score(predictions, y_train, 'STEMMED TRAIN WITHOUT STOP WORDS')\n",
    "LGc_res.append(['Stemmed train data\\nwithout stop words\\n','Acc',acc])\n",
    "LGc_res.append(['Stemmed train data\\nwithout stop words\\n','FN',M[0][1]/N])\n",
    "LGc_res.append(['Stemmed train data\\nwithout stop words\\n','FP',M[1][0]/N])"
   ]
  },
  {
   "cell_type": "code",
   "execution_count": 107,
   "metadata": {},
   "outputs": [],
   "source": [
    "predictions = LR.predict(X_test)"
   ]
  },
  {
   "cell_type": "code",
   "execution_count": 110,
   "metadata": {},
   "outputs": [
    {
     "name": "stdout",
     "output_type": "stream",
     "text": [
      "STEMMED TEST WITHOUT STOP WORDS\n",
      "Acc: 0.4988524099391278\n",
      "\n",
      "Confusion matrix:\n",
      "[[4686 4686]\n",
      " [ 336  313]]\n",
      "\n",
      "True negative (rating = 1): 4686\n",
      "True positive (rating = 10): 313\n",
      "False negative: 4686\n",
      "False positive: 336\n"
     ]
    }
   ],
   "source": [
    "M, N, acc = print_score(predictions, y_test, 'STEMMED TEST WITHOUT STOP WORDS')\n",
    "LGc_res.append(['Stemmed test data\\nwithout stop words\\n','Acc',acc])\n",
    "LGc_res.append(['Stemmed test data\\nwithout stop words\\n','FN',M[0][1]/N])\n",
    "LGc_res.append(['Stemmed test data\\nwithout stop words\\n','FP',M[1][0]/N])"
   ]
  },
  {
   "cell_type": "code",
   "execution_count": 111,
   "metadata": {},
   "outputs": [],
   "source": [
    "LGc_res_df = pd.DataFrame(LGc_res,columns=['Data','Y','Value'])"
   ]
  },
  {
   "cell_type": "code",
   "execution_count": 112,
   "metadata": {},
   "outputs": [
    {
     "data": {
      "text/plain": [
       "Text(0.5, 1, 'Our Linear Regression class')"
      ]
     },
     "execution_count": 112,
     "metadata": {},
     "output_type": "execute_result"
    },
    {
     "data": {
      "image/png": "[encoded data removed]",
      "text/plain": [
       "<Figure size 773.875x360 with 1 Axes>"
      ]
     },
     "metadata": {
      "needs_background": "light"
     },
     "output_type": "display_data"
    }
   ],
   "source": [
    "sns.catplot(x=\"Data\", y=\"Value\", hue=\"Y\", data=LGc_res_df,\n",
    "                height=5, aspect = 2, kind=\"bar\", palette=\"muted\")\n",
    "plt.title(\"Our Linear Regression class\")"
   ]
  },
  {
   "cell_type": "markdown",
   "metadata": {},
   "source": [
    "## Compare with sklearn Linear Regression"
   ]
  },
  {
   "cell_type": "code",
   "execution_count": 132,
   "metadata": {},
   "outputs": [
    {
     "name": "stdout",
     "output_type": "stream",
     "text": [
      "Wall time: 6.35 s\n"
     ]
    }
   ],
   "source": [
    "%%time\n",
    "cv = CountVectorizer(min_df=5)\n",
    "cv.fit(stemmed_swr_train_df.text)\n",
    "cv2 = CountVectorizer(min_df=5)\n",
    "cv2.fit(bayes_df_train.text)\n",
    "\n",
    "X_train_og = cv2.transform(bayes_df_train.text)\n",
    "X_test_og = cv2.transform(bayes_df_test.text)\n",
    "\n",
    "X_train_stem_swr = cv.transform(stemmed_swr_train_df.text)\n",
    "X_test_stem_swr = cv.transform(stemmed_swr_test_df.text)\n",
    "\n",
    "y_train = np.array(list(map(int, bayes_df_train['rating']))) // 10\n",
    "y_test = np.array(list(map(int, bayes_df_test['rating']))) // 10\n",
    "\n",
    "LG2_res = []"
   ]
  },
  {
   "cell_type": "code",
   "execution_count": 133,
   "metadata": {},
   "outputs": [
    {
     "name": "stdout",
     "output_type": "stream",
     "text": [
      "Accuracy for C=0.01: 0.9154774972557629\n",
      "Accuracy for C=0.05: 0.9246582177427403\n",
      "Accuracy for C=0.25: 0.9228619898213751\n",
      "Accuracy for C=0.5: 0.92106576190001\n",
      "Accuracy for C=1: 0.9190699530984932\n",
      "Accuracy for C=5: 0.9140804310947012\n",
      "Wall time: 10.9 s\n"
     ]
    }
   ],
   "source": [
    "%%time\n",
    "for c in [0.01, 0.05, 0.25, 0.5, 1, 5]:    \n",
    "    lr = LogisticRegression(C=c, max_iter=500, solver='lbfgs') \n",
    "    lr.fit(X_train_og, y_train)\n",
    "    print (\"Accuracy for C=%s: %s\" \n",
    "           % (c, accuracy_score(y_test, lr.predict(X_test_og))))"
   ]
  },
  {
   "cell_type": "code",
   "execution_count": 134,
   "metadata": {},
   "outputs": [
    {
     "data": {
      "text/plain": [
       "LogisticRegression(C=0.05, class_weight=None, dual=False, fit_intercept=True,\n",
       "                   intercept_scaling=1, l1_ratio=None, max_iter=500,\n",
       "                   multi_class='warn', n_jobs=None, penalty='l2',\n",
       "                   random_state=None, solver='lbfgs', tol=0.0001, verbose=0,\n",
       "                   warm_start=False)"
      ]
     },
     "execution_count": 134,
     "metadata": {},
     "output_type": "execute_result"
    }
   ],
   "source": [
    "best_C = 0.05\n",
    "best_lr = LogisticRegression(C=best_C, max_iter=500, solver='lbfgs') \n",
    "best_lr.fit(X_train_og, y_train)"
   ]
  },
  {
   "cell_type": "code",
   "execution_count": 135,
   "metadata": {},
   "outputs": [
    {
     "name": "stdout",
     "output_type": "stream",
     "text": [
      "TRAIN\n",
      "Acc: 0.9790480065093572\n",
      "\n",
      "Confusion matrix:\n",
      "[[4993   99]\n",
      " [ 107 4633]]\n",
      "\n",
      "True negative (rating = 1): 4993\n",
      "True positive (rating = 10): 4633\n",
      "False negative: 99\n",
      "False positive: 107\n"
     ]
    }
   ],
   "source": [
    "M, N, acc = print_score(best_lr.predict(X_train_og), y_train, 'TRAIN')\n",
    "LG2_res.append(['Org train data\\n','Acc',acc])\n",
    "LG2_res.append(['Org train data\\n','FN',M[0][1]/N])\n",
    "LG2_res.append(['Org train data\\n','FP',M[1][0]/N])"
   ]
  },
  {
   "cell_type": "code",
   "execution_count": 136,
   "metadata": {},
   "outputs": [
    {
     "name": "stdout",
     "output_type": "stream",
     "text": [
      "TEST\n",
      "Acc: 0.9246582177427403\n",
      "\n",
      "Confusion matrix:\n",
      "[[4618  351]\n",
      " [ 404 4648]]\n",
      "\n",
      "True negative (rating = 1): 4618\n",
      "True positive (rating = 10): 4648\n",
      "False negative: 351\n",
      "False positive: 404\n"
     ]
    }
   ],
   "source": [
    "M, N, acc = print_score(best_lr.predict(X_test_og), y_test, 'TEST')\n",
    "LG2_res.append(['Org test data\\n','Acc',acc])\n",
    "LG2_res.append(['Org test data\\n','FN',M[0][1]/N])\n",
    "LG2_res.append(['Org test data\\n','FP',M[1][0]/N])"
   ]
  },
  {
   "cell_type": "code",
   "execution_count": 137,
   "metadata": {},
   "outputs": [
    {
     "data": {
      "text/plain": [
       "LogisticRegression(C=0.05, class_weight=None, dual=False, fit_intercept=True,\n",
       "                   intercept_scaling=1, l1_ratio=None, max_iter=500,\n",
       "                   multi_class='warn', n_jobs=None, penalty='l2',\n",
       "                   random_state=None, solver='lbfgs', tol=0.0001, verbose=0,\n",
       "                   warm_start=False)"
      ]
     },
     "execution_count": 137,
     "metadata": {},
     "output_type": "execute_result"
    }
   ],
   "source": [
    "# stemmed data without stop words\n",
    "best_C = 0.05\n",
    "lrs = LogisticRegression(C=best_C, max_iter=500, solver='lbfgs') \n",
    "lrs.fit(X_train_stem_swr, y_train)"
   ]
  },
  {
   "cell_type": "code",
   "execution_count": 138,
   "metadata": {},
   "outputs": [
    {
     "name": "stdout",
     "output_type": "stream",
     "text": [
      "STEMMED TRAIN WITHOUT STOP WORDS\n",
      "Acc: 0.9736574450772986\n",
      "\n",
      "Confusion matrix:\n",
      "[[4952  111]\n",
      " [ 148 4621]]\n",
      "\n",
      "True negative (rating = 1): 4952\n",
      "True positive (rating = 10): 4621\n",
      "False negative: 111\n",
      "False positive: 148\n"
     ]
    }
   ],
   "source": [
    "M, N, acc = print_score(lrs.predict(X_train_stem_swr), y_train, 'STEMMED TRAIN WITHOUT STOP WORDS')\n",
    "LG2_res.append(['Stemmed train data\\nwithout stop words\\n','Acc',acc])\n",
    "LG2_res.append(['Stemmed train data\\nwithout stop words\\n','FN',M[0][1]/N])\n",
    "LG2_res.append(['Stemmed train data\\nwithout stop words\\n','FP',M[1][0]/N])"
   ]
  },
  {
   "cell_type": "code",
   "execution_count": 139,
   "metadata": {},
   "outputs": [
    {
     "name": "stdout",
     "output_type": "stream",
     "text": [
      "STEMMED TEST WITHOUT STOP WORDS\n",
      "Acc: 0.9215647141003892\n",
      "\n",
      "Confusion matrix:\n",
      "[[4584  348]\n",
      " [ 438 4651]]\n",
      "\n",
      "True negative (rating = 1): 4584\n",
      "True positive (rating = 10): 4651\n",
      "False negative: 348\n",
      "False positive: 438\n"
     ]
    }
   ],
   "source": [
    "M, N, acc = print_score(lrs.predict(X_test_stem_swr), y_test, 'STEMMED TEST WITHOUT STOP WORDS')\n",
    "LG2_res.append(['Stemmed test data\\nwithout stop words\\n','Acc',acc])\n",
    "LG2_res.append(['Stemmed test data\\nwithout stop words\\n','FN',M[0][1]/N])\n",
    "LG2_res.append(['Stemmed test data\\nwithout stop words\\n','FP',M[1][0]/N])"
   ]
  },
  {
   "cell_type": "code",
   "execution_count": 140,
   "metadata": {},
   "outputs": [],
   "source": [
    "LG2_res_df  = pd.DataFrame(LG2_res, columns = ['Data','Y','Value'])"
   ]
  },
  {
   "cell_type": "code",
   "execution_count": 141,
   "metadata": {},
   "outputs": [
    {
     "data": {
      "text/plain": [
       "Text(0.5, 1, 'Sklearn Linear Regression')"
      ]
     },
     "execution_count": 141,
     "metadata": {},
     "output_type": "execute_result"
    },
    {
     "data": {
      "image/png": "[encoded data removed]",
      "text/plain": [
       "<Figure size 773.875x360 with 1 Axes>"
      ]
     },
     "metadata": {
      "needs_background": "light"
     },
     "output_type": "display_data"
    }
   ],
   "source": [
    "sns.catplot(x=\"Data\", y=\"Value\", hue=\"Y\", data=LG2_res_df,\n",
    "                height=5, aspect = 2, kind=\"bar\", palette=\"muted\")\n",
    "plt.title(\"Sklearn Linear Regression\")"
   ]
  },
  {
   "cell_type": "markdown",
   "metadata": {},
   "source": [
    "## Compare out LR with sklearn's"
   ]
  },
  {
   "cell_type": "code",
   "execution_count": 142,
   "metadata": {},
   "outputs": [
    {
     "name": "stderr",
     "output_type": "stream",
     "text": [
      "C:\\Users\\Febrin\\AppData\\Local\\Programs\\Python\\Python37\\lib\\site-packages\\pandas\\core\\generic.py:5096: SettingWithCopyWarning: \n",
      "A value is trying to be set on a copy of a slice from a DataFrame.\n",
      "Try using .loc[row_indexer,col_indexer] = value instead\n",
      "\n",
      "See the caveats in the documentation: http://pandas.pydata.org/pandas-docs/stable/indexing.html#indexing-view-versus-copy\n",
      "  self[name] = value\n"
     ]
    }
   ],
   "source": [
    "A_df = LGc_res_df[LGc_res_df.Y == 'Acc']\n",
    "A_df.Y = ['Our'] * 4\n",
    "\n",
    "B_df = LG2_res_df[LG2_res_df.Y == 'Acc']\n",
    "B_df.Y = ['Sklearn'] * 4"
   ]
  },
  {
   "cell_type": "code",
   "execution_count": 143,
   "metadata": {},
   "outputs": [
    {
     "data": {
      "text/plain": [
       "Text(0.5, 1, 'Our Naive Bayes class vs Sklearn MultinomialNaiveBayes')"
      ]
     },
     "execution_count": 143,
     "metadata": {},
     "output_type": "execute_result"
    },
    {
     "data": {
      "image/png": "[encoded data removed]",
      "text/plain": [
       "<Figure size 793.625x360 with 1 Axes>"
      ]
     },
     "metadata": {
      "needs_background": "light"
     },
     "output_type": "display_data"
    }
   ],
   "source": [
    "compare_df = pd.concat([A_df,B_df])\n",
    "\n",
    "sns.catplot(x=\"Data\", y=\"Value\", hue=\"Y\", data=compare_df,\n",
    "                height=5, aspect = 2, kind=\"bar\", palette=\"muted\")\n",
    "plt.title(\"Our Naive Bayes class vs Sklearn MultinomialNaiveBayes\")"
   ]
  },
  {
   "cell_type": "markdown",
   "metadata": {},
   "source": [
    "# SVM"
   ]
  },
  {
   "cell_type": "markdown",
   "metadata": {},
   "source": [
    "## SVM class"
   ]
  },
  {
   "cell_type": "code",
   "execution_count": 80,
   "metadata": {},
   "outputs": [],
   "source": [
    "class SVM:\n",
    "    def __init__(self,C,gamma,th=1e-5):\n",
    "        self.C = C\n",
    "        self.gamma = gamma\n",
    "        self.th = th\n",
    "    def fit(self,X,y,info=False):\n",
    "        m,n = X.shape\n",
    "        \n",
    "        # kernel matrix\n",
    "        if info:\n",
    "            print(f'Calculating kernel matrix...',end='')\n",
    "        K = rbf_kernel(X,X,gamma=self.gamma)\n",
    "        \n",
    "        # setup solver\n",
    "        if info:\n",
    "            print(f'Setting solver...',end='')\n",
    "        P = cvxopt.matrix(np.outer(y,y) * K)\n",
    "        q = cvxopt.matrix(-np.ones((m, 1)))\n",
    "        G = cvxopt.matrix(np.vstack((np.eye(m)*-1,np.eye(m))))\n",
    "        h = cvxopt.matrix(np.hstack((np.zeros(m), np.ones(m) * self.C)))\n",
    "        A = cvxopt.matrix(y.reshape(1, -1))\n",
    "        b = cvxopt.matrix(np.zeros(1))\n",
    "        if info:\n",
    "            print(f'starting solver...')\n",
    "        sol = cvxopt.solvers.qp(P, q, G, h, A, b)\n",
    "        self.alphas = np.array(sol['x'])\n",
    "        \n",
    "        # getting support vectors\n",
    "        self.S = (self.alphas > self.th).reshape(-1, )\n",
    "        self.support_vextors = X[self.S]\n",
    "        self.sv_target = y[self.S]\n",
    "        \n",
    "        # getting bias\n",
    "        if info:\n",
    "            print(f'Calculating bias...',end='')\n",
    "        K_sv = rbf_kernel(self.support_vextors,self.support_vextors,gamma=self.gamma)\n",
    "        B = self.sv_target.ravel() - np.sum(K_sv * self.sv_target.ravel() * self.alphas[self.S].ravel(),axis=1)\n",
    "        self.bias = sstats.mode(B)[0][0]\n",
    "        \n",
    "        if info:\n",
    "            print(f'done')\n",
    "        \n",
    "    def predict(self,X):\n",
    "        K = rbf_kernel(X,self.support_vextors,gamma=self.gamma)\n",
    "        preds = np.sign(np.sum(K * self.sv_target.ravel() * self.alphas[self.S].ravel(),axis=1) + self.bias)\n",
    "        return preds"
   ]
  },
  {
   "cell_type": "markdown",
   "metadata": {},
   "source": [
    "## Train and test accuracy"
   ]
  },
  {
   "cell_type": "code",
   "execution_count": 81,
   "metadata": {},
   "outputs": [],
   "source": [
    "CV = MyCountVectorizer(min_df = 5)"
   ]
  },
  {
   "cell_type": "code",
   "execution_count": 82,
   "metadata": {},
   "outputs": [],
   "source": [
    "CV.fit(stemmed_swr_train_df)"
   ]
  },
  {
   "cell_type": "code",
   "execution_count": 83,
   "metadata": {},
   "outputs": [],
   "source": [
    "X_train_SVM,X_test_SVM = CV.transform(stemmed_swr_train_df),CV.transform(stemmed_swr_test_df)"
   ]
  },
  {
   "cell_type": "code",
   "execution_count": 84,
   "metadata": {},
   "outputs": [],
   "source": [
    "y_train = np.array([-1.0 if r == '1' else 1.0 for r in stemmed_swr_train_df['rating']]).reshape(-1,1)"
   ]
  },
  {
   "cell_type": "code",
   "execution_count": 85,
   "metadata": {},
   "outputs": [],
   "source": [
    "y_test = np.array([-1.0 if r == '1' else 1.0 for r in stemmed_swr_test_df['rating']]).reshape(-1,1)"
   ]
  },
  {
   "cell_type": "code",
   "execution_count": 86,
   "metadata": {},
   "outputs": [],
   "source": [
    "svm_model = SVM(1,0.04)"
   ]
  },
  {
   "cell_type": "code",
   "execution_count": 87,
   "metadata": {},
   "outputs": [
    {
     "name": "stdout",
     "output_type": "stream",
     "text": [
      "Calculating kernel matrix...Setting solver...starting solver...\n",
      "     pcost       dcost       gap    pres   dres\n",
      " 0: -3.7223e+03 -2.3382e+04  8e+04  2e+00  1e-14\n",
      " 1: -3.5168e+03 -1.5382e+04  1e+04  5e-02  1e-14\n",
      " 2: -3.7530e+03 -5.6049e+03  2e+03  7e-03  1e-14\n",
      " 3: -4.0166e+03 -4.3279e+03  3e+02  6e-04  1e-14\n",
      " 4: -4.0819e+03 -4.1240e+03  4e+01  4e-05  1e-14\n",
      " 5: -4.0932e+03 -4.0968e+03  4e+00  6e-12  1e-14\n",
      " 6: -4.0944e+03 -4.0946e+03  2e-01  7e-12  1e-14\n",
      " 7: -4.0945e+03 -4.0945e+03  6e-03  4e-12  1e-14\n",
      " 8: -4.0945e+03 -4.0945e+03  3e-04  6e-12  1e-14\n",
      "Optimal solution found.\n",
      "Calculating bias...done\n"
     ]
    }
   ],
   "source": [
    "svm_model.fit(X_train_SVM,y_train,info=True)"
   ]
  },
  {
   "cell_type": "code",
   "execution_count": 88,
   "metadata": {},
   "outputs": [],
   "source": [
    "svm_predictions = svm_model.predict(X_test_SVM)"
   ]
  },
  {
   "cell_type": "code",
   "execution_count": 89,
   "metadata": {},
   "outputs": [
    {
     "name": "stdout",
     "output_type": "stream",
     "text": [
      "Test data, SVM, rbf kernel, C=1, gamma=0.04\n",
      "Acc: 0.85340784352859\n",
      "\n",
      "Confusion matrix:\n",
      "[[4187  634]\n",
      " [ 835 4365]]\n",
      "\n",
      "True negative (rating = 1): 4187\n",
      "True positive (rating = 10): 4365\n",
      "False negative: 634\n",
      "False positive: 835\n"
     ]
    }
   ],
   "source": [
    "M,N,acc = print_score(svm_predictions,y_test.ravel(),'Test data, SVM, rbf kernel, C=1, gamma=0.04')"
   ]
  },
  {
   "cell_type": "code",
   "execution_count": null,
   "metadata": {},
   "outputs": [],
   "source": []
  }
 ],
 "metadata": {
  "file_extension": ".py",
  "kernelspec": {
   "display_name": "Python 3",
   "language": "python",
   "name": "python3"
  },
  "language_info": {
   "codemirror_mode": {
    "name": "ipython",
    "version": 3
   },
   "file_extension": ".py",
   "mimetype": "text/x-python",
   "name": "python",
   "nbconvert_exporter": "python",
   "pygments_lexer": "ipython3",
   "version": "3.7.3"
  },
  "latex_envs": {
   "LaTeX_envs_menu_present": true,
   "autoclose": false,
   "autocomplete": true,
   "bibliofile": "biblio.bib",
   "cite_by": "apalike",
   "current_citInitial": 1,
   "eqLabelWithNumbers": true,
   "eqNumInitial": 1,
   "hotkeys": {
    "equation": "Ctrl-E",
    "itemize": "Ctrl-I"
   },
   "labels_anchors": false,
   "latex_user_defs": false,
   "report_style_numbering": false,
   "user_envs_cfg": false
  },
  "mimetype": "text/x-python",
  "name": "python",
  "npconvert_exporter": "python",
  "pygments_lexer": "ipython3",
  "toc": {
   "base_numbering": 1,
   "nav_menu": {},
   "number_sections": true,
   "sideBar": true,
   "skip_h1_title": false,
   "title_cell": "Table of Contents",
   "title_sidebar": "Contents",
   "toc_cell": false,
   "toc_position": {},
   "toc_section_display": true,
   "toc_window_display": true
  },
  "version": 3
 },
 "nbformat": 4,
 "nbformat_minor": 4
}
